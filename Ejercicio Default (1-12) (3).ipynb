{
 "cells": [
  {
   "cell_type": "markdown",
   "id": "1ab0d882-61eb-492d-8964-d3453587dd91",
   "metadata": {},
   "source": [
    "# Ejercicio Default"
   ]
  },
  {
   "cell_type": "markdown",
   "id": "e19a2bfc-596c-4c48-80ac-d42fdfc3c3ad",
   "metadata": {},
   "source": [
    "#### Hecho por Juan Esteban Garzón y Nicolás Florián Ortiz"
   ]
  },
  {
   "cell_type": "code",
   "execution_count": 87,
   "id": "a46a4fc6-1586-496e-b9a3-d2f92561b3d0",
   "metadata": {},
   "outputs": [],
   "source": [
    "# Preámbulo\n",
    "\n",
    "import pandas as pd\n",
    "import yfinance as yf\n",
    "import numpy as np\n",
    "import openpyxl\n",
    "import warnings\n",
    "import matplotlib.pyplot as plt\n",
    "from sklearn.discriminant_analysis import QuadraticDiscriminantAnalysis\n",
    "from sklearn.model_selection import train_test_split\n",
    "from sklearn.metrics import accuracy_score\n",
    "from sklearn.model_selection import cross_val_score\n",
    "from sklearn.tree import DecisionTreeClassifier, plot_tree\n",
    "from sklearn.discriminant_analysis import LinearDiscriminantAnalysis\n",
    "from imblearn.over_sampling import RandomOverSampler\n",
    "from imblearn.under_sampling import RandomUnderSampler\n",
    "from sklearn.model_selection import cross_val_score\n",
    "from sklearn.metrics import make_scorer, precision_score\n",
    "from sklearn.metrics import confusion_matrix\n",
    "from sklearn.tree import DecisionTreeClassifier\n",
    "from sklearn.model_selection import train_test_split\n",
    "from sklearn.linear_model import LogisticRegression\n",
    "from sklearn.model_selection import train_test_split\n",
    "from sklearn.metrics import accuracy_score\n",
    "from sklearn.neighbors import KNeighborsClassifier\n",
    "from sklearn.metrics import accuracy_score\n",
    "import matplotlib.pyplot as plt\n",
    "from sklearn.tree import plot_tree\n",
    "from sklearn import datasets\n",
    "from sklearn.linear_model import LassoCV\n",
    "from sklearn.model_selection import train_test_split\n",
    "from scipy import stats\n",
    "from sklearn.ensemble import RandomForestClassifier\n",
    "from sklearn.model_selection import cross_val_score\n",
    "from sklearn.datasets import load_iris \n",
    "from sklearn.linear_model import RidgeCV\n",
    "import numpy as np\n",
    "from sklearn.model_selection import RandomizedSearchCV, train_test_split\n",
    "from sklearn.svm import SVC\n",
    "from sklearn.metrics import accuracy_score\n",
    "from sklearn.model_selection import KFold\n",
    "from scipy.stats import randint, expon\n",
    "\n",
    "\n",
    "\n",
    "\n",
    "#Para quitar los warnings\n",
    "warnings.filterwarnings(\"ignore\")\n"
   ]
  },
  {
   "cell_type": "markdown",
   "id": "c4a70cbd-d934-40ec-920c-4ef032af9d4e",
   "metadata": {},
   "source": [
    "Para iniciar el desarrollo del ejercicio, se filtra la base de datos seleccionada para desarrollar el ejercicio propuesto"
   ]
  },
  {
   "cell_type": "code",
   "execution_count": 7,
   "id": "e0e3e951-fb88-48d5-b502-9818d54f8c91",
   "metadata": {},
   "outputs": [],
   "source": [
    "# Importo los datos\n",
    "datos = pd.read_excel('loans.xlsx')"
   ]
  },
  {
   "cell_type": "markdown",
   "id": "fa2270c1-ab8e-434f-aee5-17e413b32da9",
   "metadata": {},
   "source": [
    "Con el objetivo de volver algunas trasnformar las variables cualitativas a cuantitativas, se propone transformar aquellas variables que:\n",
    " 1. Cuentan con dos variables: Se transforman a dummies\n",
    " 2. Cuentan con más de dos variables: Se usa la metodología “One-Hot Encodig” donde a cada tipo de respuesta en una variable se le asigna una columna  la cual a través de dummies revisa si corresponde a cada persona (No se realiza para la variable \"Grade\" dado qué se considera un efecto constante entre el cambio de niveles de riesgo)"
   ]
  },
  {
   "cell_type": "code",
   "execution_count": 9,
   "id": "b465c3bd-2bad-41bb-bc45-9617d1452e8e",
   "metadata": {},
   "outputs": [],
   "source": [
    "# Manejo de variables\n",
    "\n",
    "#Para el loan status\n",
    "dummies_loan = {'Current': 0, 'Fail': 1}\n",
    "datos['loan_status'] = datos['loan_status'].map(dummies_loan)\n",
    "\n",
    "#Para la calificación de riesgo\n",
    "num_grade = {'A': 1, 'B': 2, 'C': 3,'D':4,'E':5,'F':6,'G':7}\n",
    "datos['grade'] = datos['grade'].map(num_grade)\n",
    "\n",
    "#Para la variable \"home_ownership\"\n",
    "home_ownership_dummies = pd.get_dummies(datos['home_ownership'], prefix='home_ownership')\n",
    "home_ownership_dummies = home_ownership_dummies.astype(int)\n",
    "datos = pd.concat([datos, home_ownership_dummies], axis=1)\n",
    "datos = datos.drop(columns=['home_ownership'])\n",
    "\n",
    "#Para la variable \"verification\"\n",
    "verification_dummies = pd.get_dummies(datos['verification_status'], prefix='verification_status')\n",
    "verification_dummies = verification_dummies.astype(int)\n",
    "datos = pd.concat([datos, verification_dummies], axis=1)\n",
    "datos = datos.drop(columns=['verification_status'])\n",
    "\n",
    "#Para la issue date\n",
    "issue_d_dummies = pd.get_dummies(datos['issue_d'], prefix='issue_d')\n",
    "issue_d_dummies = issue_d_dummies.astype(int)\n",
    "datos = pd.concat([datos, issue_d_dummies], axis=1)\n",
    "datos = datos.drop(columns=['issue_d'])\n",
    "\n",
    "#Para la variable de proposito\n",
    "purpose_dummies = pd.get_dummies(datos['purpose'], prefix='purpose')\n",
    "purpose_dummies = purpose_dummies.astype(int)\n",
    "datos = pd.concat([datos, purpose_dummies], axis=1)\n",
    "datos = datos.drop(columns=['purpose'])\n",
    "\n",
    "#Para la variable \"initial_list_status\"\n",
    "dummies_initial = {'w': 0, 'f':1}\n",
    "datos['initial_list_status'] = datos['initial_list_status'].map(dummies_initial)\n",
    "\n",
    "#Para la variable \"Aplication type\"\n",
    "dummies_application = {'Individual': 0, 'Joint App':1}\n",
    "datos['application_type'] = datos['application_type'].map(dummies_application)"
   ]
  },
  {
   "cell_type": "markdown",
   "id": "fc4d4236-8a2a-41fa-8c89-3c52b7a01a88",
   "metadata": {},
   "source": [
    "Para el establecimiento de las variables dependientes e independientes del modelo, se desarrolla una \"separación\" de la base de datos donde:\n",
    " - Y: Variable dependiente que cuenta con las personas defaulters y non-defaulters\n",
    " - X: Variables independiente que cuenta con la caracteristicas de las personas\n",
    "\n",
    "Es importante recalcar qué con el objetivo de comparar y ser más correctos metodológicamente se realizó un oversampling ya que la muestra se encontraba mayormente concentrada en las personas non-defaulters que son más del 85% de los encuestados. Con base a esto, se decide remuestrear dejando la base con una proporción de 70% non - defaulters y 30% defaulters"
   ]
  },
  {
   "cell_type": "code",
   "execution_count": 10,
   "id": "e3bc7229-b847-445b-bb11-764e435e7be7",
   "metadata": {},
   "outputs": [],
   "source": [
    "# Separar características (X) y etiquetas (y)\n",
    "X = datos.iloc[:, 1:]\n",
    "y = datos.iloc[:, 0]"
   ]
  },
  {
   "cell_type": "code",
   "execution_count": 11,
   "id": "ecfb155a-1f37-4bd9-8d4d-28d7295133c3",
   "metadata": {},
   "outputs": [],
   "source": [
    "oversampler = RandomOverSampler(sampling_strategy=0.3, random_state=42)\n",
    "X_resampled, y_resampled = oversampler.fit_resample(X, y)\n",
    "\n",
    "# Eliminar filas con valores NaN en y_resampled\n",
    "resampled_data = pd.concat([X_resampled, y_resampled], axis=1)\n",
    "resampled_data = resampled_data.dropna(subset=[y_resampled.name])\n",
    "\n",
    "X_resampled = resampled_data.iloc[:, :-1]\n",
    "y_resampled = resampled_data.iloc[:, -1]\n",
    "\n",
    "# Undersampling a los 0 (Current) para alcanzar un 70%\n",
    "undersampler = RandomUnderSampler(sampling_strategy=0.7, random_state=42)\n",
    "X_resampled, y_resampled = undersampler.fit_resample(X_resampled, y_resampled)\n"
   ]
  },
  {
   "cell_type": "markdown",
   "id": "832cb2fc-291b-405d-b98b-7b2b98a11ae1",
   "metadata": {},
   "source": [
    "## 1. Evaluación de modelos QDA,Árboles y 5-NN "
   ]
  },
  {
   "cell_type": "markdown",
   "id": "b4826bcb-fde1-4477-964b-17c25d7c4818",
   "metadata": {},
   "source": [
    "El desarrollo de los modelos se dividirá en 2: Inicialmente se realizará el proceso de la muestra sin rebalancear y posteriormente de la muestra rebalanceda. Esto para identificar y comparar las diferencias entre ambos"
   ]
  },
  {
   "cell_type": "markdown",
   "id": "b5bd7549-6aeb-4e60-85a3-1849b4e80b1c",
   "metadata": {},
   "source": [
    "### 1.1 Modelo QDA"
   ]
  },
  {
   "cell_type": "markdown",
   "id": "5d310cc5-4169-4c63-ac7b-7a741c8e8ac9",
   "metadata": {},
   "source": [
    "#### Modelo QDA con muestra sin rebalancear (Natural)"
   ]
  },
  {
   "cell_type": "code",
   "execution_count": 13,
   "id": "5fe4117b-2177-496f-9723-cd77267722bc",
   "metadata": {},
   "outputs": [
    {
     "name": "stdout",
     "output_type": "stream",
     "text": [
      "El resultado de precisión a través de 10 fold CV fue: 0.7883404255319149\n",
      "El resultado de precisión a través de Presicion por 10 fold CV fue: 0.2750089842223686\n"
     ]
    }
   ],
   "source": [
    "# MODELO QDA (Natural)\n",
    "qda = QuadraticDiscriminantAnalysis()\n",
    "\n",
    "# 10 fold CV: Se usa la función de cross validation que utilizará cómo \"train\" 10 folds para compararlo con 1 folds. Esto se hará para 10 folds de testeo distintos\n",
    "scores_qda = cross_val_score(qda, X, y, cv=10)\n",
    "scores_promedios_qda = np.mean(scores_qda)\n",
    "\n",
    "\n",
    "# 10 fold CV para \"precision\"\n",
    "precision_scorer = make_scorer(precision_score, greater_is_better=True)\n",
    "puntuaciones_precision = cross_val_score(qda, X, y, cv=10, scoring=precision_scorer)\n",
    "\n",
    "\n",
    "# Resultado de precisión\n",
    "print(f\"El resultado de precisión a través de 10 fold CV fue: {scores_promedios_qda}\")\n",
    "print(f\"El resultado de precisión a través de Presicion por 10 fold CV fue: {puntuaciones_precision.mean()}\")"
   ]
  },
  {
   "cell_type": "markdown",
   "id": "842d6bb4-e7cb-4dbb-8019-a8985e739a17",
   "metadata": {},
   "source": [
    "#### Modelo QDA con muestra rebalanceada (Natural)"
   ]
  },
  {
   "cell_type": "code",
   "execution_count": 14,
   "id": "5e899228-9b78-4b19-98ad-2412eda4a072",
   "metadata": {},
   "outputs": [
    {
     "name": "stdout",
     "output_type": "stream",
     "text": [
      "El resultado de precisión a través de 10 fold CV para la muestra modificada fue: 0.6385815658963807\n",
      "El resultado de precisión a través de Presicion por 10 fold CV para la muestra modificada fue: 0.6370017971434292\n"
     ]
    }
   ],
   "source": [
    "# MODELO QDA (Oversampling)\n",
    "\n",
    "qda = QuadraticDiscriminantAnalysis()\n",
    "\n",
    "# 10 fold CV: Se usa la función de cross validation que utilizará cómo \"train\" 10 folds para compararlo con 1 folds. Esto se hará para 10 folds de testeo distintos\n",
    "scores_qda = cross_val_score(qda, X_resampled, y_resampled, cv=10)\n",
    "scores_promedios_qda = np.mean(scores_qda)\n",
    "\n",
    "\n",
    "# 10 fold CV para \"precision\"\n",
    "precision_scorer = make_scorer(precision_score, greater_is_better=True)\n",
    "puntuaciones_precision = cross_val_score(qda, X_resampled, y_resampled, cv=10, scoring=precision_scorer)\n",
    "\n",
    "\n",
    "# Resultado de precisión\n",
    "print(f\"El resultado de precisión a través de 10 fold CV para la muestra modificada fue: {scores_promedios_qda}\")\n",
    "print(f\"El resultado de precisión a través de Presicion por 10 fold CV para la muestra modificada fue: {puntuaciones_precision.mean()}\")"
   ]
  },
  {
   "cell_type": "markdown",
   "id": "0355dee1-df96-4ebe-a28b-495d4cc88b09",
   "metadata": {},
   "source": [
    "### 1.2 Árboles de clasificación"
   ]
  },
  {
   "cell_type": "markdown",
   "id": "e6f3677b-950d-44a4-8220-b94c0ee0d7fd",
   "metadata": {},
   "source": [
    "Para el desarrollo de la metodología de Árboles de clasificación se proponen 2 HP que se encuentran en la linea [4], en este se límita la cantidad de ramas que el módelo puede desarrollar, es este caso 4 y también se limita el mínimo de personas por nodo; Estos parametros se establecen para evitar overfitting, qué, en primera instancia hace que el modelo no sea tan específico dandole más precisión y además, mejora la predicción fuera de muestra"
   ]
  },
  {
   "cell_type": "markdown",
   "id": "5fa70a7c-97f4-491d-96f3-aaa7a2891dcd",
   "metadata": {},
   "source": [
    "#### Árboles de clasificación con la muestra sin rebalancear"
   ]
  },
  {
   "cell_type": "code",
   "execution_count": 15,
   "id": "880cf389-a64e-460c-beec-efd9a87c46dc",
   "metadata": {},
   "outputs": [
    {
     "name": "stdout",
     "output_type": "stream",
     "text": [
      "La precisión del árbol de clasificación a través de 10 fold CV fue de: 84.91%\n",
      "El resultado de precisión a través de Presicion por 10 fold CV fue: 58.37%\n"
     ]
    },
    {
     "data": {
      "image/png": "[encoded data removed]",
      "text/plain": [
       "<Figure size 1200x800 with 1 Axes>"
      ]
     },
     "metadata": {},
     "output_type": "display_data"
    }
   ],
   "source": [
    "# MODELO Arboles (Natural)\n",
    "\n",
    "# Uso del modelo de arboles de clasificación\n",
    "tree_classifier = DecisionTreeClassifier(max_depth=4,min_samples_leaf= 10,random_state=42)\n",
    "tree_classifier.fit(X, y)\n",
    "\n",
    "# 10 kf cross validation por accuracy\n",
    "scores_arboles = cross_val_score(tree_classifier, X, y, cv=10)\n",
    "scores_promedio_arboles = scores_arboles.mean()\n",
    "\n",
    "# 10 kf cross validation por precision\n",
    "precision_scorer = make_scorer(precision_score, greater_is_better=True)\n",
    "puntuaciones_precision_ar = cross_val_score(tree_classifier, X, y, cv=10, scoring=precision_scorer)\n",
    "\n",
    "# Resultado de precisión promedio\n",
    "print(f\"La precisión del árbol de clasificación a través de 10 fold CV fue de: {scores_promedio_arboles * 100:.2f}%\")\n",
    "print(f\"El resultado de precisión a través de Presicion por 10 fold CV fue: {puntuaciones_precision_ar.mean()* 100:.2f}%\")\n",
    "\n",
    "# Gráfica de los arboles de decisión\n",
    "plt.figure(figsize=(12, 8))\n",
    "plot_tree(tree_classifier, filled=True, feature_names=X.columns, class_names=True)\n",
    "plt.show()"
   ]
  },
  {
   "cell_type": "markdown",
   "id": "a5c1099a-2fab-4666-a467-fa2503c76c80",
   "metadata": {},
   "source": [
    "#### Árboles de clasificación con la muestra rebalanceada"
   ]
  },
  {
   "cell_type": "code",
   "execution_count": 16,
   "id": "266d3447-e5a9-4070-aa1b-e2b54c23fc70",
   "metadata": {},
   "outputs": [
    {
     "name": "stdout",
     "output_type": "stream",
     "text": [
      "La precisión del árbol de clasificación a través de 10 fold CV fue de: 73.27%\n",
      "El resultado de precisión a través de Presicion por 10 fold CV fue: 78.29%\n"
     ]
    }
   ],
   "source": [
    "# MODELO ARBOLES (Rebalanceado)\n",
    "\n",
    "# Uso del modelo de arboles de clasificación\n",
    "tree_classifier = DecisionTreeClassifier(max_depth=4,min_samples_leaf= 10,random_state=42)\n",
    "tree_classifier.fit(X_resampled, y_resampled)\n",
    "\n",
    "# 10 kf cross validation por accuracy\n",
    "scores_arboles = cross_val_score(tree_classifier, X_resampled, y_resampled, cv=10)\n",
    "scores_promedio_arboles = scores_arboles.mean()\n",
    "\n",
    "# 10 kf cross validation por precision\n",
    "precision_scorer = make_scorer(precision_score, greater_is_better=True)\n",
    "puntuaciones_precision_ar = cross_val_score(tree_classifier, X_resampled, y_resampled, cv=10, scoring=precision_scorer)\n",
    "\n",
    "# Resultado de precisión promedio\n",
    "print(f\"La precisión del árbol de clasificación a través de 10 fold CV fue de: {scores_promedio_arboles * 100:.2f}%\")\n",
    "print(f\"El resultado de precisión a través de Presicion por 10 fold CV fue: {puntuaciones_precision_ar.mean()* 100:.2f}%\")\n"
   ]
  },
  {
   "cell_type": "markdown",
   "id": "aec9705b-413f-41c6-9a5f-d4ec6e9d0e33",
   "metadata": {},
   "source": [
    "### 1.3 5-NN"
   ]
  },
  {
   "cell_type": "markdown",
   "id": "0b957caf-944d-41ba-9e14-3930f28e9a13",
   "metadata": {},
   "source": [
    "Para el desarrollo del modelo 5-NN se implementó una medida adicional de precisión: La matriz de confusión. Esto se realiza dado qué se quiere revisar a través de este modelo, cuantos falsos positivos y falsos negativos se pueden llegar a obtener, esto para comparar el resultado entre muestras."
   ]
  },
  {
   "cell_type": "markdown",
   "id": "d60e5427-b873-4992-8f52-6670afe83710",
   "metadata": {},
   "source": [
    "#### 5-NN Para la muestra sin rebalancear"
   ]
  },
  {
   "cell_type": "code",
   "execution_count": 50,
   "id": "18a51f55-b291-4d18-8985-0390fbe914f4",
   "metadata": {},
   "outputs": [
    {
     "name": "stdout",
     "output_type": "stream",
     "text": [
      "Matriz de Confusión:\n",
      "[[1939   61]\n",
      " [ 339   11]]\n",
      "Sensitividad: 0.1527777777777778\n",
      "Especificidad: 0.8511852502194908\n",
      "Falsos Positivos: 0.8472222222222222\n",
      "Falsos Negativos: 0.1488147497805092\n",
      "Precisión promedio: 0.8284255319148937\n"
     ]
    }
   ],
   "source": [
    "# MODELO 5-NN (Sin rebalancear)\n",
    "\n",
    "# Dividir los datos en entrenamiento (80%) y prueba (20%), con semilla\n",
    "x_train, x_test, y_train, y_test = train_test_split(X, y, test_size=0.2, random_state=42, stratify=y)\n",
    "\n",
    "# Entrenar el modelo k-NN con k=5\n",
    "k = 5\n",
    "knn = KNeighborsClassifier(n_neighbors=k)\n",
    "knn.fit(x_train, y_train)\n",
    "\n",
    "# prediccion\n",
    "y_pred = knn.predict(x_test)\n",
    "\n",
    "# Accuracy\n",
    "scores = cross_val_score(knn, X, y, cv=10)\n",
    "\n",
    "# Matriz de confusión\n",
    "confusion = confusion_matrix(y_test, y_pred)\n",
    "\n",
    "# Se definen las posiciones en la matriz de confusión\n",
    "tn = confusion[0, 0] #Verdaderos negativos\n",
    "fn = confusion[1, 0] #falsos negativos\n",
    "fp = confusion[0, 1] #falsos positivos\n",
    "tp = confusion[1, 1] #Verdaderos positivos\n",
    "\n",
    "sensitividad = tp / (tp + fp) #sensitividad\n",
    "especificidad = tn / (tn + fn) #especificidad\n",
    "fal_neg = fn / (fn + tn)\n",
    "fal_pos = fp / (fp + tp)\n",
    "\n",
    "# Resultados\n",
    "print(\"Matriz de Confusión:\")\n",
    "print(confusion)\n",
    "print(\"Sensitividad:\", sensitividad)\n",
    "print(\"Especificidad:\", especificidad)\n",
    "print(\"Falsos Positivos:\", fal_pos)\n",
    "print(\"Falsos Negativos:\", fal_neg)\n",
    "print(\"Precisión promedio:\", scores.mean())"
   ]
  },
  {
   "cell_type": "markdown",
   "id": "af2b1a6b-35fd-44d4-8ef8-16816d5bc9e5",
   "metadata": {},
   "source": [
    "#### 5-NN Para la muestra rebalanceada"
   ]
  },
  {
   "cell_type": "code",
   "execution_count": 51,
   "id": "6ee070cd-9ef4-4059-9a8c-50221ae4f73b",
   "metadata": {},
   "outputs": [
    {
     "name": "stdout",
     "output_type": "stream",
     "text": [
      "Matriz de Confusión:\n",
      "[[577 301]\n",
      " [278 301]]\n",
      "Sensitividad: 0.5\n",
      "Especificidad: 0.6748538011695906\n",
      "Falsos Positivos: 0.5\n",
      "Falsos Negativos: 0.32514619883040935\n",
      "Precisión promedio: 0.6090821387117684\n",
      "Precisión:  0.5230425099129056\n"
     ]
    }
   ],
   "source": [
    "# 5-NN con la muestra rebalanceda\n",
    "\n",
    "# Dividir los datos en entrenamiento (80%) y prueba (20%)\n",
    "x_train, x_test, y_train, y_test = train_test_split(X_resampled, y_resampled, test_size=0.2, random_state=42)\n",
    "\n",
    "# Entrenar el modelo k-NN con k=5\n",
    "k = 5\n",
    "knn = KNeighborsClassifier(n_neighbors=k)\n",
    "knn.fit(x_train, y_train)\n",
    "\n",
    "# predicción\n",
    "y_pred = knn.predict(x_test)\n",
    "\n",
    "# Accuracy\n",
    "scores = cross_val_score(knn, X_resampled, y_resampled, cv=10)\n",
    "# Precision\n",
    "precision_scorer = make_scorer(precision_score, greater_is_better=True)\n",
    "puntuaciones_precision = cross_val_score(knn, X_resampled, y_resampled, cv=10, scoring=precision_scorer)\n",
    "\n",
    "# Matriz de confusión\n",
    "confusion = confusion_matrix(y_test, y_pred)\n",
    "\n",
    "tn = confusion[0, 0]  # Verdaderos negativos\n",
    "fn = confusion[1, 0]  # Falsos negativos\n",
    "fp = confusion[0, 1]  # Falsos positivos\n",
    "tp = confusion[1, 1]  # Verdaderos positivos\n",
    "\n",
    "sensitividad = tp / (tp + fp)  # Sensitividad\n",
    "especificidad = tn / (tn + fn)  # Especificidad\n",
    "fal_neg = fn / (fn + tn)\n",
    "fal_pos = fp / (fp + tp)\n",
    "\n",
    "# Resultados\n",
    "print(\"Matriz de Confusión:\")\n",
    "print(confusion)\n",
    "print(\"Sensitividad:\", sensitividad)\n",
    "print(\"Especificidad:\", especificidad)\n",
    "print(\"Falsos Positivos:\", fal_pos)\n",
    "print(\"Falsos Negativos:\", fal_neg)\n",
    "print(\"Precisión promedio:\", scores.mean())\n",
    "print(\"Precisión: \", puntuaciones_precision.mean())"
   ]
  },
  {
   "cell_type": "markdown",
   "id": "bf234a57-2cfc-453a-9d79-7808e74b61c8",
   "metadata": {},
   "source": [
    "## 2. Selección de 10 variables"
   ]
  },
  {
   "cell_type": "markdown",
   "id": "ba5b3bf4-6366-4383-9281-d761d87c46ff",
   "metadata": {},
   "source": [
    "Las variables seleccionadas bajo la intuición económicapara el modelo reducido fueron las siguientes:\n",
    " - Application Type: La razón por la que se considera importante esta variable se debe a qué una aplicación conjunta puede implicar un efecto más pronunciado en la clasificación, esto dado a qué la responsabilidad financiera pasa a ser compartida, generando un apoyo mutuo en el pago del crédito solicitado. Esto implicaría que las personas que piden el préstamo por su cuenta tienden a correr más peligro dado que el peso de la obligación se vuelve individual.\n",
    " - Delinq_2yrs:  Esta variable se considera ya que puede funcionar cómo un indicador de impago en el corto plazo, que puede estar relacionado con individuos que han tenido deudas previas donde han presentado periodos de impago y que actualmente puedan estar buscando una nueva para pagar la que ya tenían presente.\n",
    " - Grade: La calificación de riesgo se considera importante ya que indica en base al historial financiero de una persona que tan factible es prestarle dinero. Si esta es considerada por el sistema cómo riesgosa, se asume qué es menos probable prestarle y a su vez, que es más probable que esta caiga en un impago o se vuelva defaulter.\n",
    " - Inq_last_12m: Esta variable al igual que “Delinq_2yrs” funciona cómo indicador de riesgo. Al considerar el número de investigaciones financieras que se le han hecho a las personas durante los últimos 12 meses, se puede identificar el número de veces que previamente un individuo ha sido potencialmente rechazado por una entidad financiera, pues tiene en cuenta las veces que este ha acudido a una entidad a solicitar algo y ha sido investigado por eso.\n",
    " - Mort_acc: Es importante ya que evalua la capacidad de pago de una persona a través de experiencias previas con hipotecas, además de que tiene en cuenta el número de propiedades que una persona tiene, las cuales bajo las condiciones de la deuda pueden ser consideradas como colaterales qué pueden ayudar a gestionar de manera más segura una deuda.\n",
    " - Pub_rec: Al buscar cuantificar esta variable la cantidad de apariciones e historial crediticio negativo como quiebras, demandas, problemas legales, embargos, entre otros; nos parece significativa y diciente esta variable frente a la posibilidad de caer en impago dado el contexto al que se enfrenta el solicitante, ya que al estar en quiebra o embargado pueda que el préstamo sea su solución sin tener las condiciones para cumplir con los pagos de cara al futuro.\n",
    " - Total_rec_int: Partiendo de la relación inversa existente entre riesgo y tasa, decidimos agregar esta variable que nos indica los intereses recibidos por la persona. Buscamos mediante esta tasa poder agregarle información al modelo sobre la probabilidad que caiga en impago por la probabilidad teniendo en cuenta que tan alta sea la tasa recibida\n",
    " - Term: Teniendo en cuenta que los créditos tienen un plazo de 36 o 60, siendo uno un poco más del doble, nos parece importante incluir esta variable debido a que las condiciones socioeconómicas del solicitante pueden tener cambios fuertes entre un plazo y otro, afectando la capacidad de pago del solicitante. Por lo que esta incertidumbre puede traducirse en aumento en la probabilidad de impago.\n",
    " - Verification_status: Decidimos incluirla ya que al no estar verificada la fuente de ingresos no se tiene certeza sobre la veracidad de esta información y la realidad del contexto financiero del solicitante.\n",
    " - Annual_inc: Consideramos importante seleccionar el ingreso como una de las variables que puede explicar de mejor manera la variable dependiente debido a que a mayor nivel de ingreso hay más facilidad de mantener ahorros o un “colchon financiero” que permita en momentos de crisis usarlo evitando así caer en impagos. A diferencia de otras situaciones socioeconómicas en la que no se tiene esa capacidad de ahorro por el nivel de ingresos, lo que aumenta la probabilidad de impago. Teniendo en cuenta que la relación ahorro-ingreso no necesariamente es lineal pero que pueda dar mejores indicios a priori sobre la posibilidad de caer en impago."
   ]
  },
  {
   "cell_type": "markdown",
   "id": "d706472d-ad59-45a2-a106-05bbe4bf1e78",
   "metadata": {},
   "source": [
    "## 3. Técnicas de ML para modelo reducido"
   ]
  },
  {
   "cell_type": "markdown",
   "id": "8278850b-4d6e-46ba-8716-c682ec6c0829",
   "metadata": {},
   "source": [
    "Para poder extraer las variables del modelo reducido se vuelven a importar los datos"
   ]
  },
  {
   "cell_type": "code",
   "execution_count": 17,
   "id": "c97483fb-cf6d-4210-a530-9b9aa9afc668",
   "metadata": {},
   "outputs": [],
   "source": [
    "# Se extraen nuevamente los datos\n",
    "datos1 = pd.read_excel('loans.xlsx')"
   ]
  },
  {
   "cell_type": "code",
   "execution_count": 18,
   "id": "9f4a8d92-167e-496d-a110-0f05cf07a941",
   "metadata": {},
   "outputs": [],
   "source": [
    "# Se seleccionan las variables que se van a utilizar del modelo de la base de datos inicial\n",
    "variables = datos1[['loan_status','annual_inc','application_type','delinq_2yrs','grade','inq_last_12m','mort_acc','pub_rec','term','total_rec_int','verification_status']]\n",
    "datos1 = pd.DataFrame(variables)\n",
    "\n",
    "# Manejo de variables del modelo reducido\n",
    "\n",
    "#Para el loan status\n",
    "dummies_loan = {'Current': 0, 'Fail': 1}\n",
    "datos1['loan_status'] = datos1['loan_status'].map(dummies_loan)\n",
    "\n",
    "#Para \"Application_type\"\n",
    "dummies_application = {'Individual': 0, 'Joint App':1}\n",
    "datos1['application_type'] = datos1['application_type'].map(dummies_application)\n",
    "\n",
    "#Para la calificación de riesgo\n",
    "num_grade = {'A': 1, 'B': 2, 'C': 3,'D':4,'E':5,'F':6,'G':7}\n",
    "datos1['grade'] = datos1['grade'].map(num_grade)\n",
    "\n",
    "#Para la variable \"verification\"\n",
    "verification_dummies = pd.get_dummies(datos1['verification_status'], prefix='verification_status')\n",
    "verification_dummies = verification_dummies.astype(int)\n",
    "datos1 = pd.concat([datos1, verification_dummies], axis=1)\n",
    "datos1 = datos1.drop(columns=['verification_status'])\n"
   ]
  },
  {
   "cell_type": "markdown",
   "id": "e000ec52-8060-4498-bdd9-66749e69d31a",
   "metadata": {},
   "source": [
    "Definición de las variables dependientes e indepenidentes"
   ]
  },
  {
   "cell_type": "code",
   "execution_count": 19,
   "id": "a0cfd01f-2617-4b24-a713-1976ab240cf3",
   "metadata": {},
   "outputs": [],
   "source": [
    "#Se definen las variables dependientes e independientes\n",
    "X_red = datos1.iloc[:, 1:]\n",
    "y_red = datos1.iloc[:, 0]\n",
    "\n",
    "# Para el modelo reducido rebalanceado\n",
    "oversampler = RandomOverSampler(sampling_strategy=0.3, random_state=42)\n",
    "X_resampled_red, y_resampled_red = oversampler.fit_resample(X_red, y_red)\n",
    "\n",
    "#Undersampling a los 0 (Current) para alcanzar un 70%\n",
    "undersampler = RandomUnderSampler(sampling_strategy=0.7, random_state=42)\n",
    "X_resampled_red, y_resampled_red = undersampler.fit_resample(X_resampled_red, y_resampled_red)"
   ]
  },
  {
   "cell_type": "markdown",
   "id": "51a5591a-49bb-4fc3-ae8b-055268e687c5",
   "metadata": {},
   "source": [
    "### 3.1 Regresión Logística"
   ]
  },
  {
   "cell_type": "code",
   "execution_count": 146,
   "id": "ec4e0358-68f9-448e-ad0f-33b5ef1491c9",
   "metadata": {},
   "outputs": [
    {
     "name": "stdout",
     "output_type": "stream",
     "text": [
      "Matriz de Confusión:\n",
      "[[2010    0]\n",
      " [ 340    0]]\n",
      "Precisión del modelo con umbral del 0.85 a través de accuracy: 0.8511489361702129\n",
      "Precisión del modelo con umbral del 0.85 a  través de precision: 0.1\n",
      "Para el modelo rebalanceado\n"
     ]
    }
   ],
   "source": [
    "# MODELO LOGIT (NATURAL)\n",
    "\n",
    "# Se entrenan los datos para poder obtener coeficientes entrenando al modelo\n",
    "X_train, X_test, y_train, y_test = train_test_split(X_red, y_red, test_size=0.2, random_state=42)\n",
    "\n",
    "# Se llama al modelo que se utilizará\n",
    "logit_reg = LogisticRegression()\n",
    "\n",
    "# Se entrenan los datos\n",
    "logit_reg.fit(X_train, y_train)\n",
    "\n",
    "# Se define el umbral y se predice en base a este umbral, clasificando como 1 a todos los que tengan una prob > 0.85\n",
    "umbral = 0.85\n",
    "y_pred_proba = logit_reg.predict_proba(X_test)[:, 1]\n",
    "y_pred_umbral = (y_pred_proba >= umbral).astype(int)\n",
    "\n",
    "# Matriz de confusión\n",
    "confusion = confusion_matrix(y_test, y_pred_umbral)\n",
    "\n",
    "# Precisión por 10 keyfold cross validation\n",
    "kf_10_logit = cross_val_score(logit_reg,X_red, y_red, cv=10)\n",
    "\n",
    "# 10 kf cross validation por precision\n",
    "precision_scorer = make_scorer(precision_score, greater_is_better=True)\n",
    "puntuaciones_precision_logred = cross_val_score(logit_reg, X_red, y_red, cv=10, scoring=precision_scorer)\n",
    "\n",
    "\n",
    "\n",
    "print(f\"Matriz de Confusión:\\n{confusion}\")\n",
    "print(f\"Precisión del modelo con umbral del {umbral} a través de accuracy: {kf_10_logit.mean()}\")\n",
    "print(f\"Precisión del modelo con umbral del {umbral} a  través de precision: {puntuaciones_precision_logred.mean()}\")\n",
    "\n",
    "print(\"Para el modelo rebalanceado\")"
   ]
  },
  {
   "cell_type": "markdown",
   "id": "249e581b-ac3b-4a41-b21d-7419c5eb891b",
   "metadata": {},
   "source": [
    "#### Modelo Logit Rebalanceado"
   ]
  },
  {
   "cell_type": "code",
   "execution_count": 63,
   "id": "6f977eaf-7ac9-4cba-8391-9b1d7f76344a",
   "metadata": {},
   "outputs": [
    {
     "name": "stdout",
     "output_type": "stream",
     "text": [
      "Matriz de Confusión:\n",
      "[[2156    0]\n",
      " [1487    0]]\n",
      "Precisión del modelo con umbral del 0.85 a través de accuracy: 0.5927297668038408\n",
      "Precisión del modelo con umbral del 0.85 a  través de precision: 0.10641013292236563\n"
     ]
    }
   ],
   "source": [
    "# Se repite el proceso con un X rebalanceado\n",
    "X_train, X_test, y_train, y_test = train_test_split(X_resampled_red, y_resampled_red, test_size=0.5, random_state=42)\n",
    "logit_reg = LogisticRegression()\n",
    "logit_reg.fit(X_train, y_train)\n",
    "\n",
    "# Se establece el mismo umbral qué en el modelo sin rebalancear (La idea es comparar)\n",
    "umbral = 0.85\n",
    "y_pred_proba = logit_reg.predict_proba(X_test)[:, 1]\n",
    "y_pred_umbral = (y_pred_proba >= umbral).astype(int)\n",
    "\n",
    "# Se sobreescribe una matriz de confusión para esta muestra\n",
    "confusion = confusion_matrix(y_test, y_pred_umbral)\n",
    "precision = accuracy_score(y_test, y_pred_umbral)\n",
    "\n",
    "# Precisión por 10 keyfold cross validation\n",
    "kf_10_logit = cross_val_score(logit_reg,X_resampled_red, y_resampled_red, cv=10)\n",
    "\n",
    "# 10 kf cross validation por precision\n",
    "precision_scorer = make_scorer(precision_score, greater_is_better=True)\n",
    "puntuaciones_precision_logred = cross_val_score(logit_reg, X_resampled_red, y_resampled_red, cv=10, scoring=precision_scorer)\n",
    "\n",
    "print(f\"Matriz de Confusión:\\n{confusion}\")\n",
    "print(f\"Precisión del modelo con umbral del {umbral} a través de accuracy: {kf_10_logit.mean()}\")\n",
    "print(f\"Precisión del modelo con umbral del {umbral} a  través de precision: {puntuaciones_precision_logred.mean()}\")\n"
   ]
  },
  {
   "cell_type": "markdown",
   "id": "026a4a51-f23b-453f-a0fb-9c0935a95d09",
   "metadata": {},
   "source": [
    "### 3.2 Árboles de clasificación"
   ]
  },
  {
   "cell_type": "markdown",
   "id": "8b994425-d874-4150-b57f-c7e644431050",
   "metadata": {},
   "source": [
    "#### Árboles de clasificación modelo sin rebalancear"
   ]
  },
  {
   "cell_type": "code",
   "execution_count": 64,
   "id": "1a9995c4-2d20-4145-a4c0-f152e417a8a4",
   "metadata": {},
   "outputs": [
    {
     "name": "stdout",
     "output_type": "stream",
     "text": [
      "La precisión del árbol de clasificación a través de 10 fold CV fue de: 84.56%\n",
      "El resultado de precisión a través de Presicion por 10 fold CV fue: 52.62%\n"
     ]
    },
    {
     "data": {
      "image/png": "[encoded data removed]",
      "text/plain": [
       "<Figure size 1200x800 with 1 Axes>"
      ]
     },
     "metadata": {},
     "output_type": "display_data"
    }
   ],
   "source": [
    "# MODELO Arboles (Natural)\n",
    "\n",
    "# Se establecen los HP\n",
    "tree_classifier = DecisionTreeClassifier(max_depth=4,min_samples_leaf= 10,random_state=42)\n",
    "tree_classifier.fit(X_red, y_red)\n",
    "\n",
    "# 10 kf cross validation por accuracy\n",
    "scores_arboles = cross_val_score(tree_classifier, X_red, y_red, cv=10)\n",
    "scores_promedio_arboles = scores_arboles.mean()\n",
    "\n",
    "# 10 kf cross validation por precision\n",
    "precision_scorer = make_scorer(precision_score, greater_is_better=True)\n",
    "puntuaciones_precision_ar = cross_val_score(tree_classifier, X_red, y_red, cv=10, scoring=precision_scorer)\n",
    "\n",
    "# Resultado de precisión promedio\n",
    "print(f\"La precisión del árbol de clasificación a través de 10 fold CV fue de: {scores_promedio_arboles * 100:.2f}%\")\n",
    "print(f\"El resultado de precisión a través de Presicion por 10 fold CV fue: {puntuaciones_precision_ar.mean()* 100:.2f}%\")\n",
    "\n",
    "# Gráfica de los arboles de decisión\n",
    "plt.figure(figsize=(12, 8))\n",
    "plot_tree(tree_classifier, filled=True, feature_names=X.columns, class_names=True)\n",
    "plt.show()\n"
   ]
  },
  {
   "cell_type": "markdown",
   "id": "516f30ce-da41-4cf8-8d7f-5474c3502d4d",
   "metadata": {},
   "source": [
    "#### Árboles de clasificación rebalanceado"
   ]
  },
  {
   "cell_type": "code",
   "execution_count": 65,
   "id": "e4f04972-2f28-4367-80c3-ab31d733254b",
   "metadata": {},
   "outputs": [
    {
     "name": "stdout",
     "output_type": "stream",
     "text": [
      "La precisión del árbol de clasificación a través de 10 fold CV fue de: 67.94%\n",
      "El resultado de precisión a través de Presicion por 10 fold CV fue: 69.22%\n"
     ]
    }
   ],
   "source": [
    "# MODELO ARBOLES (Rebalanceado)\n",
    "\n",
    "# Uso del modelo de arboles de clasificación\n",
    "tree_classifier = DecisionTreeClassifier(max_depth=4,min_samples_leaf= 10,random_state=42)\n",
    "tree_classifier.fit(X_resampled_red, y_resampled_red)\n",
    "\n",
    "# 10 kf cross validation por accuracy\n",
    "scores_arboles = cross_val_score(tree_classifier, X_resampled_red, y_resampled_red, cv=10)\n",
    "scores_promedio_arboles = scores_arboles.mean()\n",
    "\n",
    "# 10 kf cross validation por precision\n",
    "precision_scorer = make_scorer(precision_score, greater_is_better=True)\n",
    "puntuaciones_precision_ar = cross_val_score(tree_classifier, X_resampled_red, y_resampled_red, cv=10, scoring=precision_scorer)\n",
    "\n",
    "# Resultado de precisión promedio\n",
    "print(f\"La precisión del árbol de clasificación a través de 10 fold CV fue de: {scores_promedio_arboles * 100:.2f}%\")\n",
    "print(f\"El resultado de precisión a través de Presicion por 10 fold CV fue: {puntuaciones_precision_ar.mean()* 100:.2f}%\")"
   ]
  },
  {
   "cell_type": "markdown",
   "id": "475cf551-69d0-4e78-9042-21ad43852f81",
   "metadata": {},
   "source": [
    "### 3.3 KNN"
   ]
  },
  {
   "cell_type": "markdown",
   "id": "d6f897d5-4f83-4d75-946a-21dde147b67c",
   "metadata": {},
   "source": [
    "#### 1-NN modelo sin remuestrar"
   ]
  },
  {
   "cell_type": "code",
   "execution_count": 70,
   "id": "5a5bc0b8-a551-44c5-b854-096c444cf848",
   "metadata": {},
   "outputs": [
    {
     "name": "stdout",
     "output_type": "stream",
     "text": [
      "Puntuaciones de validación cruzada: [0.77191489 0.79148936 0.75744681 0.7693617  0.7506383  0.76680851\n",
      " 0.76340426 0.73957447 0.76851064 0.76340426]\n",
      "Accurracy promedio: 0.7642553191489363\n",
      "Precisión promedio 0.19782842122819616\n"
     ]
    }
   ],
   "source": [
    "#1-NN\n",
    "# Dividir los datos en entrenamiento (20%) y prueba (80%), con semilla\n",
    "x_train, x_test, y_train, y_test = train_test_split(X_red, y_red, test_size=0.2, random_state=42)\n",
    "\n",
    "# Entrenar el modelo k-NN con k=1\n",
    "k = 1\n",
    "knn = KNeighborsClassifier(n_neighbors=k)\n",
    "knn.fit(x_train, y_train)\n",
    "\n",
    "# prediccion\n",
    "y_pred = knn.predict(x_test)\n",
    "\n",
    "# Accuracy\n",
    "scores = cross_val_score(knn, X_red, y_red, cv=10)\n",
    "\n",
    "# Precision\n",
    "precision_scorer = make_scorer(precision_score, greater_is_better=True)\n",
    "puntuaciones_precision = cross_val_score(knn, X_red, y_red, cv=10, scoring=precision_scorer)\n",
    "\n",
    "print(\"Puntuaciones de validación cruzada:\", scores)\n",
    "print(\"Accurracy promedio:\", scores.mean())\n",
    "print(\"Precisión promedio\", puntuaciones_precision.mean())"
   ]
  },
  {
   "cell_type": "markdown",
   "id": "daaae380-3836-4de2-b609-b05c5c8f0894",
   "metadata": {},
   "source": [
    "#### 1-NN modelo con remuestreo"
   ]
  },
  {
   "cell_type": "code",
   "execution_count": 67,
   "id": "85c5f337-7962-4398-9b0e-97150d968c32",
   "metadata": {},
   "outputs": [
    {
     "name": "stdout",
     "output_type": "stream",
     "text": [
      "Puntuaciones de validación cruzada: [0.69135802 0.69135802 0.70919067 0.68998628 0.69410151 0.67994505\n",
      " 0.82005495 0.81593407 0.80906593 0.80769231]\n",
      "Accurracy promedio: 0.7408686820723858\n",
      "Precisión promedio 0.674029703452834\n"
     ]
    }
   ],
   "source": [
    "#1-NN\n",
    "# Dividir los datos en entrenamiento (20%) y prueba (80%), con semilla\n",
    "x_train, x_test, y_train, y_test = train_test_split(X_resampled_red, y_resampled_red, test_size=0.2, random_state=42)\n",
    "\n",
    "# Entrenar el modelo k-NN con k=1\n",
    "k = 1\n",
    "knn = KNeighborsClassifier(n_neighbors=k)\n",
    "knn.fit(x_train, y_train)\n",
    "\n",
    "# prediccion\n",
    "y_pred = knn.predict(x_test)\n",
    "\n",
    "# Accuracy\n",
    "scores = cross_val_score(knn, X_resampled, y_resampled_red, cv=10)\n",
    "\n",
    "# Precision\n",
    "precision_scorer = make_scorer(precision_score, greater_is_better=True)\n",
    "puntuaciones_precision = cross_val_score(knn, X_resampled_red, y_resampled_red, cv=10, scoring=precision_scorer)\n",
    "\n",
    "print(\"Puntuaciones de validación cruzada:\", scores)\n",
    "print(\"Accurracy promedio:\", scores.mean())\n",
    "print(\"Precisión promedio\", puntuaciones_precision.mean())"
   ]
  },
  {
   "cell_type": "markdown",
   "id": "4996d5bf-8870-4cec-880e-926a5d2ad13d",
   "metadata": {},
   "source": [
    "#### 5-NN modelo sin remuestrar"
   ]
  },
  {
   "cell_type": "code",
   "execution_count": 71,
   "id": "707027fc-9a46-4206-9ee7-9efc33be644d",
   "metadata": {},
   "outputs": [
    {
     "name": "stdout",
     "output_type": "stream",
     "text": [
      "Puntuaciones de validación cruzada: [0.83234043 0.8493617  0.84170213 0.83148936 0.83659574 0.84340426\n",
      " 0.84       0.83489362 0.84170213 0.83319149]\n",
      "Accurracy promedio: 0.8384680851063828\n",
      "Precisión promedio: 0.35184969643184194\n"
     ]
    }
   ],
   "source": [
    "#5-NN\n",
    "\n",
    "# Dividir los datos en entrenamiento (20%) y prueba (80%), con semilla\n",
    "x_train, x_test, y_train, y_test = train_test_split(X_red, y_red, test_size=0.2, random_state=42)\n",
    "\n",
    "# Entrenar el modelo k-NN con k=1\n",
    "k = 5\n",
    "knn = KNeighborsClassifier(n_neighbors=k)\n",
    "knn.fit(x_train, y_train)\n",
    "\n",
    "# prediccion\n",
    "y_pred = knn.predict(x_test)\n",
    "\n",
    "# Accuracy\n",
    "scores = cross_val_score(knn, X_red, y_red, cv=10)\n",
    "# Precision\n",
    "precision_scorer = make_scorer(precision_score, greater_is_better=True)\n",
    "puntuaciones_precision = cross_val_score(knn, X_red, y_red, cv=10, scoring=precision_scorer)\n",
    "\n",
    "print(\"Puntuaciones de validación cruzada:\", scores)\n",
    "print(\"Accurracy promedio:\", scores.mean())\n",
    "print(\"Precisión promedio:\", puntuaciones_precision.mean())"
   ]
  },
  {
   "cell_type": "markdown",
   "id": "dcedab0a-3ded-4e14-845f-b518982d49fb",
   "metadata": {},
   "source": [
    "#### 5-NN modelo remuestrado"
   ]
  },
  {
   "cell_type": "code",
   "execution_count": 69,
   "id": "61ffdc02-cc01-434e-9287-1822a628d469",
   "metadata": {},
   "outputs": [
    {
     "name": "stdout",
     "output_type": "stream",
     "text": [
      "Puntuaciones de validación cruzada: [0.55829904 0.57201646 0.59670782 0.56790123 0.58710562 0.60027473\n",
      " 0.67445055 0.66071429 0.65384615 0.61950549]\n",
      "Accurracy promedio: 0.6090821387117684\n",
      "Precisión promedio: 0.5746070224510309\n"
     ]
    }
   ],
   "source": [
    "#5-NN\n",
    "\n",
    "# Dividir los datos en entrenamiento (20%) y prueba (80%), con semilla\n",
    "x_train, x_test, y_train, y_test = train_test_split(X_resampled_red, y_resampled_red, test_size=0.2, random_state=42)\n",
    "\n",
    "# Entrenar el modelo k-NN con k=1\n",
    "k = 5\n",
    "knn = KNeighborsClassifier(n_neighbors=k)\n",
    "knn.fit(x_train, y_train)\n",
    "\n",
    "# prediccion\n",
    "y_pred = knn.predict(x_test)\n",
    "\n",
    "# Accuracy\n",
    "scores = cross_val_score(knn, X_resampled, y_resampled_red, cv=10)\n",
    "# Precision\n",
    "precision_scorer = make_scorer(precision_score, greater_is_better=True)\n",
    "puntuaciones_precision = cross_val_score(knn, X_resampled_red, y_resampled_red, cv=10, scoring=precision_scorer)\n",
    "\n",
    "print(\"Puntuaciones de validación cruzada:\", scores)\n",
    "print(\"Accurracy promedio:\", scores.mean())\n",
    "print(\"Precisión promedio:\", puntuaciones_precision.mean())"
   ]
  },
  {
   "cell_type": "markdown",
   "id": "0b9eb58e-8697-4311-a75d-7f617866129b",
   "metadata": {},
   "source": [
    "## 4.Selección de variables a través de la estadística"
   ]
  },
  {
   "cell_type": "markdown",
   "id": "08393993-c463-4e69-9017-21c86e887444",
   "metadata": {},
   "source": [
    "Para la selección de las variables a través de la estadística se utilizaron inicialmente 2 modelos: Logit y Lasso. La razón de esto es que a través del modelo Logit se busca conocer la significancia de las variables del modelo, esto para comparar y dejar con las variables que coincidan con el modelo de Lasso. Después se comprueba con métodos que establecen que K es mejor"
   ]
  },
  {
   "cell_type": "markdown",
   "id": "9c21b242-b193-4c0c-987e-9cfb4c6ff5e5",
   "metadata": {},
   "source": [
    "#### Modelo Logit"
   ]
  },
  {
   "cell_type": "code",
   "execution_count": 73,
   "id": "93208717-c486-4ce9-a250-4fc517f6c8ad",
   "metadata": {},
   "outputs": [
    {
     "name": "stdout",
     "output_type": "stream",
     "text": [
      "Optimization terminated successfully.\n",
      "         Current function value: 0.330783\n",
      "         Iterations 9\n",
      "                           Logit Regression Results                           \n",
      "==============================================================================\n",
      "Dep. Variable:            loan_status   No. Observations:                11750\n",
      "Model:                          Logit   Df Residuals:                    11697\n",
      "Method:                           MLE   Df Model:                           52\n",
      "Date:                Sat, 28 Oct 2023   Pseudo R-squ.:                  0.2140\n",
      "Time:                        23:01:09   Log-Likelihood:                -3886.7\n",
      "converged:                       True   LL-Null:                       -4945.1\n",
      "Covariance Type:            nonrobust   LLR p-value:                     0.000\n",
      "=======================================================================================================\n",
      "                                          coef    std err          z      P>|z|      [0.025      0.975]\n",
      "-------------------------------------------------------------------------------------------------------\n",
      "term                                    0.0188      0.004      5.210      0.000       0.012       0.026\n",
      "installment                             0.0041      0.000     22.718      0.000       0.004       0.004\n",
      "grade                                   0.6383      0.034     18.690      0.000       0.571       0.705\n",
      "annual_inc                             3.3e-07   7.24e-07      0.456      0.648   -1.09e-06    1.75e-06\n",
      "delinq_2yrs                             0.0754      0.029      2.564      0.010       0.018       0.133\n",
      "earliest_cr_line                       -0.0035      0.004     -0.818      0.413      -0.012       0.005\n",
      "inq_last_6mths                          0.1226      0.041      3.007      0.003       0.043       0.202\n",
      "pub_rec                                -0.0230      0.054     -0.421      0.674      -0.130       0.084\n",
      "revol_bal                            3.483e-06   1.83e-06      1.907      0.057   -9.66e-08    7.06e-06\n",
      "total_acc                              -0.0042      0.008     -0.537      0.591      -0.020       0.011\n",
      "initial_list_status                    -0.0269      0.076     -0.352      0.725      -0.177       0.123\n",
      "total_rec_prncp                        -0.0005      0.000     -4.805      0.000      -0.001      -0.000\n",
      "total_rec_int                          -0.0061      0.000    -24.527      0.000      -0.007      -0.006\n",
      "application_type                        0.3254      0.093      3.513      0.000       0.144       0.507\n",
      "tot_cur_bal                           1.07e-08   2.99e-07      0.036      0.971   -5.76e-07    5.97e-07\n",
      "open_acc_6m                             0.0028      0.039      0.070      0.944      -0.074       0.080\n",
      "open_act_il                            -0.0032      0.013     -0.240      0.810      -0.029       0.023\n",
      "open_il_12m                            -0.0246      0.051     -0.480      0.631      -0.125       0.076\n",
      "open_il_24m                             0.0350      0.030      1.182      0.237      -0.023       0.093\n",
      "total_bal_il                        -1.582e-07   9.75e-07     -0.162      0.871   -2.07e-06    1.75e-06\n",
      "open_rv_12m                            -0.0556      0.035     -1.583      0.113      -0.124       0.013\n",
      "open_rv_24m                             0.0319      0.019      1.639      0.101      -0.006       0.070\n",
      "max_bal_bc                           2.163e-06   8.11e-06      0.267      0.790   -1.37e-05    1.81e-05\n",
      "inq_fi                                 -0.0127      0.024     -0.524      0.600      -0.060       0.035\n",
      "total_cu_tl                             0.0360      0.012      3.049      0.002       0.013       0.059\n",
      "inq_last_12m                            0.0074      0.017      0.435      0.663      -0.026       0.041\n",
      "mo_sin_rcnt_rev_tl_op                   0.0021      0.002      0.993      0.321      -0.002       0.006\n",
      "mo_sin_rcnt_tl                          0.0007      0.004      0.180      0.857      -0.007       0.009\n",
      "mort_acc                                0.0055      0.026      0.213      0.832      -0.045       0.056\n",
      "num_accts_ever_120_pd                   0.0133      0.019      0.689      0.491      -0.024       0.051\n",
      "num_actv_bc_tl                         -0.0017      0.018     -0.093      0.926      -0.038       0.034\n",
      "num_bc_tl                              -0.0021      0.015     -0.135      0.893      -0.032       0.028\n",
      "num_il_tl                              -0.0028      0.010     -0.278      0.781      -0.023       0.017\n",
      "pub_rec_bankruptcies                   -0.2412      0.104     -2.311      0.021      -0.446      -0.037\n",
      "total_bc_limit                       -7.54e-06   2.43e-06     -3.108      0.002   -1.23e-05   -2.79e-06\n",
      "home_ownership_MORTGAGE                 0.8188        nan        nan        nan         nan         nan\n",
      "home_ownership_OWN                      0.7929        nan        nan        nan         nan         nan\n",
      "home_ownership_RENT                     0.6835        nan        nan        nan         nan         nan\n",
      "verification_status_Not Verified        0.6450        nan        nan        nan         nan         nan\n",
      "verification_status_Source Verified     0.8078        nan        nan        nan         nan         nan\n",
      "verification_status_Verified            0.8423        nan        nan        nan         nan         nan\n",
      "issue_d_2017-07-01 00:00:00             2.3726        nan        nan        nan         nan         nan\n",
      "issue_d_2017-08-01 00:00:00             0.8689        nan        nan        nan         nan         nan\n",
      "issue_d_2017-09-01 00:00:00            -0.9464        nan        nan        nan         nan         nan\n",
      "purpose_car                             0.2757        nan        nan        nan         nan         nan\n",
      "purpose_credit_card                    -0.1157        nan        nan        nan         nan         nan\n",
      "purpose_debt_consolidation             -0.0747        nan        nan        nan         nan         nan\n",
      "purpose_home_improvement               -0.1278        nan        nan        nan         nan         nan\n",
      "purpose_house                          -0.4515        nan        nan        nan         nan         nan\n",
      "purpose_major_purchase                  0.2157        nan        nan        nan         nan         nan\n",
      "purpose_medical                         0.3257        nan        nan        nan         nan         nan\n",
      "purpose_moving                         -0.1304        nan        nan        nan         nan         nan\n",
      "purpose_other                           0.1471        nan        nan        nan         nan         nan\n",
      "purpose_renewable_energy                1.8753        nan        nan        nan         nan         nan\n",
      "purpose_small_business                  0.1973        nan        nan        nan         nan         nan\n",
      "purpose_vacation                        0.1584        nan        nan        nan         nan         nan\n",
      "=======================================================================================================\n",
      "La precisión del modelo a través de keyfold fue de : 0.8494468085106384\n"
     ]
    }
   ],
   "source": [
    "import statsmodels.api as sm\n",
    "\n",
    "# Se establece el modelo logit en una variable\n",
    "logit_reg_significacia = LogisticRegression()\n",
    "\n",
    "#Con las matrices de X y Y creadas previamente revisamos el ajuste del modelo por su resumen\n",
    "modelo_logit = sm.Logit(y,datos.iloc[:, 1:])\n",
    "resultado = modelo_logit.fit()\n",
    "print(resultado.summary())\n",
    "\n",
    "# Accuracy del modelo\n",
    "kf_10_logit_ac = cross_val_score(logit_reg_significacia, datos.iloc[:, 1:], y, cv=10)\n",
    "scores_promedios_logit_ac = np.mean(kf_10_logit_ac)\n",
    "print(f\"La precisión del modelo a través de keyfold fue de : {scores_promedios_logit_ac}\")"
   ]
  },
  {
   "cell_type": "markdown",
   "id": "6be9e95f-31b4-4a79-980e-fb027a779ba2",
   "metadata": {},
   "source": [
    "#### Modelo Lasso"
   ]
  },
  {
   "cell_type": "markdown",
   "id": "5ccc9d0f-96f1-4719-b3f6-2475b973300a",
   "metadata": {},
   "source": [
    "Para el módelo Lasso, se van a seleccionar únicamente los 10 coeficientes más altos"
   ]
  },
  {
   "cell_type": "code",
   "execution_count": 78,
   "id": "7c5b9314-db6f-4cc0-8db1-6a31f22fa6ad",
   "metadata": {},
   "outputs": [
    {
     "name": "stdout",
     "output_type": "stream",
     "text": [
      "                               Variable   Coeficiente\n",
      "41          issue_d_2017-07-01 00:00:00  1.647787e-01\n",
      "43          issue_d_2017-09-01 00:00:00 -1.418979e-01\n",
      "2                                 grade  8.261148e-02\n",
      "13                     application_type  3.162209e-02\n",
      "45                  purpose_credit_card -2.146148e-02\n",
      "46           purpose_debt_consolidation -2.034568e-02\n",
      "33                 pub_rec_bankruptcies -1.613529e-02\n",
      "47             purpose_home_improvement -1.352410e-02\n",
      "4                           delinq_2yrs  1.078872e-02\n",
      "38     verification_status_Not Verified -9.685948e-03\n",
      "6                        inq_last_6mths  7.184099e-03\n",
      "20                          open_rv_12m -6.744672e-03\n",
      "49               purpose_major_purchase  6.290346e-03\n",
      "37                  home_ownership_RENT -5.283055e-03\n",
      "21                          open_rv_24m  3.731997e-03\n",
      "24                          total_cu_tl  3.326489e-03\n",
      "30                       num_actv_bc_tl -3.274301e-03\n",
      "7                               pub_rec -2.850665e-03\n",
      "0                                  term  1.934908e-03\n",
      "15                          open_acc_6m  1.863655e-03\n",
      "25                         inq_last_12m  1.504176e-03\n",
      "23                               inq_fi -8.508676e-04\n",
      "40         verification_status_Verified  7.569018e-04\n",
      "18                          open_il_24m  6.230980e-04\n",
      "12                        total_rec_int -6.187197e-04\n",
      "26                mo_sin_rcnt_rev_tl_op  4.230266e-04\n",
      "1                           installment  4.147526e-04\n",
      "27                       mo_sin_rcnt_tl -2.386899e-04\n",
      "5                      earliest_cr_line -1.949419e-04\n",
      "32                            num_il_tl -1.878658e-04\n",
      "9                             total_acc -1.327672e-04\n",
      "11                      total_rec_prncp -2.133420e-05\n",
      "22                           max_bal_bc -6.591613e-07\n",
      "8                             revol_bal  3.254955e-07\n",
      "34                       total_bc_limit -2.778335e-07\n",
      "19                         total_bal_il -1.016684e-07\n",
      "3                            annual_inc  3.341157e-08\n",
      "14                          tot_cur_bal  1.732135e-08\n",
      "48                        purpose_house -0.000000e+00\n",
      "54               purpose_small_business  0.000000e+00\n",
      "51                       purpose_moving -0.000000e+00\n",
      "53             purpose_renewable_energy  0.000000e+00\n",
      "52                        purpose_other  0.000000e+00\n",
      "50                      purpose_medical  0.000000e+00\n",
      "28                             mort_acc -0.000000e+00\n",
      "44                          purpose_car  0.000000e+00\n",
      "42          issue_d_2017-08-01 00:00:00  0.000000e+00\n",
      "39  verification_status_Source Verified -0.000000e+00\n",
      "36                   home_ownership_OWN  0.000000e+00\n",
      "35              home_ownership_MORTGAGE  0.000000e+00\n",
      "31                            num_bc_tl -0.000000e+00\n",
      "29                num_accts_ever_120_pd  0.000000e+00\n",
      "17                          open_il_12m  0.000000e+00\n",
      "16                          open_act_il -0.000000e+00\n",
      "10                  initial_list_status -0.000000e+00\n",
      "55                     purpose_vacation  0.000000e+00\n"
     ]
    }
   ],
   "source": [
    "# Divide tus datos en conjuntos de entrenamiento y prueba\n",
    "X_train, X_test, y_train, y_test = train_test_split(X, y, test_size=0.2, random_state=1)\n",
    "\n",
    "# Crea un modelo de regresión Lasso con validación cruzada\n",
    "lasso = LassoCV(alphas=[0.001, 0.01, 0.1, 1.0, 10.0], cv=10)\n",
    "\n",
    "# Ajusta el modelo a los datos de entrenamiento\n",
    "lasso.fit(X_train, y_train)\n",
    "\n",
    "# Significancia\n",
    "c = 0 \n",
    "# Obtén los residuos\n",
    "residuals = y_train - lasso.predict(X_train)\n",
    "# Calcula el error estándar de los coeficientes\n",
    "mse = (residuals ** 2).mean()\n",
    "se = (mse / ((X_train ** 2).sum(axis=0)) ** 0.5)\n",
    "# Calcula el estadístico t y el p-valor\n",
    "t_stat = (lasso.coef_ - c) / se\n",
    "p_values = 2 * (1 - stats.norm.cdf(abs(t_stat)))\n",
    "\n",
    "#nivel de significancia\n",
    "alfa = 0.05\n",
    "# Encuentra las variables significativas\n",
    "variables_significativas = list(X_train.columns[p_values < alfa])\n",
    "\n",
    "\n",
    "# Obtén los coeficientes y nombres de las variables\n",
    "coefficients = lasso.coef_\n",
    "variable_names = X_train.columns\n",
    "\n",
    "# Crea un DataFrame para organizar los coeficientes y nombres de las variables\n",
    "coefficients_df = pd.DataFrame({'Variable': variable_names, 'Coeficiente': coefficients})\n",
    "\n",
    "# Ordena el DataFrame por el valor absoluto del coeficiente de mayor a menor\n",
    "coefficients_df = coefficients_df.reindex(coefficients_df['Coeficiente'].abs().sort_values(ascending=False).index)\n",
    "\n",
    "# Imprime el DataFrame ordenado\n",
    "print(coefficients_df)"
   ]
  },
  {
   "cell_type": "markdown",
   "id": "465b63fb-c60c-4286-8f2f-7ad30d479358",
   "metadata": {},
   "source": [
    "Para complementar y soportar las variables seleccionadas, se hizo uso de Forward Elimination y de Correlación de Pearson"
   ]
  },
  {
   "cell_type": "markdown",
   "id": "db961d25-aed7-4fb7-8549-3fe53aa5a1eb",
   "metadata": {},
   "source": [
    "#### Forward Elimination"
   ]
  },
  {
   "cell_type": "code",
   "execution_count": 76,
   "id": "48454e0f-78fe-4fe0-9ac0-184a9db217b0",
   "metadata": {},
   "outputs": [
    {
     "name": "stdout",
     "output_type": "stream",
     "text": [
      "Características seleccionadas: ['term', 'installment', 'grade', 'annual_inc', 'delinq_2yrs', 'pub_rec', 'total_acc', 'total_rec_prncp', 'total_rec_int', 'open_act_il', 'open_il_12m', 'total_bal_il', 'open_rv_12m', 'open_rv_24m', 'total_cu_tl', 'inq_last_12m', 'mort_acc', 'num_accts_ever_120_pd', 'num_actv_bc_tl', 'num_bc_tl', 'pub_rec_bankruptcies', 'total_bc_limit', 'home_ownership_MORTGAGE', 'home_ownership_OWN', 'home_ownership_RENT', 'verification_status_Not Verified', 'verification_status_Source Verified', 'verification_status_Verified', 'issue_d_2017-07-01 00:00:00', 'issue_d_2017-08-01 00:00:00', 'purpose_debt_consolidation', 'purpose_home_improvement', 'purpose_major_purchase', 'purpose_medical', 'purpose_renewable_energy', 'purpose_small_business', 'purpose_vacation']\n"
     ]
    }
   ],
   "source": [
    "from scipy.stats import pearsonr\n",
    "from sklearn.feature_selection import RFE\n",
    "from sklearn.linear_model import LinearRegression\n",
    "from sklearn.ensemble import RandomForestClassifier\n",
    "from sklearn.model_selection import train_test_split\n",
    "from sklearn.linear_model import LinearRegression\n",
    "from sklearn.metrics import mean_squared_error\n",
    "\n",
    "\n",
    "# Dividir los datos en entrenamiento y prueba\n",
    "X_train, X_test, y_train, y_test = train_test_split(X, y, test_size=0.2, random_state=42)\n",
    "\n",
    "# Se crea un conjunto vacio que tendrá las caracteristicas\n",
    "selected_features = []\n",
    "\n",
    "# Inicializar el mejor error con un valor alto\n",
    "best_error = float('inf')\n",
    "\n",
    "# Inicializar el mejor modelo como None\n",
    "best_model = None\n",
    "\n",
    "# Iterar sobre las características\n",
    "for feature in X.columns:\n",
    "    # Agregar la característica al conjunto de características seleccionadas\n",
    "    selected_features.append(feature)\n",
    "\n",
    "    # Entrenar un modelo con las características seleccionadas\n",
    "    model = LinearRegression()\n",
    "    model.fit(X_train[selected_features], y_train)\n",
    "\n",
    "    # Realizar predicciones en el conjunto de prueba\n",
    "    y_pred = model.predict(X_test[selected_features])\n",
    "\n",
    "    # Calcular el error (por ejemplo, el error cuadrático medio)\n",
    "    error = mean_squared_error(y_test, y_pred)\n",
    "\n",
    "    # Si el error es mejor que el mejor error actual\n",
    "    if error < best_error:\n",
    "        best_error = error\n",
    "        best_model = model\n",
    "\n",
    "    # Si el error no mejora, retirar la última característica agregada\n",
    "    else:\n",
    "        selected_features.remove(feature)\n",
    "\n",
    "# Al final del bucle, 'selected_features' contendrá las características seleccionadas\n",
    "print(\"Características seleccionadas:\", selected_features)"
   ]
  },
  {
   "cell_type": "markdown",
   "id": "db949ac3-e275-443d-ab06-50a8ec0d62cd",
   "metadata": {},
   "source": [
    "#### Correlación de Pearson"
   ]
  },
  {
   "cell_type": "code",
   "execution_count": 79,
   "id": "f3e8a54d-71cb-4dca-ba0a-36c168e51bef",
   "metadata": {},
   "outputs": [
    {
     "name": "stdout",
     "output_type": "stream",
     "text": [
      "['grade', 'issue_d_2017-07-01 00:00:00', 'verification_status_Not Verified', 'issue_d_2017-09-01 00:00:00', 'total_rec_int', 'inq_last_6mths', 'verification_status_Verified', 'total_rec_prncp', 'inq_last_12m', 'total_bc_limit']\n"
     ]
    }
   ],
   "source": [
    "# Correlación de pearson\n",
    "\n",
    "correlations = {}\n",
    "for column in X.columns:\n",
    "    correlations[column] = abs(pearsonr(X[column], y)[0])\n",
    "\n",
    "top_10_variables_pearson = sorted(correlations, key=correlations.get, reverse=True)[:10]\n",
    "\n",
    "print(top_10_variables_pearson)\n"
   ]
  },
  {
   "cell_type": "markdown",
   "id": "17efba4f-7bde-4d65-81d8-575f28d31b19",
   "metadata": {},
   "source": [
    "## 5.Modelo de Ridge"
   ]
  },
  {
   "cell_type": "markdown",
   "id": "149bff99-5e7e-48c4-9c0b-87a443682bc3",
   "metadata": {},
   "source": [
    "Ya que para el modelo Ridge se requiere una estandarización de las variables para que queden en la misma magnitud y se tengan en cuenta aquellas con valores más altos, se inicia estandarizando la matriz X"
   ]
  },
  {
   "cell_type": "code",
   "execution_count": 30,
   "id": "6b3ffea1-a7d1-4333-b2a8-98e3295c7fa9",
   "metadata": {},
   "outputs": [],
   "source": [
    "# Estandarización de la variable X: Para que todo esté en una misma magnitud, las variables se estandarizaran\n",
    "\n",
    "#Para no modificar la variable X inicial, se establece en un data frame aparte\n",
    "df_x = pd.DataFrame(X)\n",
    "\n",
    "#Se crea un data frame vacio con el objetivo de guardar las variables estandarizadas\n",
    "X_estandarizada = pd.DataFrame()\n",
    "\n",
    "#Función para estandarizar cada columna\n",
    "def estandarizador(columna):\n",
    "    prom = columna.mean()\n",
    "    std_desv = columna.std()\n",
    "    return (columna - prom) / std_desv\n",
    "\n",
    "#A través de un \"for\" se estandariza cada columna guardado cada valor en el df vacio\n",
    "for columna in df_x.columns:\n",
    "    X_estandarizada[columna] = estandarizador(df_x[columna])"
   ]
  },
  {
   "cell_type": "markdown",
   "id": "8efec6b0-ab8a-4e4a-8c08-da21673c0b5f",
   "metadata": {},
   "source": [
    "### 5.1 Modelo de Ridge con todas las variables"
   ]
  },
  {
   "cell_type": "markdown",
   "id": "91e675cc-a8f0-4d97-8171-06d4985403b7",
   "metadata": {},
   "source": [
    "#### Selección de lambda"
   ]
  },
  {
   "cell_type": "markdown",
   "id": "1075fe90-de57-4624-953f-9e70a08fe846",
   "metadata": {},
   "source": [
    "Se realiza un código el cual estima la precisión promedio por 10 kf cv para cada lambda y selecciona aquel que más precisión tenga"
   ]
  },
  {
   "cell_type": "code",
   "execution_count": 32,
   "id": "99d39107-1ad4-4139-94f9-adb79e7eb6d1",
   "metadata": {},
   "outputs": [
    {
     "name": "stdout",
     "output_type": "stream",
     "text": [
      "    Lambda  Accuracy Promedio\n",
      "0        1           0.851574\n",
      "1        2           0.851574\n",
      "2        3           0.851574\n",
      "3        4           0.851574\n",
      "4        5           0.851574\n",
      "..     ...                ...\n",
      "94      95           0.851574\n",
      "95      96           0.851574\n",
      "96      97           0.851574\n",
      "97      98           0.851574\n",
      "98      99           0.851574\n",
      "\n",
      "[99 rows x 2 columns]\n",
      "El lambda del modelo con las variables completas es: 23 con un accuray de :0.851659574468085\n"
     ]
    }
   ],
   "source": [
    "# Se establece el rango de los lambda\n",
    "numeros = list(range(1, 100))\n",
    "\n",
    "# Definir lambdas\n",
    "lambdas = numeros\n",
    "\n",
    "# Crear DataFrame df con X_estandarizada y y\n",
    "df = pd.concat([y, X_estandarizada], axis=1)\n",
    "\n",
    "# Inicializar lista para almacenar los resultados\n",
    "resultados = []\n",
    "\n",
    "# Definir el número de folds\n",
    "num_folds = 10\n",
    "tamaño_fold = len(df) // num_folds\n",
    "\n",
    "# Loop sobre lambdas\n",
    "for lmbda in lambdas:\n",
    "    # Inicializar lista para almacenar los accuracies de cada fold\n",
    "    accuracies = []\n",
    "\n",
    "    # Loop sobre los folds\n",
    "    for i in range(num_folds):\n",
    "        # Definir los índices de test y train\n",
    "        inicio_test = i * tamaño_fold\n",
    "        fin_test = (i + 1) * tamaño_fold\n",
    "\n",
    "        # Obtener los datos de test y train\n",
    "        df_test = df.iloc[inicio_test:fin_test]\n",
    "        df_train = pd.concat([df.iloc[:inicio_test], df.iloc[fin_test:]])\n",
    "\n",
    "        # Obtener y_train, X_train, y_test, X_test\n",
    "        y_train = df_train.iloc[:, 0]\n",
    "        X_train = df_train.iloc[:, 1:]\n",
    "        y_test = df_test.iloc[:, 0]\n",
    "        X_test = df_test.iloc[:, 1:]\n",
    "\n",
    "        # Calcular el beta\n",
    "        X_T = np.transpose(X_train)\n",
    "        X_T_X = np.dot(X_T, X_train) + lmbda*np.identity(X_train.shape[1])\n",
    "        X_T_X_inv = np.linalg.inv(X_T_X)\n",
    "        X_T_Y = np.dot(X_T, y_train)\n",
    "        Beta_train = np.dot(X_T_X_inv, X_T_Y)\n",
    "\n",
    "        # Calcular y_predict\n",
    "        y_predict = np.dot(X_test, Beta_train)\n",
    "        y_predict = np.where(y_predict < 0.85, 0, y_predict)\n",
    "        y_predict = np.where(y_predict > 0.85, 1, y_predict)\n",
    "\n",
    "        # Calcular accuracy\n",
    "        accuracy = np.mean(y_predict == y_test)\n",
    "        accuracies.append(accuracy)\n",
    "\n",
    "        # 10 kf cross validation por precision\n",
    "        precision_scorer = make_scorer(precision_score, greater_is_better=True)\n",
    "        puntuaciones_precision_ar = cross_val_score(tree_classifier, X_resampled_red, y_resampled_red, cv=10, scoring=precision_scorer)\n",
    "\n",
    "    # Calcular el promedio de accuracies\n",
    "    accuracy_promedio = np.mean(accuracies)\n",
    "\n",
    "    # Almacenar el resultado\n",
    "    resultados.append((lmbda, accuracy_promedio))\n",
    "\n",
    "# Convertir resultados a DataFrame\n",
    "resultados_df = pd.DataFrame(resultados, columns=['Lambda', 'Accuracy Promedio'])\n",
    "\n",
    "# Se establece un índice que tendrá en cuenta cual es el mayor accuracy promedio entre todos los lambdas\n",
    "indice_max = np.argmax(resultados_df['Accuracy Promedio'])\n",
    "\n",
    "# Se encuentra el lambda respectivo al índice que tiene el mayor accuracy\n",
    "lambda_pro = resultados_df.loc[indice_max, 'Lambda']\n",
    "accuracy_pro = resultados_df.loc[indice_max, 'Accuracy Promedio']\n",
    "\n",
    "\n",
    "# Imprimir resultados\n",
    "print(resultados_df)\n",
    "print(f\"El lambda del modelo con las variables completas es: {lambda_pro} con un accuray de :{accuracy_pro}\")"
   ]
  },
  {
   "cell_type": "markdown",
   "id": "fae80c4c-8a05-4a81-940d-138e1bfbbca3",
   "metadata": {},
   "source": [
    "### 5.2 Modelo con 10 variables "
   ]
  },
  {
   "cell_type": "markdown",
   "id": "e5ef3f46-8afe-4697-88bb-6c72f4d753fb",
   "metadata": {},
   "source": [
    "Para la selección de las 10 variables se propone la realización de una combinación entre todas las variables en grupos de a 10, buscando cual proporciona un mayor accuracy a través de 10 keyfold cv"
   ]
  },
  {
   "cell_type": "markdown",
   "id": "29154c3c-ece1-46bc-8311-8a6ba072068c",
   "metadata": {},
   "source": [
    "A través de la libreria \"itertools\" se realizan combinaciones de a 10 para todas las columnas de la matriz \"X\""
   ]
  },
  {
   "cell_type": "code",
   "execution_count": null,
   "id": "e7ff9f94-eb69-442a-8546-cf84e6e09a17",
   "metadata": {},
   "outputs": [],
   "source": [
    "#(NO CORRER)\n",
    "import itertools\n",
    "import pandas as pd\n",
    "import numpy as np\n",
    "\n",
    "# Todas las combinaciones de 10 variables\n",
    "combinaciones = list(itertools.combinations(X.columns, 5))\n",
    "\n",
    "# Se establecen valores vacios para reemplazarlos en el \"for\"\n",
    "mejor_conjunto = None\n",
    "mejor_lambda = None\n",
    "mejor_accuracy = 0"
   ]
  },
  {
   "cell_type": "markdown",
   "id": "0ae926f8-b981-49f0-8004-9069a1efb97d",
   "metadata": {},
   "source": [
    "A través de un \"for\" se empieza una iteración para cada grupo de 10 variables. En cada una de estas se se calcula el lambda óptimo junto a su precisión; aquel modelo qué proporcione el accuracy más alto será el que tendrá las mejores variables para el modelo."
   ]
  },
  {
   "cell_type": "code",
   "execution_count": null,
   "id": "b6e0f828-ccd2-4452-9c5f-896a3f40aea0",
   "metadata": {},
   "outputs": [],
   "source": [
    "# NO CORRER X2\n",
    "\n",
    "# Iterar sobre todas las combinaciones\n",
    "for combo in combinaciones:\n",
    "    # Lista de variables por iteración\n",
    "    X_subset = X[list(combo)]\n",
    "\n",
    "    # Se establece el rango de los lambda\n",
    "    numeros = list(range(1, 100))\n",
    "    lambdas = numeros\n",
    "\n",
    "    df = pd.concat([y, X_subset], axis=1)\n",
    "\n",
    "    resultados = []\n",
    "\n",
    "    num_folds = 10\n",
    "    tamaño_fold = len(df) // num_folds\n",
    "\n",
    "    for lmbda in lambdas:\n",
    "        accuracies = []\n",
    "\n",
    "        for i in range(num_folds):\n",
    "            inicio_test = i * tamaño_fold\n",
    "            fin_test = (i + 1) * tamaño_fold\n",
    "\n",
    "            df_test = df.iloc[inicio_test:fin_test]\n",
    "            df_train = pd.concat([df.iloc[:inicio_test], df.iloc[fin_test:]])\n",
    "\n",
    "            y_train = df_train.iloc[:, 0]\n",
    "            X_train = df_train.iloc[:, 1:]\n",
    "            y_test = df_test.iloc[:, 0]\n",
    "            X_test = df_test.iloc[:, 1:]\n",
    "\n",
    "            X_T = np.transpose(X_train)\n",
    "            X_T_X = np.dot(X_T, X_train) + lmbda*np.identity(X_train.shape[1])\n",
    "            X_T_X_inv = np.linalg.inv(X_T_X)\n",
    "            X_T_Y = np.dot(X_T, y_train)\n",
    "            Beta_train = np.dot(X_T_X_inv, X_T_Y)\n",
    "\n",
    "            y_predict = np.dot(X_test, Beta_train)\n",
    "            y_predict = np.where(y_predict < 0.85, 0, y_predict)\n",
    "            y_predict = np.where(y_predict > 0.85, 1, y_predict)\n",
    "\n",
    "            accuracy = np.mean(y_predict == y_test)\n",
    "            accuracies.append(accuracy)\n",
    "\n",
    "        accuracy_promedio = np.mean(accuracies)\n",
    "\n",
    "        resultados.append((lmbda, accuracy_promedio))\n",
    "\n",
    "    resultados_df = pd.DataFrame(resultados, columns=['Lambda', 'Accuracy Promedio'])\n",
    "\n",
    "    indice_max = np.argmax(resultados_df['Accuracy Promedio'])\n",
    "\n",
    "    lambda_pro = resultados_df.loc[indice_max, 'Lambda']\n",
    "    accuracy_pro = resultados_df.loc[indice_max, 'Accuracy Promedio']\n",
    "\n",
    "    if accuracy_pro > mejor_accuracy:\n",
    "        mejor_conjunto = combo\n",
    "        mejor_lambda = lambda_pro\n",
    "        mejor_accuracy = accuracy_pro\n",
    "\n",
    "\n",
    "print(f\"El mejor conjunto de variables es: {mejor_conjunto}\")\n",
    "print(f\"El lambda asociado es: {mejor_lambda}\")\n",
    "print(f\"Con un accuray de: {mejor_accuracy}\")"
   ]
  },
  {
   "cell_type": "markdown",
   "id": "4fbb8bc6-a7c2-4ede-b778-d19e3e4c9bb8",
   "metadata": {},
   "source": [
    "Ya que el proceso de buscar el grupo de mejores variables es computacionalmente costoso, se decide revisar el modelo de Ridge para el modelo reducido; esto ya qué comparte intuición económica y tienen componentes que son estadísticamente mejores."
   ]
  },
  {
   "cell_type": "markdown",
   "id": "0aee15e3-3c64-4261-93a3-ea06b5840c50",
   "metadata": {},
   "source": [
    "### 5.2.1 Modelo reducido con 10 variables "
   ]
  },
  {
   "cell_type": "markdown",
   "id": "f5074058-7896-4583-8b91-24e5ac356e84",
   "metadata": {},
   "source": [
    "Se estandarizan las variables de la matriz X"
   ]
  },
  {
   "cell_type": "code",
   "execution_count": 22,
   "id": "fc5c32c1-75ff-4454-a910-1d72fc5c0f05",
   "metadata": {},
   "outputs": [],
   "source": [
    "# Estandarización de la variable X que cuenta con los 10 determinantes\n",
    "df_x_red = pd.DataFrame(X_red)\n",
    "\n",
    "#Se crea un data frame vacio con el objetivo de guardar las variables estandarizadas del modelo reducido\n",
    "X_estandarizada_red = pd.DataFrame()\n",
    "\n",
    "for columna in df_x_red.columns:\n",
    "    X_estandarizada_red[columna] = estandarizador(df_x_red[columna])"
   ]
  },
  {
   "cell_type": "markdown",
   "id": "c13ff7b4-7b0e-40c9-af06-f166af48db47",
   "metadata": {},
   "source": [
    "A través del comando directo se busca cuaal es el lambda óptimo"
   ]
  },
  {
   "cell_type": "code",
   "execution_count": 28,
   "id": "58b30724-4532-464d-8ff4-af86aff4a256",
   "metadata": {},
   "outputs": [
    {
     "name": "stdout",
     "output_type": "stream",
     "text": [
      "El valor óptimo de alpha es: 58\n"
     ]
    }
   ],
   "source": [
    "# Se establecen los posibles lambdas\n",
    "alphas = list(range(1,1000)) \n",
    "\n",
    "# Se un modelo de RidgeCV que selecciona automáticamente el mejor alpha\n",
    "ridge_cv = RidgeCV(alphas=alphas)\n",
    "\n",
    "# A través de un CV se entrena el modelo buscando encontrar cual es el lambda que hace parte del proceso\n",
    "ridge_cv.fit(X_estandarizada_red, y_red)\n",
    "\n",
    "# El valor óptimo de alpha\n",
    "alpha_optimo = ridge_cv.alpha_\n",
    "\n",
    "print(f'El valor óptimo de alpha es: {alpha_optimo}')"
   ]
  },
  {
   "cell_type": "code",
   "execution_count": 37,
   "id": "4f22d473-7324-4faf-8e44-1fc83a4ee204",
   "metadata": {},
   "outputs": [
    {
     "name": "stdout",
     "output_type": "stream",
     "text": [
      "El accuracy del modelo un un lambda de: 58 es de 0.851063829787234\n"
     ]
    }
   ],
   "source": [
    "# Dado que ya tenemos el lambda, calculamos el accuracy del modelo\n",
    "lambda1 = 58\n",
    "num_folds = 10\n",
    "\n",
    "\n",
    "df = pd.concat([y_red, X_estandarizada_red], axis=1)\n",
    "tamaño_fold = len(df) // num_folds\n",
    "accuracies = []\n",
    "\n",
    "\n",
    "# Loop sobre los folds\n",
    "for i in range(num_folds):\n",
    "  # Definir los índices de test y train\n",
    "  inicio_test = i * tamaño_fold\n",
    "  fin_test = (i + 1) * tamaño_fold\n",
    "\n",
    "  # Obtener los datos de test y train\n",
    "  df_test = df.iloc[inicio_test:fin_test]\n",
    "  df_train = pd.concat([df.iloc[:inicio_test], df.iloc[fin_test:]])\n",
    "\n",
    "  # Obtener y_train, X_train, y_test, X_test\n",
    "  y_train = df_train.iloc[:, 0]\n",
    "  X_train = df_train.iloc[:, 1:]\n",
    "  y_test = df_test.iloc[:, 0]\n",
    "  X_test = df_test.iloc[:, 1:]\n",
    "\n",
    "  # Calcular el beta\n",
    "  X_T = np.transpose(X_train)\n",
    "  X_T_X = np.dot(X_T, X_train) + lambda1*np.identity(X_train.shape[1])\n",
    "  X_T_X_inv = np.linalg.inv(X_T_X)\n",
    "  X_T_Y = np.dot(X_T, y_train)\n",
    "  Beta_train = np.dot(X_T_X_inv, X_T_Y)\n",
    "\n",
    "  # Calcular y_predict\n",
    "  y_predict = np.dot(X_test, Beta_train)\n",
    "  y_predict = np.where(y_predict < 0.85, 0, y_predict)\n",
    "  y_predict = np.where(y_predict > 0.85, 1, y_predict)\n",
    "\n",
    "  # Calcular accuracy\n",
    "  accuracy = np.mean(y_predict == y_test)\n",
    "  accuracies.append(accuracy)\n",
    "\n",
    "# Calcular el promedio de accuracies\n",
    "accuracy_promedio = np.mean(accuracies)\n",
    "print(f\"El accuracy del modelo un un lambda de: {lambda1} es de {accuracy_promedio}\")"
   ]
  },
  {
   "cell_type": "markdown",
   "id": "52288a76-0c43-48c1-b1e5-38342b40ddc8",
   "metadata": {},
   "source": [
    "## 6. Modelo Ridge"
   ]
  },
  {
   "cell_type": "markdown",
   "id": "9a49b85f-0d6a-4121-b1c7-3010434c507e",
   "metadata": {},
   "source": [
    "Se seleccionan nuevamente las variables pertenecientes al modelo de Ridge aplicando los respectivos cambios a las variables"
   ]
  },
  {
   "cell_type": "code",
   "execution_count": 38,
   "id": "040d9066-99cd-4b7c-84e5-05978f976d10",
   "metadata": {},
   "outputs": [],
   "source": [
    "datos2 = pd.read_excel('loans.xlsx')\n",
    "\n",
    "#Combinando ML y Economía seleccionamos las siguientes variables:\n",
    "variables1 = datos2[['loan_status','application_type','delinq_2yrs','grade','inq_last_6mths','term','total_rec_prncp','pub_rec_bankruptcies','total_rec_int','total_cu_tl','total_bc_limit']]\n",
    "datos2= pd.DataFrame(variables1)\n",
    "\n",
    "\n",
    "# Manejo de variables del modelo de ML y economía\n",
    "\n",
    "#Para el loan status\n",
    "dummies_loan = {'Current': 0, 'Fail': 1}\n",
    "datos2['loan_status'] = datos2['loan_status'].map(dummies_loan)\n",
    "\n",
    "#Para \"Application_type\"\n",
    "dummies_application = {'Individual': 0, 'Joint App':1}\n",
    "datos2['application_type'] = datos2['application_type'].map(dummies_application)\n",
    "\n",
    "#Para la calificación de riesgo \"grade\"\n",
    "num_grade_dummies = pd.get_dummies(datos2['grade'], prefix='grade')\n",
    "num_grade_dummies = num_grade_dummies.astype(int)\n",
    "datos2 = pd.concat([datos2, num_grade_dummies], axis=1)\n",
    "datos2 = datos2.drop(columns=['grade'])"
   ]
  },
  {
   "cell_type": "markdown",
   "id": "39862227-765f-4858-b0de-fe589de2aca5",
   "metadata": {},
   "source": [
    "Se definen las variables dependientes e independientes del modelo Ridge"
   ]
  },
  {
   "cell_type": "code",
   "execution_count": 39,
   "id": "3bd09727-c189-4fc3-9049-218c20e4f1c6",
   "metadata": {},
   "outputs": [],
   "source": [
    "#Se definen las variables dependientes e independientes\n",
    "X_pro = datos2.iloc[:, 1:]\n",
    "y_pro = datos2.iloc[:, 0]\n",
    "\n",
    "#Estandarización de la variable X\n",
    "df_x_pro = pd.DataFrame(X_pro)\n",
    "#Se crea un data frame vacio con el objetivo de guardar las variables estandarizadas del modelo reducido\n",
    "X_estandarizada_pro = pd.DataFrame()\n",
    "\n",
    "for columna in df_x_pro.columns:\n",
    "    X_estandarizada_pro[columna] = estandarizador(df_x_pro[columna])"
   ]
  },
  {
   "cell_type": "markdown",
   "id": "4c6b15a0-6161-4e1a-8b22-6104fd70e984",
   "metadata": {},
   "source": [
    "### 6.1 Metodología Ridge para el modelo Ridge"
   ]
  },
  {
   "cell_type": "markdown",
   "id": "bff2641f-63cc-4966-b628-9b4b985ff5c6",
   "metadata": {},
   "source": [
    "Se busca el lambda óptimo para el modelo Ridge"
   ]
  },
  {
   "cell_type": "code",
   "execution_count": 41,
   "id": "888fe34f-db5a-44cd-b193-8caa3a80b20a",
   "metadata": {},
   "outputs": [
    {
     "name": "stdout",
     "output_type": "stream",
     "text": [
      "El valor óptimo de alpha es: 98\n"
     ]
    }
   ],
   "source": [
    "# Se establecen los lambdas\n",
    "alphas = list(range(1,1000))  # Puedes ajustar el rango según sea necesario\n",
    "\n",
    "# Crear un modelo de RidgeCV que selecciona automáticamente el mejor alpha\n",
    "ridge_cv = RidgeCV(alphas=alphas)\n",
    "\n",
    "# Realizar la validación cruzada para encontrar el mejor alpha\n",
    "ridge_cv.fit(X_estandarizada_pro, y_pro)\n",
    "\n",
    "# El valor óptimo de alpha\n",
    "alpha_optimo = ridge_cv.alpha_\n",
    "\n",
    "print(f'El valor óptimo de alpha es: {alpha_optimo}')"
   ]
  },
  {
   "cell_type": "markdown",
   "id": "ff472dc6-a3ce-4b13-b75a-76908d8eb199",
   "metadata": {},
   "source": [
    "En base al lambda calculado se calcula el accuracy del modelo para las variables del modelo ridge"
   ]
  },
  {
   "cell_type": "code",
   "execution_count": 42,
   "id": "8fb74615-28fb-4e20-9eff-2b2ea0ffcd4d",
   "metadata": {},
   "outputs": [
    {
     "name": "stdout",
     "output_type": "stream",
     "text": [
      "El accuracy del modelo un un lambda de: 98 es de 0.851063829787234\n"
     ]
    }
   ],
   "source": [
    "# Dado que ya tenemos el lambda, calculamos el accuracy del modelo\n",
    "lambda1 = 98\n",
    "num_folds = 10\n",
    "tamaño_fold = len(df) // num_folds\n",
    "\n",
    "df = pd.concat([y_pro, X_estandarizada_pro], axis=1)\n",
    "accuracies = []\n",
    "\n",
    "\n",
    "# Loop sobre los folds\n",
    "for i in range(num_folds):\n",
    "  # Definir los índices de test y train\n",
    "  inicio_test = i * tamaño_fold\n",
    "  fin_test = (i + 1) * tamaño_fold\n",
    "\n",
    "  # Obtener los datos de test y train\n",
    "  df_test = df.iloc[inicio_test:fin_test]\n",
    "  df_train = pd.concat([df.iloc[:inicio_test], df.iloc[fin_test:]])\n",
    "\n",
    "  # Obtener y_train, X_train, y_test, X_test\n",
    "  y_train = df_train.iloc[:, 0]\n",
    "  X_train = df_train.iloc[:, 1:]\n",
    "  y_test = df_test.iloc[:, 0]\n",
    "  X_test = df_test.iloc[:, 1:]\n",
    "\n",
    "  # Calcular el beta\n",
    "  X_T = np.transpose(X_train)\n",
    "  X_T_X = np.dot(X_T, X_train) + lambda1*np.identity(X_train.shape[1])\n",
    "  X_T_X_inv = np.linalg.inv(X_T_X)\n",
    "  X_T_Y = np.dot(X_T, y_train)\n",
    "  Beta_train = np.dot(X_T_X_inv, X_T_Y)\n",
    "\n",
    "  # Calcular y_predict\n",
    "  y_predict = np.dot(X_test, Beta_train)\n",
    "  y_predict = np.where(y_predict < 0.85, 0, y_predict)\n",
    "  y_predict = np.where(y_predict > 0.85, 1, y_predict)\n",
    "\n",
    "  # Calcular accuracy\n",
    "  accuracy = np.mean(y_predict == y_test)\n",
    "  accuracies.append(accuracy)\n",
    "\n",
    "# Calcular el promedio de accuracies\n",
    "accuracy_promedio = np.mean(accuracies)\n",
    "print(f\"El accuracy del modelo un un lambda de: {lambda1} es de {accuracy_promedio}\")"
   ]
  },
  {
   "cell_type": "markdown",
   "id": "9520608d-e0da-48ed-a434-f931074302ae",
   "metadata": {},
   "source": [
    "Estas variables son esenciales para clasificar \"alarmas\" que pueden indicar la probabilidad de un cliente de pagar o no. Se basan principalmente en los límites financieros del individuo y en señales de riesgo previas reportadas en el sistema financiero. Además, estas variables están directamente relacionadas con la teoría económica y reflejan los elementos que se buscaban representar en el modelo inicial de las 10 variables. Dado esto, las variables representan en su totalidad un resultado esperado."
   ]
  },
  {
   "cell_type": "markdown",
   "id": "1ecc9b8c-8255-4c77-a881-6b2bdd89098f",
   "metadata": {},
   "source": [
    "## 7. ML para modelo reducido"
   ]
  },
  {
   "cell_type": "markdown",
   "id": "b9cb848d-986a-40e7-95d9-259d2de48548",
   "metadata": {},
   "source": [
    "### 7.1 Regresión ridge"
   ]
  },
  {
   "cell_type": "code",
   "execution_count": 46,
   "id": "bc7c32d2-089f-4e2c-a898-2034629d9b71",
   "metadata": {},
   "outputs": [
    {
     "name": "stdout",
     "output_type": "stream",
     "text": [
      "El valor óptimo de alpha es: 58\n"
     ]
    }
   ],
   "source": [
    "# Establecer los lambdas\n",
    "alphas = list(range(1, 1000))\n",
    "\n",
    "# Crear un modelo de RidgeCV que selecciona automáticamente el mejor alpha\n",
    "ridge_cv = RidgeCV(alphas=alphas)\n",
    "\n",
    "# Realizar la validación cruzada para encontrar el mejor alpha\n",
    "ridge_cv.fit(X_estandarizada_red, y_red)\n",
    "\n",
    "# El valor óptimo de alpha\n",
    "alpha_optimo = ridge_cv.alpha_\n",
    "\n",
    "print(f'El valor óptimo de alpha es: {alpha_optimo}')"
   ]
  },
  {
   "cell_type": "markdown",
   "id": "47edd1e7-1de3-4659-8212-c9c8e7aeeb71",
   "metadata": {},
   "source": [
    "Se busca la precisión con el lambda óptimo"
   ]
  },
  {
   "cell_type": "code",
   "execution_count": 48,
   "id": "60ba5da0-bd92-4d02-bf57-e1e98f0b36c8",
   "metadata": {},
   "outputs": [
    {
     "name": "stdout",
     "output_type": "stream",
     "text": [
      "El accuracy del modelo un un lambda de: 58 es de 0.851063829787234\n"
     ]
    }
   ],
   "source": [
    "# Dado que ya tenemos el lambda, calculamos el accuracy del modelo\n",
    "\n",
    "lambda1 = 58\n",
    "num_folds = 10\n",
    "tamaño_fold = len(df) // num_folds\n",
    "\n",
    "df = pd.concat([y_red, X_estandarizada_red], axis=1)\n",
    "accuracies = []\n",
    "\n",
    "\n",
    "# Loop sobre los folds\n",
    "for i in range(num_folds):\n",
    "  # Definir los índices de test y train\n",
    "  inicio_test = i * tamaño_fold\n",
    "  fin_test = (i + 1) * tamaño_fold\n",
    "\n",
    "  # Obtener los datos de test y train\n",
    "  df_test = df.iloc[inicio_test:fin_test]\n",
    "  df_train = pd.concat([df.iloc[:inicio_test], df.iloc[fin_test:]])\n",
    "\n",
    "  # Obtener y_train, X_train, y_test, X_test\n",
    "  y_train = df_train.iloc[:, 0]\n",
    "  X_train = df_train.iloc[:, 1:]\n",
    "  y_test = df_test.iloc[:, 0]\n",
    "  X_test = df_test.iloc[:, 1:]\n",
    "\n",
    "  # Calcular el beta\n",
    "  X_T = np.transpose(X_train)\n",
    "  X_T_X = np.dot(X_T, X_train) + lambda1*np.identity(X_train.shape[1])\n",
    "  X_T_X_inv = np.linalg.inv(X_T_X)\n",
    "  X_T_Y = np.dot(X_T, y_train)\n",
    "  Beta_train = np.dot(X_T_X_inv, X_T_Y)\n",
    "\n",
    "  # Calcular y_predict\n",
    "  y_predict = np.dot(X_test, Beta_train)\n",
    "  y_predict = np.where(y_predict < 0.85, 0, y_predict)\n",
    "  y_predict = np.where(y_predict > 0.85, 1, y_predict)\n",
    "\n",
    "  # Calcular accuracy\n",
    "  accuracy = np.mean(y_predict == y_test)\n",
    "  accuracies.append(accuracy)\n",
    "\n",
    "# Calcular el promedio de accuracies\n",
    "accuracy_promedio = np.mean(accuracies)\n",
    "print(f\"El accuracy del modelo un un lambda de: {lambda1} es de {accuracy_promedio}\")"
   ]
  },
  {
   "cell_type": "markdown",
   "id": "82bbbdde-0907-4973-b66c-a3ea3269e9d6",
   "metadata": {},
   "source": [
    "### 7.2 Regresión QDA"
   ]
  },
  {
   "cell_type": "markdown",
   "id": "d6402ec1-ddaf-4131-9127-70ff9700dba7",
   "metadata": {},
   "source": [
    "#### 7.2.1 QDA para muestra sin rebalancear"
   ]
  },
  {
   "cell_type": "code",
   "execution_count": 56,
   "id": "3d54a59b-4011-430b-a0b1-9275bfca23a6",
   "metadata": {},
   "outputs": [
    {
     "name": "stdout",
     "output_type": "stream",
     "text": [
      "El accuracy del modelo reducido por qda es de : 78.37%\n",
      "El resultado de precisión a través de Presicion por 10 fold CV fue: 26.16%\n"
     ]
    }
   ],
   "source": [
    "# Para muestra sin rebalancear\n",
    "qda = QuadraticDiscriminantAnalysis()\n",
    "\n",
    "# Por 10 keyfold cv\n",
    "cv_scores_qda = cross_val_score(qda, X_red, y_red, cv=10, scoring='accuracy')\n",
    "print(f\"El accuracy del modelo reducido por qda es de : {cv_scores_qda.mean()* 100:.2f}%\")\n",
    "\n",
    "# 10 kf cross validation por precision\n",
    "precision_scorer = make_scorer(precision_score, greater_is_better=True)\n",
    "puntuaciones_precision_red = cross_val_score(qda, X_red, y_red, cv=10, scoring=precision_scorer)\n",
    "\n",
    "# Resultado de precisión promedio\n",
    "print(f\"El resultado de precisión a través de Presicion por 10 fold CV fue: {puntuaciones_precision_red.mean()* 100:.2f}%\")"
   ]
  },
  {
   "cell_type": "markdown",
   "id": "8b487fbd-bf73-40ee-bde6-fa65235b25e4",
   "metadata": {},
   "source": [
    "#### 7.2.2 QDA para muestra rebalanceada"
   ]
  },
  {
   "cell_type": "code",
   "execution_count": 55,
   "id": "0ab83244-d01b-41f3-bb57-cdefca568d75",
   "metadata": {},
   "outputs": [
    {
     "name": "stdout",
     "output_type": "stream",
     "text": [
      "El accuracy del modelo reducido por qda es de : 58.23%\n",
      "El resultado de precisión a través de Presicion por 10 fold CV fue: 51.96%\n"
     ]
    }
   ],
   "source": [
    "# Para muestra rebalanceada\n",
    "qda = QuadraticDiscriminantAnalysis()\n",
    "\n",
    "# Por 10 keyfold cv\n",
    "cv_scores_qda = cross_val_score(qda, X_resampled_red, y_resampled_red, cv=10, scoring='accuracy')\n",
    "print(f\"El accuracy del modelo reducido por qda es de : {cv_scores_qda.mean()* 100:.2f}%\")\n",
    "\n",
    "# 10 kf cross validation por precision\n",
    "precision_scorer = make_scorer(precision_score, greater_is_better=True)\n",
    "puntuaciones_precision_red = cross_val_score(qda, X_resampled_red, y_resampled_red, cv=10, scoring=precision_scorer)\n",
    "\n",
    "# Resultado de precisión promedio\n",
    "print(f\"El resultado de precisión a través de Presicion por 10 fold CV fue: {puntuaciones_precision_red.mean()* 100:.2f}%\")"
   ]
  },
  {
   "cell_type": "markdown",
   "id": "f717f7e9-94a4-4f9c-b0a8-8cc72d1a3c90",
   "metadata": {},
   "source": [
    "### 7.3 Regresión LDA"
   ]
  },
  {
   "cell_type": "markdown",
   "id": "c2a0e60e-dc67-4ca7-afb5-aaad6b2680ab",
   "metadata": {},
   "source": [
    "### 7.3.1 Regresión LDA con muestra sin rebalancear"
   ]
  },
  {
   "cell_type": "code",
   "execution_count": 60,
   "id": "aec38233-5edd-4667-a935-ee0222da07d3",
   "metadata": {},
   "outputs": [
    {
     "name": "stdout",
     "output_type": "stream",
     "text": [
      "El accuracy del modelo reducido por lda es de : 84.80%\n",
      "El resultado de precisión a través de Presicion por 10 fold CV fue: 51.19%\n"
     ]
    }
   ],
   "source": [
    "lda = LinearDiscriminantAnalysis()\n",
    "\n",
    "# Realización de validación cruzada\n",
    "cv_scores_lda = cross_val_score(lda, X_red, y_red, cv=10, scoring='accuracy')\n",
    "print(f\"El accuracy del modelo reducido por lda es de : {cv_scores_lda.mean()* 100:.2f}%\")\n",
    "\n",
    "# 10 kf cross validation por precision\n",
    "precision_scorer = make_scorer(precision_score, greater_is_better=True)\n",
    "puntuaciones_precision_red = cross_val_score(lda, X_red, y_red, cv=10, scoring=precision_scorer)\n",
    "\n",
    "# Resultado de precisión promedio\n",
    "print(f\"El resultado de precisión a través de Presicion por 10 fold CV fue: {puntuaciones_precision_red.mean()* 100:.2f}%\")"
   ]
  },
  {
   "cell_type": "markdown",
   "id": "82ed81a7-0853-4d68-a89b-21beee798dbd",
   "metadata": {},
   "source": [
    "### 7.3.2 Regresión LDA con muestra rebalanceada"
   ]
  },
  {
   "cell_type": "code",
   "execution_count": 62,
   "id": "177fc2db-9db9-4c75-bcc8-d5cf2f139af2",
   "metadata": {},
   "outputs": [
    {
     "name": "stdout",
     "output_type": "stream",
     "text": [
      "El accuracy del modelo reducido por lda es de : 63.69%\n",
      "El resultado de precisión a través de Presicion por 10 fold CV fue: 58.27%\n"
     ]
    }
   ],
   "source": [
    "lda = LinearDiscriminantAnalysis()\n",
    "\n",
    "# Realización de validación cruzada\n",
    "cv_scores_lda = cross_val_score(lda, X_resampled_red, y_resampled_red, cv=10, scoring='accuracy')\n",
    "print(f\"El accuracy del modelo reducido por lda es de : {cv_scores_lda.mean()* 100:.2f}%\")\n",
    "\n",
    "# 10 kf cross validation por precision\n",
    "precision_scorer = make_scorer(precision_score, greater_is_better=True)\n",
    "puntuaciones_precision_red = cross_val_score(lda, X_resampled_red, y_resampled_red, cv=10, scoring=precision_scorer)\n",
    "\n",
    "# Resultado de precisión promedio\n",
    "print(f\"El resultado de precisión a través de Presicion por 10 fold CV fue: {puntuaciones_precision_red.mean()* 100:.2f}%\")"
   ]
  },
  {
   "cell_type": "markdown",
   "id": "8d0d0dd8-1e9b-48c5-91f1-1ef855e447d8",
   "metadata": {},
   "source": [
    "### 7.4 Logistic Regression"
   ]
  },
  {
   "cell_type": "markdown",
   "id": "114f426a-6874-4e05-959f-c30a4fd59410",
   "metadata": {},
   "source": [
    "### 7.4.1 Logistic Regression para muestra sin rebalancear"
   ]
  },
  {
   "cell_type": "code",
   "execution_count": 78,
   "id": "eb026112-4f3b-4f95-8d36-2a4705f0e651",
   "metadata": {},
   "outputs": [
    {
     "name": "stdout",
     "output_type": "stream",
     "text": [
      "El accuracy del modelo reducido por logitic regression es de : 85.11%\n",
      "El resultado de precisión a través de Presicion por 10 fold CV fue: 10.00%\n"
     ]
    }
   ],
   "source": [
    "logistic_regression = LogisticRegression(max_iter=1000)\n",
    "\n",
    "# Realizar validación cruzada\n",
    "cv_scores_lr = cross_val_score(logistic_regression, X_red, y_red, cv=10, scoring='accuracy')\n",
    "\n",
    "# Imprimir los resultados de la validación cruzada\n",
    "print(f\"El accuracy del modelo reducido por logitic regression es de : {cv_scores_lr.mean()* 100:.2f}%\")\n",
    "\n",
    "# 10 kf cross validation por precision\n",
    "precision_scorer = make_scorer(precision_score, greater_is_better=True)\n",
    "puntuaciones_precision_red = cross_val_score(logistic_regression, X_red, y_red, cv=10, scoring=precision_scorer)\n",
    "\n",
    "# Resultado de precisión promedio\n",
    "print(f\"El resultado de precisión a través de Presicion por 10 fold CV fue: {puntuaciones_precision_red.mean()* 100:.2f}%\")"
   ]
  },
  {
   "cell_type": "markdown",
   "id": "d64abe84-8b49-4262-988c-aac6ff7f08e4",
   "metadata": {},
   "source": [
    "### 7.4.2 Logistic Regression para muestra rebalanceada"
   ]
  },
  {
   "cell_type": "code",
   "execution_count": 79,
   "id": "2fe60ed2-e872-4a9a-9396-df6d8bc85040",
   "metadata": {},
   "outputs": [
    {
     "name": "stdout",
     "output_type": "stream",
     "text": [
      "El accuracy del modelo reducido por logitic regression es de : 59.27%\n",
      "El resultado de precisión a través de Presicion por 10 fold CV fue: 10.64%\n"
     ]
    }
   ],
   "source": [
    "logistic_regression = LogisticRegression(max_iter=1000)\n",
    "\n",
    "# Realizar validación cruzada\n",
    "cv_scores_lr = cross_val_score(logistic_regression, X_resampled_red, y_resampled_red, cv=10, scoring='accuracy')\n",
    "\n",
    "# Imprimir los resultados de la validación cruzada\n",
    "print(f\"El accuracy del modelo reducido por logitic regression es de : {cv_scores_lr.mean()* 100:.2f}%\")\n",
    "\n",
    "\n",
    "# 10 kf cross validation por precision\n",
    "precision_scorer = make_scorer(precision_score, greater_is_better=True)\n",
    "puntuaciones_precision_red = cross_val_score(logistic_regression, X_resampled_red, y_resampled_red, cv=10, scoring=precision_scorer)\n",
    "\n",
    "# Resultado de precisión promedio\n",
    "print(f\"El resultado de precisión a través de Presicion por 10 fold CV fue: {puntuaciones_precision_red.mean()* 100:.2f}%\")"
   ]
  },
  {
   "cell_type": "markdown",
   "id": "fad1e95a-5e59-4134-b26b-f67ec387b0c1",
   "metadata": {},
   "source": [
    "### 7.5 Gradient Boosting"
   ]
  },
  {
   "cell_type": "markdown",
   "id": "b3e5170a-0bf9-4bf3-9368-363684cff610",
   "metadata": {},
   "source": [
    "### 7.5.1 Gradient Boosting Modelo sin remuestrear"
   ]
  },
  {
   "cell_type": "code",
   "execution_count": null,
   "id": "16937ded-db08-448a-b0fc-eb0d4d838c7d",
   "metadata": {},
   "outputs": [],
   "source": [
    "# No correr - Se demora mucho \n",
    "import xgboost as xgb\n",
    "from sklearn.model_selection import GridSearchCV\n",
    "from sklearn.model_selection import KFold\n",
    "\n",
    "# Modelo a usar e hiperparametros a calibrar\n",
    "model = xgb.XGBClassifier()  # Usar XGBoost para clasificación\n",
    "param_grid = {\n",
    "    'n_estimators': list(range(1, 101)),            # Números de 1 a 100\n",
    "    'learning_rate': [0.01 * i for i in range(1, 11)],  # Tasa de aprendizaje de 0.01 a 0.1 en saltos de 0.01\n",
    "    'max_depth': list(range(1, 6))               # Profundidad máxima de 1 a 5\n",
    "}\n",
    "\n",
    "# Crea un objeto KFold para dividir los datos en k subconjuntos\n",
    "kf = KFold(n_splits=10, shuffle=True, random_state=42)\n",
    "\n",
    "# Realiza la validación cruzada k-fold con búsqueda de cuadrícula (Grid Search)\n",
    "grid_search = GridSearchCV(estimator=model, param_grid=param_grid, cv=kf, scoring='accuracy', n_jobs=-1)\n",
    "\n",
    "# Divide tus datos en características (X) y etiquetas (y) de entrenamiento\n",
    "X_train, y_train = X_red, y_red\n",
    "\n",
    "# Ajusta el modelo a los datos de entrenamiento y encuentra los mejores hiperparámetros\n",
    "grid_search.fit(X_train, y_train)\n",
    "\n",
    "# Muestra los mejores hiperparámetros encontrados\n",
    "best_params = grid_search.best_params_\n",
    "print(\"Mejores hiperparámetros:\", best_params)\n",
    "\n",
    "# Puedes acceder al mejor modelo entrenado a través de grid_search.best_estimator_\n",
    "best_model = grid_search.best_estimator_\n",
    "\n",
    "# Ahora puedes usar el mejor modelo para hacer predicciones en datos no vistos\n",
    "X_test, y_test = x, y\n",
    "predictions = best_model.predict(X_test)\n",
    "\n",
    "# Evalúa el rendimiento del mejor modelo\n",
    "from sklearn.metrics import accuracy_score\n",
    "accuracy = accuracy_score(y_test, predictions)\n",
    "print(\"Precisión del mejor modelo:\", accuracy)\n"
   ]
  },
  {
   "cell_type": "markdown",
   "id": "38871f96-c0c9-46ce-a0f8-bc59afd6fcde",
   "metadata": {},
   "source": [
    "### 7.5.1 Gradient Boosting Modelo rebalanceado"
   ]
  },
  {
   "cell_type": "code",
   "execution_count": null,
   "id": "c894c0ca-ca8f-4ded-aad2-766bc3f2cfc6",
   "metadata": {},
   "outputs": [],
   "source": [
    "# No correr - Se demora mucho \n",
    "\n",
    "import xgboost as xgb\n",
    "from sklearn.model_selection import GridSearchCV\n",
    "from sklearn.model_selection import KFold\n",
    "\n",
    "# Modelo a usar e hiperparametros a calibrar\n",
    "model = xgb.XGBClassifier()  # Usar XGBoost para clasificación\n",
    "param_grid = {\n",
    "    'n_estimators': list(range(1, 101)),            # Números de 1 a 100\n",
    "    'learning_rate': [0.01 * i for i in range(1, 11)],  # Tasa de aprendizaje de 0.01 a 0.1 en saltos de 0.01\n",
    "    'max_depth': list(range(1, 6))               # Profundidad máxima de 1 a 5\n",
    "}\n",
    "\n",
    "# Crea un objeto KFold para dividir los datos en k subconjuntos\n",
    "kf = KFold(n_splits=10, shuffle=True, random_state=42)\n",
    "\n",
    "# Realiza la validación cruzada k-fold con búsqueda de cuadrícula (Grid Search)\n",
    "grid_search = GridSearchCV(estimator=model, param_grid=param_grid, cv=kf, scoring='accuracy', n_jobs=-1)\n",
    "\n",
    "# Divide tus datos en características (X) y etiquetas (y) de entrenamiento\n",
    "X_train, y_train = X_resampled_red, y_resampled_red\n",
    "\n",
    "# Ajusta el modelo a los datos de entrenamiento y encuentra los mejores hiperparámetros\n",
    "grid_search.fit(X_train, y_train)\n",
    "\n",
    "# Muestra los mejores hiperparámetros encontrados\n",
    "best_params = grid_search.best_params_\n",
    "print(\"Mejores hiperparámetros:\", best_params)\n",
    "\n",
    "# Puedes acceder al mejor modelo entrenado a través de grid_search.best_estimator_\n",
    "best_model = grid_search.best_estimator_\n",
    "\n",
    "# Ahora puedes usar el mejor modelo para hacer predicciones en datos no vistos\n",
    "X_test, y_test = x, y\n",
    "predictions = best_model.predict(X_test)\n",
    "\n",
    "# Evalúa el rendimiento del mejor modelo\n",
    "from sklearn.metrics import accuracy_score\n",
    "accuracy = accuracy_score(y_test, predictions)\n",
    "print(\"Precisión del mejor modelo:\", accuracy)\n"
   ]
  },
  {
   "cell_type": "markdown",
   "id": "268811df-7d8f-4f27-bac9-8ca005f51e50",
   "metadata": {},
   "source": [
    "### 7.6 Random Forest"
   ]
  },
  {
   "cell_type": "markdown",
   "id": "15de20b3-e759-4d6a-9af3-9d2877582bc7",
   "metadata": {},
   "source": [
    "### 7.6.1 Random Forest con modelo sin rebalancear"
   ]
  },
  {
   "cell_type": "code",
   "execution_count": 84,
   "id": "92c3216b-58cd-4889-9d77-a9801cda120a",
   "metadata": {},
   "outputs": [
    {
     "name": "stdout",
     "output_type": "stream",
     "text": [
      "La precisión del modelo reducido por random forest: 0.8283\n",
      "El resultado de precisión a través de Presicion por 10 fold CV fue: 39.28%\n"
     ]
    }
   ],
   "source": [
    "# Inicializar el modelo Random Forest\n",
    "random_forest = RandomForestClassifier(n_estimators=100, random_state=42)\n",
    "# n_estimators es el número de árboles en el bosque\n",
    "\n",
    "# Realizar validación cruzada\n",
    "cv_scores = cross_val_score(random_forest, X_red, y_red, cv=10, scoring='accuracy')  # 5-fold cross-validation\n",
    "\n",
    "# Imprimir los resultados de la validación cruzada\n",
    "print(f\"La precisión del modelo reducido por random forest: {cv_scores.mean():.4f}\")\n",
    "\n",
    "# 10 kf cross validation por precision\n",
    "precision_scorer = make_scorer(precision_score, greater_is_better=True)\n",
    "puntuaciones_precision_red = cross_val_score(random_forest, X_red, y_red, cv=10, scoring=precision_scorer)\n",
    "\n",
    "# Resultado de precisión promedio\n",
    "print(f\"El resultado de precisión a través de Presicion por 10 fold CV fue: {puntuaciones_precision_red.mean()* 100:.2f}%\")"
   ]
  },
  {
   "cell_type": "markdown",
   "id": "262cd208-b264-4e7b-ae29-6fd4e6372217",
   "metadata": {},
   "source": [
    "### 7.6.2 Random Forest con modelo rebalanceado"
   ]
  },
  {
   "cell_type": "code",
   "execution_count": 85,
   "id": "295a2e5e-93bf-4347-bc96-f078b64e688f",
   "metadata": {},
   "outputs": [
    {
     "name": "stdout",
     "output_type": "stream",
     "text": [
      "La precisión del modelo reducido por random forest: 0.8381\n",
      "El resultado de precisión a través de Presicion por 10 fold CV fue: 80.18%\n"
     ]
    }
   ],
   "source": [
    "# Inicializar el modelo Random Forest\n",
    "random_forest = RandomForestClassifier(n_estimators=100, random_state=42)\n",
    "# n_estimators es el número de árboles en el bosque\n",
    "\n",
    "# Realizar validación cruzada\n",
    "cv_scores = cross_val_score(random_forest, X_resampled_red, y_resampled_red, cv=10, scoring='accuracy')  # 5-fold cross-validation\n",
    "\n",
    "# Imprimir los resultados de la validación cruzada\n",
    "print(f\"La precisión del modelo reducido por random forest: {cv_scores.mean():.4f}\")\n",
    "\n",
    "# 10 kf cross validation por precision\n",
    "precision_scorer = make_scorer(precision_score, greater_is_better=True)\n",
    "puntuaciones_precision_red = cross_val_score(random_forest, X_resampled_red, y_resampled_red, cv=10, scoring=precision_scorer)\n",
    "\n",
    "# Resultado de precisión promedio\n",
    "print(f\"El resultado de precisión a través de Presicion por 10 fold CV fue: {puntuaciones_precision_red.mean()* 100:.2f}%\")"
   ]
  },
  {
   "cell_type": "markdown",
   "id": "4a63bee1-50f3-4d11-aec2-f8172371284c",
   "metadata": {},
   "source": [
    "### 7.7 SVM"
   ]
  },
  {
   "cell_type": "markdown",
   "id": "36883d29-cd7a-44b4-bc44-6fac79e725a7",
   "metadata": {},
   "source": [
    "### 7.7.1 SVM con modelo sin rebalancear"
   ]
  },
  {
   "cell_type": "code",
   "execution_count": null,
   "id": "15d14ae5-c848-4c3e-9e09-b7ce2bbd4873",
   "metadata": {},
   "outputs": [],
   "source": [
    "# Define un rango de hiperparametros a optimizar (C y kernel)\n",
    "param_dist = {\n",
    "    'C': [1, 10, 100],\n",
    "    'kernel': ['linear', 'rbf'],\n",
    "}\n",
    "\n",
    "# Tomar un subconjunto de los datos para la búsqueda inicial\n",
    "subset_size = 500  # Define el tamaño del subconjunto\n",
    "X_subset, _, y_subset, _ = train_test_split(X_red, y_Red, train_size=subset_size, random_state=42)\n",
    "\n",
    "# Crear un objeto KFold para dividir los datos en k subconjuntos\n",
    "kf = KFold(n_splits=10, shuffle=True, random_state=42)\n",
    "\n",
    "# Dividir los datos en un conjunto de entrenamiento y prueba\n",
    "X_train, X_test, y_train, y_test = train_test_split(X_subset, y_subset, test_size=0.2, random_state=42)\n",
    "\n",
    "# Modelo a usar (SVM) e hiperparámetros a calibrar\n",
    "model = SVC()\n",
    "\n",
    "# Realizar la validación cruzada k-fold con búsqueda aleatoria (Randomized Search)\n",
    "random_search = RandomizedSearchCV(estimator=model, param_distributions=param_dist, cv=kf, scoring='accuracy', n_jobs=-1, n_iter=6)\n",
    "\n",
    "# Ajustar el modelo a los datos de entrenamiento y encontrar los mejores hiperparámetros\n",
    "random_search.fit(X_train, y_train)\n",
    "\n",
    "# Mostrar los mejores hiperparámetros encontrados\n",
    "best_params = random_search.best_params_\n",
    "print(\"Mejores hiperparámetros:\", best_params)\n",
    "# Puedes acceder al mejor modelo entrenado a través de random_search.best_estimator_\n",
    "best_model = random_search.best_estimator_\n",
    "\n",
    "# Usar el mejor modelo para hacer predicciones en datos de prueba\n",
    "predictions = best_model.predict(X_test)\n",
    "\n",
    "# Evaluar el rendimiento del mejor modelo en datos de prueba\n",
    "accuracy = accuracy_score(y_test, predictions)\n",
    "print(\"Precisión del mejor modelo en datos de prueba:\", accuracy)\n"
   ]
  },
  {
   "cell_type": "markdown",
   "id": "7e1e6d52-a069-498f-80e7-998d576ee5a9",
   "metadata": {},
   "source": [
    "### 7.7.2 SVM con modelo rebalanceado"
   ]
  },
  {
   "cell_type": "code",
   "execution_count": null,
   "id": "8c2a3198-90ab-473a-a053-614f1db154fa",
   "metadata": {},
   "outputs": [],
   "source": [
    "# Define un rango de hiperparametros a optimizar (C y kernel)\n",
    "param_dist = {\n",
    "    'C': [1, 10, 100],\n",
    "    'kernel': ['linear', 'rbf'],\n",
    "}\n",
    "\n",
    "# Tomar un subconjunto de los datos para la búsqueda inicial\n",
    "subset_size = 500  # Define el tamaño del subconjunto\n",
    "X_subset, _, y_subset, _ = train_test_split(X_resampled_red, y_resampled_Red, train_size=subset_size, random_state=42)\n",
    "\n",
    "# Crear un objeto KFold para dividir los datos en k subconjuntos\n",
    "kf = KFold(n_splits=10, shuffle=True, random_state=42)\n",
    "\n",
    "# Dividir los datos en un conjunto de entrenamiento y prueba\n",
    "X_train, X_test, y_train, y_test = train_test_split(X_subset, y_subset, test_size=0.2, random_state=42)\n",
    "\n",
    "# Modelo a usar (SVM) e hiperparámetros a calibrar\n",
    "model = SVC()\n",
    "\n",
    "# Realizar la validación cruzada k-fold con búsqueda aleatoria (Randomized Search)\n",
    "random_search = RandomizedSearchCV(estimator=model, param_distributions=param_dist, cv=kf, scoring='accuracy', n_jobs=-1, n_iter=6)\n",
    "\n",
    "# Ajustar el modelo a los datos de entrenamiento y encontrar los mejores hiperparámetros\n",
    "random_search.fit(X_train, y_train)\n",
    "\n",
    "# Mostrar los mejores hiperparámetros encontrados\n",
    "best_params = random_search.best_params_\n",
    "print(\"Mejores hiperparámetros:\", best_params)\n",
    "# Puedes acceder al mejor modelo entrenado a través de random_search.best_estimator_\n",
    "best_model = random_search.best_estimator_\n",
    "\n",
    "# Usar el mejor modelo para hacer predicciones en datos de prueba\n",
    "predictions = best_model.predict(X_test)\n",
    "\n",
    "# Evaluar el rendimiento del mejor modelo en datos de prueba\n",
    "accuracy = accuracy_score(y_test, predictions)\n",
    "print(\"Precisión del mejor modelo en datos de prueba:\", accuracy)\n"
   ]
  },
  {
   "cell_type": "markdown",
   "id": "07c96af2-753c-4d59-b154-64c1388247a6",
   "metadata": {},
   "source": [
    "### 7.8 KNN"
   ]
  },
  {
   "cell_type": "markdown",
   "id": "16889b26-eda4-4cf1-90a7-843378e776dd",
   "metadata": {},
   "source": [
    "### 7.8.1 5NN para muestra sin rebalancear"
   ]
  },
  {
   "cell_type": "code",
   "execution_count": 91,
   "id": "655bb79a-c8eb-46e6-9e63-22c05d712d40",
   "metadata": {},
   "outputs": [
    {
     "name": "stdout",
     "output_type": "stream",
     "text": [
      "Accurracy promedio: 0.8384680851063828\n",
      "Precisión promedio: 0.35184969643184194\n"
     ]
    }
   ],
   "source": [
    "#5-NN\n",
    "\n",
    "# Dividir los datos en entrenamiento (20%) y prueba (80%), con semilla\n",
    "x_train, x_test, y_train, y_test = train_test_split(X_red, y_red, test_size=0.2, random_state=42)\n",
    "\n",
    "# Entrenar el modelo k-NN con k=1\n",
    "k = 5\n",
    "knn = KNeighborsClassifier(n_neighbors=k)\n",
    "knn.fit(x_train, y_train)\n",
    "\n",
    "# prediccion\n",
    "y_pred = knn.predict(x_test)\n",
    "\n",
    "# Accuracy\n",
    "scores = cross_val_score(knn, X_red, y_red, cv=10)\n",
    "# Precision\n",
    "precision_scorer = make_scorer(precision_score, greater_is_better=True)\n",
    "puntuaciones_precision = cross_val_score(knn, X_red, y_red, cv=10, scoring=precision_scorer)\n",
    "\n",
    "print(\"Accurracy promedio:\", scores.mean())\n",
    "print(\"Precisión promedio:\", puntuaciones_precision.mean())"
   ]
  },
  {
   "cell_type": "markdown",
   "id": "ec6dc499-d087-48c7-968e-9686a3a5cda9",
   "metadata": {},
   "source": [
    "### 7.8.2 5NN para muestra rebalanceada"
   ]
  },
  {
   "cell_type": "code",
   "execution_count": 93,
   "id": "0e79b841-b5c0-45ae-8466-a9bccac76807",
   "metadata": {},
   "outputs": [
    {
     "name": "stdout",
     "output_type": "stream",
     "text": [
      "Accurracy promedio: 0.6090821387117684\n",
      "Precisión promedio: 0.5746070224510309\n"
     ]
    }
   ],
   "source": [
    "#5-NN\n",
    "\n",
    "# Dividir los datos en entrenamiento (20%) y prueba (80%), con semilla\n",
    "x_train, x_test, y_train, y_test = train_test_split(X_resampled_red, y_resampled_red, test_size=0.2, random_state=42)\n",
    "\n",
    "# Entrenar el modelo k-NN con k=1\n",
    "k = 5\n",
    "knn = KNeighborsClassifier(n_neighbors=k)\n",
    "knn.fit(x_train, y_train)\n",
    "\n",
    "# prediccion\n",
    "y_pred = knn.predict(x_test)\n",
    "\n",
    "# Accuracy\n",
    "scores = cross_val_score(knn, X_resampled, y_resampled_red, cv=10)\n",
    "# Precision\n",
    "precision_scorer = make_scorer(precision_score, greater_is_better=True)\n",
    "puntuaciones_precision = cross_val_score(knn, X_resampled_red, y_resampled_red, cv=10, scoring=precision_scorer)\n",
    "\n",
    "print(\"Accurracy promedio:\", scores.mean())\n",
    "print(\"Precisión promedio:\", puntuaciones_precision.mean())"
   ]
  },
  {
   "cell_type": "markdown",
   "id": "3b4d0957-b3a7-4d42-8075-7d4536e4a6f0",
   "metadata": {},
   "source": [
    "## 8. ML para modelo ridge"
   ]
  },
  {
   "cell_type": "markdown",
   "id": "05275176-1aaa-458a-a718-799819b574fd",
   "metadata": {},
   "source": [
    "### 8.1 Regresión ridge"
   ]
  },
  {
   "cell_type": "code",
   "execution_count": 95,
   "id": "175e07dc-dd9d-4a1b-8919-017aad9c64c4",
   "metadata": {},
   "outputs": [
    {
     "name": "stdout",
     "output_type": "stream",
     "text": [
      "El valor óptimo de alpha es: 98\n"
     ]
    }
   ],
   "source": [
    "# Establecer los lambdas\n",
    "alphas = list(range(1, 1000))\n",
    "\n",
    "# Crear un modelo de RidgeCV que selecciona automáticamente el mejor alpha\n",
    "ridge_cv = RidgeCV(alphas=alphas)\n",
    "\n",
    "# Realizar la validación cruzada para encontrar el mejor alpha\n",
    "ridge_cv.fit(X_estandarizada_pro, y_pro)\n",
    "\n",
    "# El valor óptimo de alpha\n",
    "alpha_optimo = ridge_cv.alpha_\n",
    "\n",
    "print(f'El valor óptimo de alpha es: {alpha_optimo}')"
   ]
  },
  {
   "cell_type": "code",
   "execution_count": 96,
   "id": "9ad30bbf-166f-4476-984d-e08eba3302e3",
   "metadata": {},
   "outputs": [
    {
     "name": "stdout",
     "output_type": "stream",
     "text": [
      "El accuracy del modelo un un lambda de: 58 es de 0.851063829787234\n"
     ]
    }
   ],
   "source": [
    "# Dado que ya tenemos el lambda, calculamos el accuracy del modelo\n",
    "\n",
    "lambda1 = 58\n",
    "num_folds = 10\n",
    "tamaño_fold = len(df) // num_folds\n",
    "\n",
    "df = pd.concat([y_red, X_estandarizada_pro], axis=1)\n",
    "accuracies = []\n",
    "\n",
    "\n",
    "# Loop sobre los folds\n",
    "for i in range(num_folds):\n",
    "  # Definir los índices de test y train\n",
    "  inicio_test = i * tamaño_fold\n",
    "  fin_test = (i + 1) * tamaño_fold\n",
    "\n",
    "  # Obtener los datos de test y train\n",
    "  df_test = df.iloc[inicio_test:fin_test]\n",
    "  df_train = pd.concat([df.iloc[:inicio_test], df.iloc[fin_test:]])\n",
    "\n",
    "  # Obtener y_train, X_train, y_test, X_test\n",
    "  y_train = df_train.iloc[:, 0]\n",
    "  X_train = df_train.iloc[:, 1:]\n",
    "  y_test = df_test.iloc[:, 0]\n",
    "  X_test = df_test.iloc[:, 1:]\n",
    "\n",
    "  # Calcular el beta\n",
    "  X_T = np.transpose(X_train)\n",
    "  X_T_X = np.dot(X_T, X_train) + lambda1*np.identity(X_train.shape[1])\n",
    "  X_T_X_inv = np.linalg.inv(X_T_X)\n",
    "  X_T_Y = np.dot(X_T, y_train)\n",
    "  Beta_train = np.dot(X_T_X_inv, X_T_Y)\n",
    "\n",
    "  # Calcular y_predict\n",
    "  y_predict = np.dot(X_test, Beta_train)\n",
    "  y_predict = np.where(y_predict < 0.85, 0, y_predict)\n",
    "  y_predict = np.where(y_predict > 0.85, 1, y_predict)\n",
    "\n",
    "  # Calcular accuracy\n",
    "  accuracy = np.mean(y_predict == y_test)\n",
    "  accuracies.append(accuracy)\n",
    "\n",
    "# Calcular el promedio de accuracies\n",
    "accuracy_promedio = np.mean(accuracies)\n",
    "print(f\"El accuracy del modelo un un lambda de: {lambda1} es de {accuracy_promedio}\")"
   ]
  },
  {
   "cell_type": "markdown",
   "id": "8966bd62-b2e7-4437-b5b6-7c3e22200c4f",
   "metadata": {},
   "source": [
    "### 8.2 Regresión QDA"
   ]
  },
  {
   "cell_type": "markdown",
   "id": "c5e9c480-f293-4057-8f7b-a6cf694a4d86",
   "metadata": {},
   "source": [
    "#### 8.2.1 QDA para muestra sin rebalancear"
   ]
  },
  {
   "cell_type": "code",
   "execution_count": 139,
   "id": "d5d1f1fd-986e-430f-bff2-6c2db358f191",
   "metadata": {},
   "outputs": [
    {
     "name": "stdout",
     "output_type": "stream",
     "text": [
      "El accuracy del modelo reducido por qda es de : 81.08%\n",
      "El resultado de precisión a través de Presicion por 10 fold CV fue: 32.58%\n"
     ]
    }
   ],
   "source": [
    "\n",
    "qda = QuadraticDiscriminantAnalysis()\n",
    "\n",
    "# Por 10 keyfold cv\n",
    "cv_scores_qda = cross_val_score(qda, X_pro, y_pro, cv=10, scoring='accuracy')\n",
    "print(f\"El accuracy del modelo reducido por qda es de : {cv_scores_qda.mean()* 100:.2f}%\")\n",
    "\n",
    "# 10 kf cross validation por precision\n",
    "precision_scorer = make_scorer(precision_score, greater_is_better=True)\n",
    "puntuaciones_precision_red = cross_val_score(qda, X_pro, y_pro, cv=10, scoring=precision_scorer)\n",
    "\n",
    "# Resultado de precisión promedio\n",
    "print(f\"El resultado de precisión a través de Presicion por 10 fold CV fue: {puntuaciones_precision_red.mean()* 100:.2f}%\")"
   ]
  },
  {
   "cell_type": "markdown",
   "id": "a43982f7-7fd1-4b0e-b3c9-586f1d2d3c26",
   "metadata": {},
   "source": [
    "#### 8.2.2 QDA para muestra rebalanceado"
   ]
  },
  {
   "cell_type": "code",
   "execution_count": 104,
   "id": "10f1de64-79e1-431f-a8d6-2fd9d3492729",
   "metadata": {},
   "outputs": [
    {
     "name": "stdout",
     "output_type": "stream",
     "text": [
      "El accuracy del modelo reducido por qda es de: 62.64%\n",
      "El resultado de precisión a través de Precision por 10 fold CV fue: 59.57%\n"
     ]
    }
   ],
   "source": [
    "oversampler = RandomOverSampler(sampling_strategy=0.3, random_state=42)\n",
    "X_resampled_pro, y_resampled_pro = oversampler.fit_resample(X_pro, y_pro)\n",
    "\n",
    "# Eliminar filas con valores NaN en y_resampled_pro\n",
    "resampled_data = pd.concat([X_resampled_pro, y_resampled_pro], axis=1)\n",
    "resampled_data = resampled_data.dropna(subset=[y_resampled_pro.name])\n",
    "\n",
    "X_resampled_pro = resampled_data.iloc[:, :-1]\n",
    "y_resampled_pro = resampled_data.iloc[:, -1]\n",
    "\n",
    "# Undersampling a los 0 (Current) para alcanzar un 70%\n",
    "undersampler = RandomUnderSampler(sampling_strategy=0.7, random_state=42)\n",
    "X_resampled_pro, y_resampled_pro = undersampler.fit_resample(X_resampled_pro, y_resampled_pro)\n",
    "\n",
    "# Para muestra sin rebalancear\n",
    "qda = QuadraticDiscriminantAnalysis()\n",
    "\n",
    "# Por 10 keyfold cv\n",
    "cv_scores_qda = cross_val_score(qda, X_resampled_pro, y_resampled_pro, cv=10, scoring='accuracy')\n",
    "print(f\"El accuracy del modelo reducido por qda es de: {cv_scores_qda.mean() * 100:.2f}%\")\n",
    "\n",
    "# 10 kf cross validation por precision\n",
    "precision_scorer = make_scorer(precision_score, greater_is_better=True)\n",
    "puntuaciones_precision_red = cross_val_score(qda, X_resampled_pro, y_resampled_pro, cv=10, scoring=precision_scorer)\n",
    "\n",
    "# Resultado de precisión promedio\n",
    "print(f\"El resultado de precisión a través de Precision por 10 fold CV fue: {puntuaciones_precision_red.mean() * 100:.2f}%\")\n"
   ]
  },
  {
   "cell_type": "markdown",
   "id": "0756fdb5-1322-4bbc-9137-e9d677f290a6",
   "metadata": {},
   "source": [
    "### 8.3 Regresión LDA"
   ]
  },
  {
   "cell_type": "markdown",
   "id": "0f615ee1-e6e0-40f5-bab3-795df9a03124",
   "metadata": {},
   "source": [
    "### 8.3.1 Regresión LDA con muestra sin rebalancear"
   ]
  },
  {
   "cell_type": "code",
   "execution_count": 106,
   "id": "bd66e6f7-fb79-4997-a431-c413fbef04d1",
   "metadata": {},
   "outputs": [
    {
     "name": "stdout",
     "output_type": "stream",
     "text": [
      "El accuracy del modelo reducido por lda es de : 84.92%\n",
      "El resultado de precisión a través de Presicion por 10 fold CV fue: 53.00%\n"
     ]
    }
   ],
   "source": [
    "lda = LinearDiscriminantAnalysis()\n",
    "\n",
    "# Realización de validación cruzada\n",
    "cv_scores_lda = cross_val_score(lda, X_pro, y_pro, cv=10, scoring='accuracy')\n",
    "print(f\"El accuracy del modelo reducido por lda es de : {cv_scores_lda.mean()* 100:.2f}%\")\n",
    "\n",
    "# 10 kf cross validation por precision\n",
    "precision_scorer = make_scorer(precision_score, greater_is_better=True)\n",
    "puntuaciones_precision_red = cross_val_score(lda, X_pro, y_pro, cv=10, scoring=precision_scorer)\n",
    "\n",
    "# Resultado de precisión promedio\n",
    "print(f\"El resultado de precisión a través de Presicion por 10 fold CV fue: {puntuaciones_precision_red.mean()* 100:.2f}%\")"
   ]
  },
  {
   "cell_type": "markdown",
   "id": "862c8067-5ef1-4c50-af56-4575fcac2aec",
   "metadata": {},
   "source": [
    "### 8.3.2 Regresión LDA con muestra rebalanceada"
   ]
  },
  {
   "cell_type": "code",
   "execution_count": 107,
   "id": "9db1a687-8188-46e2-bf46-38809b2ffc60",
   "metadata": {},
   "outputs": [
    {
     "name": "stdout",
     "output_type": "stream",
     "text": [
      "El accuracy del modelo reducido por lda es de : 65.44%\n",
      "El resultado de precisión a través de Presicion por 10 fold CV fue: 62.40%\n"
     ]
    }
   ],
   "source": [
    "lda = LinearDiscriminantAnalysis()\n",
    "\n",
    "# Realización de validación cruzada\n",
    "cv_scores_lda = cross_val_score(lda, X_resampled_pro, y_resampled_pro, cv=10, scoring='accuracy')\n",
    "print(f\"El accuracy del modelo reducido por lda es de : {cv_scores_lda.mean()* 100:.2f}%\")\n",
    "\n",
    "# 10 kf cross validation por precision\n",
    "precision_scorer = make_scorer(precision_score, greater_is_better=True)\n",
    "puntuaciones_precision_red = cross_val_score(lda, X_resampled_pro, y_resampled_pro, cv=10, scoring=precision_scorer)\n",
    "\n",
    "# Resultado de precisión promedio\n",
    "print(f\"El resultado de precisión a través de Presicion por 10 fold CV fue: {puntuaciones_precision_red.mean()* 100:.2f}%\")"
   ]
  },
  {
   "cell_type": "markdown",
   "id": "e04e70f2-4299-418d-8408-c7cc74b71470",
   "metadata": {},
   "source": [
    "### 8.4 Logistic Regression"
   ]
  },
  {
   "cell_type": "markdown",
   "id": "fc7187ed-0256-453e-a1bf-94f023c9fcd5",
   "metadata": {},
   "source": [
    "### 8.4.1 Logistic Regression para muestra sin rebalancear"
   ]
  },
  {
   "cell_type": "code",
   "execution_count": 113,
   "id": "6423acc5-1e24-4fca-a40c-171a06ba34b6",
   "metadata": {},
   "outputs": [
    {
     "name": "stdout",
     "output_type": "stream",
     "text": [
      "El accuracy del modelo reducido por logitic regression es de : 85.10%\n",
      "El resultado de precisión a través de Presicion por 10 fold CV fue: 0.00%\n"
     ]
    }
   ],
   "source": [
    "logistic_regression = LogisticRegression(max_iter=100)\n",
    "\n",
    "# Realizar validación cruzada\n",
    "cv_scores_lr = cross_val_score(logistic_regression, X_pro, y_pro, cv=10, scoring='accuracy')\n",
    "\n",
    "# Imprimir los resultados de la validación cruzada\n",
    "print(f\"El accuracy del modelo reducido por logitic regression es de : {cv_scores_lr.mean()* 100:.2f}%\")\n",
    "\n",
    "# 10 kf cross validation por precision\n",
    "precision_scorer = make_scorer(precision_score, greater_is_better=True)\n",
    "puntuaciones_precision_red = cross_val_score(logistic_regression, X_pro, y_pro, cv=10, scoring=precision_scorer)\n",
    "\n",
    "# Resultado de precisión promedio\n",
    "print(f\"El resultado de precisión a través de Presicion por 10 fold CV fue: {puntuaciones_precision_red.mean()* 100:.2f}%\")"
   ]
  },
  {
   "cell_type": "markdown",
   "id": "f3d84e6a-9bd8-4ad2-927b-871ccfcef7cd",
   "metadata": {},
   "source": [
    "\n",
    "### 8.4.2 Logistic Regression para muestra rebalanceada\n"
   ]
  },
  {
   "cell_type": "code",
   "execution_count": 114,
   "id": "fd87075d-7ee6-45ee-abaf-632893aad58f",
   "metadata": {},
   "outputs": [
    {
     "name": "stdout",
     "output_type": "stream",
     "text": [
      "El accuracy del modelo reducido por logitic regression es de : 60.92%\n",
      "El resultado de precisión a través de Presicion por 10 fold CV fue: 41.95%\n"
     ]
    }
   ],
   "source": [
    "\n",
    "logistic_regression = LogisticRegression(max_iter=1000)\n",
    "\n",
    "# Realizar validación cruzada\n",
    "cv_scores_lr = cross_val_score(logistic_regression, X_resampled_pro, y_resampled_pro, cv=10, scoring='accuracy')\n",
    "\n",
    "# Imprimir los resultados de la validación cruzada\n",
    "print(f\"El accuracy del modelo reducido por logitic regression es de : {cv_scores_lr.mean()* 100:.2f}%\")\n",
    "\n",
    "\n",
    "# 10 kf cross validation por precision\n",
    "precision_scorer = make_scorer(precision_score, greater_is_better=True)\n",
    "puntuaciones_precision_red = cross_val_score(logistic_regression, X_resampled_pro, y_resampled_pro, cv=10, scoring=precision_scorer)\n",
    "\n",
    "# Resultado de precisión promedio\n",
    "print(f\"El resultado de precisión a través de Presicion por 10 fold CV fue: {puntuaciones_precision_red.mean()* 100:.2f}%\")\n"
   ]
  },
  {
   "cell_type": "markdown",
   "id": "f9a70ba2-e042-4f7a-bab7-1bff492837ac",
   "metadata": {},
   "source": [
    "### 8.5 Gradient Boosting"
   ]
  },
  {
   "cell_type": "markdown",
   "id": "e6ef7643-a4ed-49ad-a846-9dc010fefd78",
   "metadata": {},
   "source": [
    "### 8.5.1 Gradient Boosting Modelo sin remuestrear"
   ]
  },
  {
   "cell_type": "code",
   "execution_count": 141,
   "id": "80cd564f-4d5f-4f50-b362-ddd4f5d92aca",
   "metadata": {},
   "outputs": [
    {
     "name": "stdout",
     "output_type": "stream",
     "text": [
      "Mejores hiperparámetros: {'learning_rate': 0.1, 'max_depth': 5, 'n_estimators': 57}\n"
     ]
    },
    {
     "ename": "NameError",
     "evalue": "name 'x' is not defined",
     "output_type": "error",
     "traceback": [
      "\u001b[1;31m---------------------------------------------------------------------------\u001b[0m",
      "\u001b[1;31mNameError\u001b[0m                                 Traceback (most recent call last)",
      "Cell \u001b[1;32mIn[141], line 34\u001b[0m\n\u001b[0;32m     31\u001b[0m best_model \u001b[38;5;241m=\u001b[39m grid_search\u001b[38;5;241m.\u001b[39mbest_estimator_\n\u001b[0;32m     33\u001b[0m \u001b[38;5;66;03m# Ahora puedes usar el mejor modelo para hacer predicciones en datos no vistos\u001b[39;00m\n\u001b[1;32m---> 34\u001b[0m X_test, y_test \u001b[38;5;241m=\u001b[39m \u001b[43mx\u001b[49m, y\n\u001b[0;32m     35\u001b[0m predictions \u001b[38;5;241m=\u001b[39m best_model\u001b[38;5;241m.\u001b[39mpredict(X_test)\n\u001b[0;32m     37\u001b[0m \u001b[38;5;66;03m# Evalúa el rendimiento del mejor modelo\u001b[39;00m\n",
      "\u001b[1;31mNameError\u001b[0m: name 'x' is not defined"
     ]
    }
   ],
   "source": [
    "# No correr - Se demora mucho \n",
    "import xgboost as xgb\n",
    "from sklearn.model_selection import GridSearchCV\n",
    "from sklearn.model_selection import KFold\n",
    "\n",
    "# Modelo a usar e hiperparametros a calibrar\n",
    "model = xgb.XGBClassifier()  # Usar XGBoost para clasificación\n",
    "param_grid = {\n",
    "    'n_estimators': list(range(1, 101)),            # Números de 1 a 100\n",
    "    'learning_rate': [0.01 * i for i in range(1, 11)],  # Tasa de aprendizaje de 0.01 a 0.1 en saltos de 0.01\n",
    "    'max_depth': list(range(1, 6))               # Profundidad máxima de 1 a 5\n",
    "}\n",
    "\n",
    "# Crea un objeto KFold para dividir los datos en k subconjuntos\n",
    "kf = KFold(n_splits=10, shuffle=True, random_state=42)\n",
    "\n",
    "# Realiza la validación cruzada k-fold con búsqueda de cuadrícula (Grid Search)\n",
    "grid_search = GridSearchCV(estimator=model, param_grid=param_grid, cv=kf, scoring='accuracy', n_jobs=-1)\n",
    "\n",
    "# Divide tus datos en características (X) y etiquetas (y) de entrenamiento\n",
    "X_train, y_train = X_pro, y_pro\n",
    "\n",
    "# Ajusta el modelo a los datos de entrenamiento y encuentra los mejores hiperparámetros\n",
    "grid_search.fit(X_train, y_train)\n",
    "\n",
    "# Muestra los mejores hiperparámetros encontrados\n",
    "best_params = grid_search.best_params_\n",
    "print(\"Mejores hiperparámetros:\", best_params)\n",
    "\n",
    "# Puedes acceder al mejor modelo entrenado a través de grid_search.best_estimator_\n",
    "best_model = grid_search.best_estimator_\n",
    "\n",
    "# Ahora puedes usar el mejor modelo para hacer predicciones en datos no vistos\n",
    "X_test, y_test = x, y\n",
    "predictions = best_model.predict(X_test)\n",
    "\n",
    "# Evalúa el rendimiento del mejor modelo\n",
    "from sklearn.metrics import accuracy_score\n",
    "accuracy = accuracy_score(y_test, predictions)\n",
    "print(\"Precisión del mejor modelo:\", accuracy)"
   ]
  },
  {
   "cell_type": "markdown",
   "id": "5f0894cf-34c0-42ac-a36a-41772760c6fa",
   "metadata": {},
   "source": [
    "### 8.5.2 Gradient Boosting Modelo rebalanceado"
   ]
  },
  {
   "cell_type": "code",
   "execution_count": null,
   "id": "aed69363-3e3f-45d1-a18d-0d65ed30a1c8",
   "metadata": {},
   "outputs": [],
   "source": [
    "# No correr - Se demora mucho \n",
    "\n",
    "import xgboost as xgb\n",
    "from sklearn.model_selection import GridSearchCV\n",
    "from sklearn.model_selection import KFold\n",
    "\n",
    "# Modelo a usar e hiperparametros a calibrar\n",
    "model = xgb.XGBClassifier()  # Usar XGBoost para clasificación\n",
    "param_grid = {\n",
    "    'n_estimators': list(range(1, 101)),            # Números de 1 a 100\n",
    "    'learning_rate': [0.01 * i for i in range(1, 11)],  # Tasa de aprendizaje de 0.01 a 0.1 en saltos de 0.01\n",
    "    'max_depth': list(range(1, 6))               # Profundidad máxima de 1 a 5\n",
    "}\n",
    "\n",
    "# Crea un objeto KFold para dividir los datos en k subconjuntos\n",
    "kf = KFold(n_splits=10, shuffle=True, random_state=42)\n",
    "\n",
    "# Realiza la validación cruzada k-fold con búsqueda de cuadrícula (Grid Search)\n",
    "grid_search = GridSearchCV(estimator=model, param_grid=param_grid, cv=kf, scoring='accuracy', n_jobs=-1)\n",
    "\n",
    "# Divide tus datos en características (X) y etiquetas (y) de entrenamiento\n",
    "X_train, y_train = X_resampled_pro, y_resampled_pro\n",
    "\n",
    "# Ajusta el modelo a los datos de entrenamiento y encuentra los mejores hiperparámetros\n",
    "grid_search.fit(X_train, y_train)\n",
    "\n",
    "# Muestra los mejores hiperparámetros encontrados\n",
    "best_params = grid_search.best_params_\n",
    "print(\"Mejores hiperparámetros:\", best_params)\n",
    "\n",
    "# Puedes acceder al mejor modelo entrenado a través de grid_search.best_estimator_\n",
    "best_model = grid_search.best_estimator_\n",
    "\n",
    "# Ahora puedes usar el mejor modelo para hacer predicciones en datos no vistos\n",
    "X_test, y_test = x, y\n",
    "predictions = best_model.predict(X_test)\n",
    "\n",
    "# Evalúa el rendimiento del mejor modelo\n",
    "from sklearn.metrics import accuracy_score\n",
    "accuracy = accuracy_score(y_test, predictions)\n",
    "print(\"Precisión del mejor modelo:\", accuracy)"
   ]
  },
  {
   "cell_type": "markdown",
   "id": "a3250a79-e5d9-421c-b10a-7f2bbc393bda",
   "metadata": {},
   "source": [
    "### 8.6 Random Forest"
   ]
  },
  {
   "cell_type": "markdown",
   "id": "976c2dae-b139-4300-b4a4-8156e22de36d",
   "metadata": {},
   "source": [
    "### 8.6.1 Random Forest con modelo sin rebalancear"
   ]
  },
  {
   "cell_type": "code",
   "execution_count": 135,
   "id": "7d220de9-80c3-426e-bbd0-dfee2313fbb9",
   "metadata": {},
   "outputs": [
    {
     "name": "stdout",
     "output_type": "stream",
     "text": [
      "La precisión del modelo reducido por random forest: 0.8523\n",
      "El resultado de precisión a través de Presicion por 10 fold CV fue: 51.77%\n"
     ]
    }
   ],
   "source": [
    "# Inicializar el modelo Random Forest\n",
    "random_forest = RandomForestClassifier(n_estimators=100, random_state=42)\n",
    "# n_estimators es el número de árboles en el bosque\n",
    "\n",
    "# Realizar validación cruzada\n",
    "cv_scores = cross_val_score(random_forest, X_pro, y_pro, cv=10, scoring='accuracy')  # 5-fold cross-validation\n",
    "\n",
    "# Imprimir los resultados de la validación cruzada\n",
    "print(f\"La precisión del modelo reducido por random forest: {cv_scores.mean():.4f}\")\n",
    "\n",
    "# 10 kf cross validation por precision\n",
    "precision_scorer = make_scorer(precision_score, greater_is_better=True)\n",
    "puntuaciones_precision_red = cross_val_score(random_forest, X_pro, y_pro, cv=10, scoring=precision_scorer)\n",
    "\n",
    "# Resultado de precisión promedio\n",
    "print(f\"El resultado de precisión a través de Presicion por 10 fold CV fue: {puntuaciones_precision_red.mean()* 100:.2f}%\")"
   ]
  },
  {
   "cell_type": "markdown",
   "id": "c0465773-2594-42a3-84e2-e920b6cdd00a",
   "metadata": {},
   "source": [
    "### 8.6.2 Random Forest con modelo rebalanceado"
   ]
  },
  {
   "cell_type": "code",
   "execution_count": 136,
   "id": "eb7722d0-7f28-4c05-b562-ce7b2d2e1f60",
   "metadata": {},
   "outputs": [
    {
     "name": "stdout",
     "output_type": "stream",
     "text": [
      "La precisión del modelo reducido por random forest: 0.8526\n",
      "El resultado de precisión a través de Presicion por 10 fold CV fue: 81.90%\n"
     ]
    }
   ],
   "source": [
    "# Inicializar el modelo Random Forest\n",
    "random_forest = RandomForestClassifier(n_estimators=100, random_state=42)\n",
    "# n_estimators es el número de árboles en el bosque\n",
    "\n",
    "# Realizar validación cruzada\n",
    "cv_scores = cross_val_score(random_forest, X_resampled_pro, y_resampled_pro, cv=10, scoring='accuracy')  # 5-fold cross-validation\n",
    "\n",
    "# Imprimir los resultados de la validación cruzada\n",
    "print(f\"La precisión del modelo reducido por random forest: {cv_scores.mean():.4f}\")\n",
    "\n",
    "# 10 kf cross validation por precision\n",
    "precision_scorer = make_scorer(precision_score, greater_is_better=True)\n",
    "puntuaciones_precision_red = cross_val_score(random_forest, X_resampled_pro, y_resampled_pro, cv=10, scoring=precision_scorer)\n",
    "\n",
    "# Resultado de precisión promedio\n",
    "print(f\"El resultado de precisión a través de Presicion por 10 fold CV fue: {puntuaciones_precision_red.mean()* 100:.2f}%\")"
   ]
  },
  {
   "cell_type": "markdown",
   "id": "9f416216-c784-4d58-b9e3-48fc5ad8e48e",
   "metadata": {},
   "source": [
    "### 8.7 SVM"
   ]
  },
  {
   "cell_type": "markdown",
   "id": "a26f3ac2-ed77-4bfc-9765-91ae7124cc32",
   "metadata": {},
   "source": [
    "### 8.7.1 SVM con modelo sin rebalancear"
   ]
  },
  {
   "cell_type": "code",
   "execution_count": null,
   "id": "6a22e01c-97e4-4163-953b-35b10a91926d",
   "metadata": {},
   "outputs": [],
   "source": [
    "# Define un rango de hiperparametros a optimizar (C y kernel)\n",
    "param_dist = {\n",
    "    'C': [1, 10, 100],\n",
    "    'kernel': ['linear', 'rbf'],\n",
    "}\n",
    "\n",
    "# Tomar un subconjunto de los datos para la búsqueda inicial\n",
    "subset_size = 500  # Define el tamaño del subconjunto\n",
    "X_subset, _, y_subset, _ = train_test_split(X_pro, y_pro, train_size=subset_size, random_state=42)\n",
    "\n",
    "# Crear un objeto KFold para dividir los datos en k subconjuntos\n",
    "kf = KFold(n_splits=10, shuffle=True, random_state=42)\n",
    "\n",
    "# Dividir los datos en un conjunto de entrenamiento y prueba\n",
    "X_train, X_test, y_train, y_test = train_test_split(X_subset, y_subset, test_size=0.2, random_state=42)\n",
    "\n",
    "# Modelo a usar (SVM) e hiperparámetros a calibrar\n",
    "model = SVC()\n",
    "\n",
    "# Realizar la validación cruzada k-fold con búsqueda aleatoria (Randomized Search)\n",
    "random_search = RandomizedSearchCV(estimator=model, param_distributions=param_dist, cv=kf, scoring='accuracy', n_jobs=-1, n_iter=6)\n",
    "\n",
    "# Ajustar el modelo a los datos de entrenamiento y encontrar los mejores hiperparámetros\n",
    "random_search.fit(X_train, y_train)\n",
    "\n",
    "# Mostrar los mejores hiperparámetros encontrados\n",
    "best_params = random_search.best_params_\n",
    "print(\"Mejores hiperparámetros:\", best_params)\n",
    "# Puedes acceder al mejor modelo entrenado a través de random_search.best_estimator_\n",
    "best_model = random_search.best_estimator_\n",
    "\n",
    "# Usar el mejor modelo para hacer predicciones en datos de prueba\n",
    "predictions = best_model.predict(X_test)\n",
    "\n",
    "# Evaluar el rendimiento del mejor modelo en datos de prueba\n",
    "accuracy = accuracy_score(y_test, predictions)\n",
    "print(\"Precisión del mejor modelo en datos de prueba:\", accuracy)\n",
    "\n",
    "\n",
    "### 7.7.2 SVM con modelo rebalanceado\n",
    "\n",
    "# Define un rango de hiperparametros a optimizar (C y kernel)\n",
    "param_dist = {\n",
    "    'C': [1, 10, 100],\n",
    "    'kernel': ['linear', 'rbf'],\n",
    "}\n",
    "\n",
    "# Tomar un subconjunto de los datos para la búsqueda inicial\n",
    "subset_size = 500  # Define el tamaño del subconjunto\n",
    "X_subset, _, y_subset, _ = train_test_split(X_resampled_red, y_resampled_Red, train_size=subset_size, random_state=42)\n",
    "\n",
    "# Crear un objeto KFold para dividir los datos en k subconjuntos\n",
    "kf = KFold(n_splits=10, shuffle=True, random_state=42)\n",
    "\n",
    "# Dividir los datos en un conjunto de entrenamiento y prueba\n",
    "X_train, X_test, y_train, y_test = train_test_split(X_subset, y_subset, test_size=0.2, random_state=42)\n",
    "\n",
    "# Modelo a usar (SVM) e hiperparámetros a calibrar\n",
    "model = SVC()\n",
    "\n",
    "# Realizar la validación cruzada k-fold con búsqueda aleatoria (Randomized Search)\n",
    "random_search = RandomizedSearchCV(estimator=model, param_distributions=param_dist, cv=kf, scoring='accuracy', n_jobs=-1, n_iter=6)\n",
    "\n",
    "# Ajustar el modelo a los datos de entrenamiento y encontrar los mejores hiperparámetros\n",
    "random_search.fit(X_train, y_train)\n",
    "\n",
    "# Mostrar los mejores hiperparámetros encontrados\n",
    "best_params = random_search.best_params_\n",
    "print(\"Mejores hiperparámetros:\", best_params)\n",
    "# Puedes acceder al mejor modelo entrenado a través de random_search.best_estimator_\n",
    "best_model = random_search.best_estimator_\n",
    "\n",
    "# Usar el mejor modelo para hacer predicciones en datos de prueba\n",
    "predictions = best_model.predict(X_test)\n",
    "\n",
    "# Evaluar el rendimiento del mejor modelo en datos de prueba\n",
    "accuracy = accuracy_score(y_test, predictions)\n",
    "print(\"Precisión del mejor modelo en datos de prueba:\", accuracy)\n"
   ]
  },
  {
   "cell_type": "markdown",
   "id": "83a1b800-2138-494d-883b-8c04339ca790",
   "metadata": {},
   "source": [
    "### 8.7.2 SVM con modelo rebalanceado\n"
   ]
  },
  {
   "cell_type": "code",
   "execution_count": null,
   "id": "d30d0cc5-d1d3-4257-8643-2f5ea8670c6c",
   "metadata": {},
   "outputs": [],
   "source": [
    "# Define un rango de hiperparametros a optimizar (C y kernel)\n",
    "param_dist = {\n",
    "    'C': [1, 10, 100],\n",
    "    'kernel': ['linear', 'rbf'],\n",
    "}\n",
    "\n",
    "# Tomar un subconjunto de los datos para la búsqueda inicial\n",
    "subset_size = 500  # Define el tamaño del subconjunto\n",
    "X_subset, _, y_subset, _ = train_test_split(X_resampled_pro, y_resampled_pro, train_size=subset_size, random_state=42)\n",
    "\n",
    "# Crear un objeto KFold para dividir los datos en k subconjuntos\n",
    "kf = KFold(n_splits=10, shuffle=True, random_state=42)\n",
    "\n",
    "# Dividir los datos en un conjunto de entrenamiento y prueba\n",
    "X_train, X_test, y_train, y_test = train_test_split(X_subset, y_subset, test_size=0.2, random_state=42)\n",
    "\n",
    "# Modelo a usar (SVM) e hiperparámetros a calibrar\n",
    "model = SVC()\n",
    "\n",
    "# Realizar la validación cruzada k-fold con búsqueda aleatoria (Randomized Search)\n",
    "random_search = RandomizedSearchCV(estimator=model, param_distributions=param_dist, cv=kf, scoring='accuracy', n_jobs=-1, n_iter=6)\n",
    "\n",
    "# Ajustar el modelo a los datos de entrenamiento y encontrar los mejores hiperparámetros\n",
    "random_search.fit(X_train, y_train)\n",
    "\n",
    "# Mostrar los mejores hiperparámetros encontrados\n",
    "best_params = random_search.best_params_\n",
    "print(\"Mejores hiperparámetros:\", best_params)\n",
    "# Puedes acceder al mejor modelo entrenado a través de random_search.best_estimator_\n",
    "best_model = random_search.best_estimator_\n",
    "\n",
    "# Usar el mejor modelo para hacer predicciones en datos de prueba\n",
    "predictions = best_model.predict(X_test)\n",
    "\n",
    "# Evaluar el rendimiento del mejor modelo en datos de prueba\n",
    "accuracy = accuracy_score(y_test, predictions)\n",
    "print(\"Precisión del mejor modelo en datos de prueba:\", accuracy)"
   ]
  },
  {
   "cell_type": "markdown",
   "id": "cf1a4cb8-d3e5-4c3e-aa6b-a49857f7f38b",
   "metadata": {},
   "source": [
    "### 8.8 KNN"
   ]
  },
  {
   "cell_type": "markdown",
   "id": "76cf6755-6f9a-46b7-9ebe-26f8fe48d98e",
   "metadata": {},
   "source": [
    "### 8.8.1 5NN para muestra sin rebalancear"
   ]
  },
  {
   "cell_type": "code",
   "execution_count": 116,
   "id": "ef8b439b-b307-4aba-9fa7-b2c70a9ffb23",
   "metadata": {},
   "outputs": [
    {
     "name": "stdout",
     "output_type": "stream",
     "text": [
      "Accurracy promedio: 0.8394893617021276\n",
      "Precisión promedio: 0.35184969643184194\n"
     ]
    }
   ],
   "source": [
    "#5-NN\n",
    "\n",
    "# Dividir los datos en entrenamiento (20%) y prueba (80%), con semilla\n",
    "x_train, x_test, y_train, y_test = train_test_split(X_red, y_red, test_size=0.2, random_state=42)\n",
    "\n",
    "# Entrenar el modelo k-NN con k=1\n",
    "k = 5\n",
    "knn = KNeighborsClassifier(n_neighbors=k)\n",
    "knn.fit(x_train, y_train)\n",
    "\n",
    "# prediccion\n",
    "y_pred = knn.predict(x_test)\n",
    "\n",
    "# Accuracy\n",
    "scores = cross_val_score(knn, X_pro, y_pro, cv=10)\n",
    "# Precision\n",
    "precision_scorer = make_scorer(precision_score, greater_is_better=True)\n",
    "puntuaciones_precision = cross_val_score(knn, X_red, y_red, cv=10, scoring=precision_scorer)\n",
    "\n",
    "print(\"Accurracy promedio:\", scores.mean())\n",
    "print(\"Precisión promedio:\", puntuaciones_precision.mean())"
   ]
  },
  {
   "cell_type": "markdown",
   "id": "5389e610-6916-40cf-82ba-fc59b86e8d2f",
   "metadata": {},
   "source": [
    "### 8.8.2 5NN para muestra rebalanceada"
   ]
  },
  {
   "cell_type": "code",
   "execution_count": 117,
   "id": "dbe40d71-4c0b-4b6b-8111-a44f6c62e15c",
   "metadata": {},
   "outputs": [
    {
     "name": "stdout",
     "output_type": "stream",
     "text": [
      "Accurracy promedio: 0.6701570720089239\n",
      "Precisión promedio: 0.598455733210588\n"
     ]
    }
   ],
   "source": [
    "#5-NN\n",
    "\n",
    "# Dividir los datos en entrenamiento (20%) y prueba (80%), con semilla\n",
    "x_train, x_test, y_train, y_test = train_test_split(X_resampled_pro, y_resampled_pro, test_size=0.2, random_state=42)\n",
    "\n",
    "# Entrenar el modelo k-NN con k=1\n",
    "k = 5\n",
    "knn = KNeighborsClassifier(n_neighbors=k)\n",
    "knn.fit(x_train, y_train)\n",
    "\n",
    "# prediccion\n",
    "y_pred = knn.predict(x_test)\n",
    "\n",
    "# Accuracy\n",
    "scores = cross_val_score(knn, X_resampled_pro, y_resampled_pro, cv=10)\n",
    "# Precision\n",
    "precision_scorer = make_scorer(precision_score, greater_is_better=True)\n",
    "puntuaciones_precision = cross_val_score(knn, X_resampled_pro, y_resampled_pro, cv=10, scoring=precision_scorer)\n",
    "\n",
    "print(\"Accurracy promedio:\", scores.mean())\n",
    "print(\"Precisión promedio:\", puntuaciones_precision.mean())"
   ]
  },
  {
   "cell_type": "markdown",
   "id": "f5d83915-14b4-479f-ad46-0a7416804747",
   "metadata": {},
   "source": [
    "## 9. ML para modelo completo\n"
   ]
  },
  {
   "cell_type": "markdown",
   "id": "2c4dff18-abaa-4259-beae-f38f32314637",
   "metadata": {},
   "source": [
    "### 9.1 Regresión ridge"
   ]
  },
  {
   "cell_type": "code",
   "execution_count": 120,
   "id": "6ce431fd-21c1-457a-8d45-cfebe7a84ea3",
   "metadata": {},
   "outputs": [
    {
     "name": "stdout",
     "output_type": "stream",
     "text": [
      "El valor óptimo de alpha es: 38\n"
     ]
    }
   ],
   "source": [
    "#Establecer los lambdas\n",
    "alphas = list(range(1, 1000))\n",
    "\n",
    "# Crear un modelo de RidgeCV que selecciona automáticamente el mejor alpha\n",
    "ridge_cv = RidgeCV(alphas=alphas)\n",
    "\n",
    "# Realizar la validación cruzada para encontrar el mejor alpha\n",
    "ridge_cv.fit(X_estandarizada, y)\n",
    "\n",
    "# El valor óptimo de alpha\n",
    "alpha_optimo = ridge_cv.alpha_\n",
    "\n",
    "print(f'El valor óptimo de alpha es: {alpha_optimo}')\n"
   ]
  },
  {
   "cell_type": "code",
   "execution_count": 121,
   "id": "8dabbc3a-7485-401c-a1a7-799e4dc32284",
   "metadata": {},
   "outputs": [
    {
     "name": "stdout",
     "output_type": "stream",
     "text": [
      "El accuracy del modelo un un lambda de: 38 es de 0.851659574468085\n"
     ]
    }
   ],
   "source": [
    "# Dado que ya tenemos el lambda, calculamos el accuracy del modelo\n",
    "\n",
    "lambda1 = 38\n",
    "num_folds = 10\n",
    "tamaño_fold = len(df) // num_folds\n",
    "\n",
    "df = pd.concat([y, X_estandarizada], axis=1)\n",
    "accuracies = []\n",
    "\n",
    "\n",
    "# Loop sobre los folds\n",
    "for i in range(num_folds):\n",
    "  # Definir los índices de test y train\n",
    "  inicio_test = i * tamaño_fold\n",
    "  fin_test = (i + 1) * tamaño_fold\n",
    "\n",
    "  # Obtener los datos de test y train\n",
    "  df_test = df.iloc[inicio_test:fin_test]\n",
    "  df_train = pd.concat([df.iloc[:inicio_test], df.iloc[fin_test:]])\n",
    "\n",
    "  # Obtener y_train, X_train, y_test, X_test\n",
    "  y_train = df_train.iloc[:, 0]\n",
    "  X_train = df_train.iloc[:, 1:]\n",
    "  y_test = df_test.iloc[:, 0]\n",
    "  X_test = df_test.iloc[:, 1:]\n",
    "\n",
    "  # Calcular el beta\n",
    "  X_T = np.transpose(X_train)\n",
    "  X_T_X = np.dot(X_T, X_train) + lambda1*np.identity(X_train.shape[1])\n",
    "  X_T_X_inv = np.linalg.inv(X_T_X)\n",
    "  X_T_Y = np.dot(X_T, y_train)\n",
    "  Beta_train = np.dot(X_T_X_inv, X_T_Y)\n",
    "\n",
    "  # Calcular y_predict\n",
    "  y_predict = np.dot(X_test, Beta_train)\n",
    "  y_predict = np.where(y_predict < 0.85, 0, y_predict)\n",
    "  y_predict = np.where(y_predict > 0.85, 1, y_predict)\n",
    "\n",
    "  # Calcular accuracy\n",
    "  accuracy = np.mean(y_predict == y_test)\n",
    "  accuracies.append(accuracy)\n",
    "\n",
    "# Calcular el promedio de accuracies\n",
    "accuracy_promedio = np.mean(accuracies)\n",
    "print(f\"El accuracy del modelo un un lambda de: {lambda1} es de {accuracy_promedio}\")"
   ]
  },
  {
   "cell_type": "markdown",
   "id": "95ad2c1f-362e-437d-88ff-cdc5190953ef",
   "metadata": {},
   "source": [
    "### 9.2 Regresión QDA\n"
   ]
  },
  {
   "cell_type": "markdown",
   "id": "2adeb4d4-47b4-439c-b01e-7dc6f679d2f5",
   "metadata": {},
   "source": [
    "#### 9.2.1 QDA para muestra sin rebalancear\n"
   ]
  },
  {
   "cell_type": "code",
   "execution_count": 122,
   "id": "e3e6263d-b256-4cff-b857-e3a70a449aff",
   "metadata": {},
   "outputs": [
    {
     "name": "stdout",
     "output_type": "stream",
     "text": [
      "El accuracy del modelo reducido por qda es de : 78.83%\n",
      "El resultado de precisión a través de Presicion por 10 fold CV fue: 27.50%\n"
     ]
    }
   ],
   "source": [
    "# Para muestra sin rebalancear\n",
    "qda = QuadraticDiscriminantAnalysis()\n",
    "\n",
    "# Por 10 keyfold cv\n",
    "cv_scores_qda = cross_val_score(qda, X, y, cv=10, scoring='accuracy')\n",
    "print(f\"El accuracy del modelo reducido por qda es de : {cv_scores_qda.mean()* 100:.2f}%\")\n",
    "\n",
    "# 10 kf cross validation por precision\n",
    "precision_scorer = make_scorer(precision_score, greater_is_better=True)\n",
    "puntuaciones_precision_red = cross_val_score(qda, X, y, cv=10, scoring=precision_scorer)\n",
    "\n",
    "# Resultado de precisión promedio\n",
    "print(f\"El resultado de precisión a través de Presicion por 10 fold CV fue: {puntuaciones_precision_red.mean()* 100:.2f}%\")"
   ]
  },
  {
   "cell_type": "markdown",
   "id": "e5276ec3-c8cc-4478-86c6-d0c29ecf06be",
   "metadata": {},
   "source": [
    "#### 9.2.2 QDA para muestra rebalanceado"
   ]
  },
  {
   "cell_type": "code",
   "execution_count": 124,
   "id": "23caf7e3-d582-4620-a7a4-71a1fd9cb625",
   "metadata": {},
   "outputs": [
    {
     "name": "stdout",
     "output_type": "stream",
     "text": [
      "El accuracy del modelo reducido por qda es de: 63.86%\n",
      "El resultado de precisión a través de Precision por 10 fold CV fue: 63.70%\n"
     ]
    }
   ],
   "source": [
    "# Para muestra sin rebalancear\n",
    "qda = QuadraticDiscriminantAnalysis()\n",
    "\n",
    "# Por 10 keyfold cv\n",
    "cv_scores_qda = cross_val_score(qda, X_resampled, y_resampled, cv=10, scoring='accuracy')\n",
    "print(f\"El accuracy del modelo reducido por qda es de: {cv_scores_qda.mean() * 100:.2f}%\")\n",
    "\n",
    "# 10 kf cross validation por precision\n",
    "precision_scorer = make_scorer(precision_score, greater_is_better=True)\n",
    "puntuaciones_precision_red = cross_val_score(qda, X_resampled, y_resampled, cv=10, scoring=precision_scorer)\n",
    "\n",
    "# Resultado de precisión promedio\n",
    "print(f\"El resultado de precisión a través de Precision por 10 fold CV fue: {puntuaciones_precision_red.mean() * 100:.2f}%\")\n"
   ]
  },
  {
   "cell_type": "markdown",
   "id": "70a00bd5-d1ec-47c3-823e-0904be45b799",
   "metadata": {},
   "source": [
    "### 9.3 Regresión LDA"
   ]
  },
  {
   "cell_type": "markdown",
   "id": "6d341687-d22f-4ea4-9644-c302cab405e0",
   "metadata": {},
   "source": [
    "### 9.3.1 Regresión LDA con muestra sin rebalancear"
   ]
  },
  {
   "cell_type": "code",
   "execution_count": 126,
   "id": "35358168-8f4b-4468-a0c3-61f592e1c6d8",
   "metadata": {},
   "outputs": [
    {
     "name": "stdout",
     "output_type": "stream",
     "text": [
      "El accuracy del modelo reducido por lda es de : 85.86%\n",
      "El resultado de precisión a través de Presicion por 10 fold CV fue: 61.52%\n"
     ]
    }
   ],
   "source": [
    "lda = LinearDiscriminantAnalysis()\n",
    "\n",
    "# Realización de validación cruzada\n",
    "cv_scores_lda = cross_val_score(lda, X, y, cv=10, scoring='accuracy')\n",
    "print(f\"El accuracy del modelo reducido por lda es de : {cv_scores_lda.mean()* 100:.2f}%\")\n",
    "\n",
    "# 10 kf cross validation por precision\n",
    "precision_scorer = make_scorer(precision_score, greater_is_better=True)\n",
    "puntuaciones_precision_red = cross_val_score(lda, X, y, cv=10, scoring=precision_scorer)\n",
    "\n",
    "# Resultado de precisión promedio\n",
    "print(f\"El resultado de precisión a través de Presicion por 10 fold CV fue: {puntuaciones_precision_red.mean()* 100:.2f}%\")\n"
   ]
  },
  {
   "cell_type": "markdown",
   "id": "b5bb2e15-0ba6-4cf0-be71-48b60ca11b6d",
   "metadata": {},
   "source": [
    "### 9.3.2 Regresión LDA con muestra rebalanceada"
   ]
  },
  {
   "cell_type": "code",
   "execution_count": 127,
   "id": "3609a924-79be-48c2-a82e-75e7cc9dc222",
   "metadata": {},
   "outputs": [
    {
     "name": "stdout",
     "output_type": "stream",
     "text": [
      "El accuracy del modelo reducido por lda es de : 72.70%\n",
      "El resultado de precisión a través de Presicion por 10 fold CV fue: 71.06%\n"
     ]
    }
   ],
   "source": [
    "lda = LinearDiscriminantAnalysis()\n",
    "\n",
    "# Realización de validación cruzada\n",
    "cv_scores_lda = cross_val_score(lda, X_resampled, y_resampled, cv=10, scoring='accuracy')\n",
    "print(f\"El accuracy del modelo reducido por lda es de : {cv_scores_lda.mean()* 100:.2f}%\")\n",
    "\n",
    "# 10 kf cross validation por precision\n",
    "precision_scorer = make_scorer(precision_score, greater_is_better=True)\n",
    "puntuaciones_precision_red = cross_val_score(lda, X_resampled, y_resampled, cv=10, scoring=precision_scorer)\n",
    "\n",
    "# Resultado de precisión promedio\n",
    "print(f\"El resultado de precisión a través de Presicion por 10 fold CV fue: {puntuaciones_precision_red.mean()* 100:.2f}%\")"
   ]
  },
  {
   "cell_type": "markdown",
   "id": "3267ceed-a575-4986-91df-e621477fb4e5",
   "metadata": {},
   "source": [
    "### 9.4 Logistic Regression"
   ]
  },
  {
   "cell_type": "markdown",
   "id": "6ad4cc08-5be0-426a-9232-85a89ec0e3e1",
   "metadata": {},
   "source": [
    "### 9.4.1 Logistic Regression para muestra sin rebalancear"
   ]
  },
  {
   "cell_type": "code",
   "execution_count": 128,
   "id": "a37890e1-e243-4429-a73c-58e080520d16",
   "metadata": {},
   "outputs": [
    {
     "name": "stdout",
     "output_type": "stream",
     "text": [
      "El accuracy del modelo reducido por logitic regression es de : 84.94%\n",
      "El resultado de precisión a través de Presicion por 10 fold CV fue: 22.14%\n"
     ]
    }
   ],
   "source": [
    "logistic_regression = LogisticRegression(max_iter=100)\n",
    "\n",
    "# Realizar validación cruzada\n",
    "cv_scores_lr = cross_val_score(logistic_regression, X, y, cv=10, scoring='accuracy')\n",
    "\n",
    "# Imprimir los resultados de la validación cruzada\n",
    "print(f\"El accuracy del modelo reducido por logitic regression es de : {cv_scores_lr.mean()* 100:.2f}%\")\n",
    "\n",
    "# 10 kf cross validation por precision\n",
    "precision_scorer = make_scorer(precision_score, greater_is_better=True)\n",
    "puntuaciones_precision_red = cross_val_score(logistic_regression, X, y, cv=10, scoring=precision_scorer)\n",
    "\n",
    "# Resultado de precisión promedio\n",
    "print(f\"El resultado de precisión a través de Presicion por 10 fold CV fue: {puntuaciones_precision_red.mean()* 100:.2f}%\")"
   ]
  },
  {
   "cell_type": "markdown",
   "id": "eb38f9b7-629a-42cc-9465-f86e5613f40d",
   "metadata": {},
   "source": [
    "### 9.4.2 Logistic Regression para muestra rebalanceada"
   ]
  },
  {
   "cell_type": "code",
   "execution_count": 132,
   "id": "064d318c-e215-4cdd-ae16-2a50b8448b4e",
   "metadata": {},
   "outputs": [
    {
     "name": "stdout",
     "output_type": "stream",
     "text": [
      "El accuracy del modelo reducido por logitic regression es de : 62.83%\n",
      "El resultado de precisión a través de Presicion por 10 fold CV fue: 59.07%\n"
     ]
    }
   ],
   "source": [
    "logistic_regression = LogisticRegression(max_iter=1000)\n",
    "\n",
    "# Realizar validación cruzada\n",
    "cv_scores_lr = cross_val_score(logistic_regression, X_resampled, y_resampled, cv=10, scoring='accuracy')\n",
    "\n",
    "# Imprimir los resultados de la validación cruzada\n",
    "print(f\"El accuracy del modelo reducido por logitic regression es de : {cv_scores_lr.mean()* 100:.2f}%\")\n",
    "\n",
    "\n",
    "# 10 kf cross validation por precision\n",
    "precision_scorer = make_scorer(precision_score, greater_is_better=True)\n",
    "puntuaciones_precision_red = cross_val_score(logistic_regression, X_resampled, y_resampled, cv=10, scoring=precision_scorer)\n",
    "\n",
    "# Resultado de precisión promedio\n",
    "print(f\"El resultado de precisión a través de Presicion por 10 fold CV fue: {puntuaciones_precision_red.mean()* 100:.2f}%\")\n"
   ]
  },
  {
   "cell_type": "markdown",
   "id": "07d44c52-884f-445b-a023-f6d2ade7cece",
   "metadata": {},
   "source": [
    "### 9.5 Gradient Boosting"
   ]
  },
  {
   "cell_type": "markdown",
   "id": "ff66fa56-2a46-4338-9497-5805fca20ea3",
   "metadata": {},
   "source": [
    "### 9.5.1 Gradient Boosting Modelo sin remuestrear"
   ]
  },
  {
   "cell_type": "code",
   "execution_count": 133,
   "id": "c890f1cf-df9d-4dbc-9293-76de07b2b18a",
   "metadata": {},
   "outputs": [
    {
     "name": "stdout",
     "output_type": "stream",
     "text": [
      "Mejores hiperparámetros: {'learning_rate': 0.09, 'max_depth': 5, 'n_estimators': 91}\n",
      "Precisión del mejor modelo: 0.9364255319148936\n"
     ]
    }
   ],
   "source": [
    "# No correr - Se demora mucho \n",
    "import xgboost as xgb\n",
    "from sklearn.model_selection import GridSearchCV\n",
    "from sklearn.model_selection import KFold\n",
    "\n",
    "# Modelo a usar e hiperparametros a calibrar\n",
    "model = xgb.XGBClassifier()  # Usar XGBoost para clasificación\n",
    "param_grid = {\n",
    "    'n_estimators': list(range(1, 101)),            # Números de 1 a 100\n",
    "    'learning_rate': [0.01 * i for i in range(1, 11)],  # Tasa de aprendizaje de 0.01 a 0.1 en saltos de 0.01\n",
    "    'max_depth': list(range(1, 6))               # Profundidad máxima de 1 a 5\n",
    "}\n",
    "\n",
    "# Crea un objeto KFold para dividir los datos en k subconjuntos\n",
    "kf = KFold(n_splits=10, shuffle=True, random_state=42)\n",
    "\n",
    "# Realiza la validación cruzada k-fold con búsqueda de cuadrícula (Grid Search)\n",
    "grid_search = GridSearchCV(estimator=model, param_grid=param_grid, cv=kf, scoring='accuracy', n_jobs=-1)\n",
    "\n",
    "# Divide tus datos en características (X) y etiquetas (y) de entrenamiento\n",
    "X_train, y_train = X, y\n",
    "\n",
    "# Ajusta el modelo a los datos de entrenamiento y encuentra los mejores hiperparámetros\n",
    "grid_search.fit(X_train, y_train)\n",
    "\n",
    "# Muestra los mejores hiperparámetros encontrados\n",
    "best_params = grid_search.best_params_\n",
    "print(\"Mejores hiperparámetros:\", best_params)\n",
    "\n",
    "# Puedes acceder al mejor modelo entrenado a través de grid_search.best_estimator_\n",
    "best_model = grid_search.best_estimator_\n",
    "\n",
    "# Ahora puedes usar el mejor modelo para hacer predicciones en datos no vistos\n",
    "X_test, y_test = X, y\n",
    "predictions = best_model.predict(X_test)\n",
    "\n",
    "# Evalúa el rendimiento del mejor modelo\n",
    "from sklearn.metrics import accuracy_score\n",
    "accuracy = accuracy_score(y_test, predictions)\n",
    "print(\"Precisión del mejor modelo:\", accuracy)"
   ]
  },
  {
   "cell_type": "markdown",
   "id": "1d48cb38-28da-4246-87e2-4f92a955092c",
   "metadata": {},
   "source": [
    "### 9.5.2 Gradient Boosting Modelo rebalanceado"
   ]
  },
  {
   "cell_type": "code",
   "execution_count": null,
   "id": "b3d7586e-669c-4bc4-ab57-b5b2b0e4cbcd",
   "metadata": {},
   "outputs": [],
   "source": [
    "# No correr - Se demora mucho \n",
    "\n",
    "import xgboost as xgb\n",
    "from sklearn.model_selection import GridSearchCV\n",
    "from sklearn.model_selection import KFold\n",
    "\n",
    "# Modelo a usar e hiperparametros a calibrar\n",
    "model = xgb.XGBClassifier()  # Usar XGBoost para clasificación\n",
    "param_grid = {\n",
    "    'n_estimators': list(range(1, 101)),            # Números de 1 a 100\n",
    "    'learning_rate': [0.01 * i for i in range(1, 11)],  # Tasa de aprendizaje de 0.01 a 0.1 en saltos de 0.01\n",
    "    'max_depth': list(range(1, 6))               # Profundidad máxima de 1 a 5\n",
    "}\n",
    "\n",
    "# Crea un objeto KFold para dividir los datos en k subconjuntos\n",
    "kf = KFold(n_splits=10, shuffle=True, random_state=42)\n",
    "\n",
    "# Realiza la validación cruzada k-fold con búsqueda de cuadrícula (Grid Search)\n",
    "grid_search = GridSearchCV(estimator=model, param_grid=param_grid, cv=kf, scoring='accuracy', n_jobs=-1)\n",
    "\n",
    "# Divide tus datos en características (X) y etiquetas (y) de entrenamiento\n",
    "X_train, y_train = X_resampled, y\n",
    "\n",
    "# Ajusta el modelo a los datos de entrenamiento y encuentra los mejores hiperparámetros\n",
    "grid_search.fit(X_train, y_train)\n",
    "\n",
    "# Muestra los mejores hiperparámetros encontrados\n",
    "best_params = grid_search.best_params_\n",
    "print(\"Mejores hiperparámetros:\", best_params)\n",
    "\n",
    "# Puedes acceder al mejor modelo entrenado a través de grid_search.best_estimator_\n",
    "best_model = grid_search.best_estimator_\n",
    "\n",
    "# Ahora puedes usar el mejor modelo para hacer predicciones en datos no vistos\n",
    "X_test, y_test = X, y\n",
    "predictions = best_model.predict(X_test)\n",
    "\n",
    "# Evalúa el rendimiento del mejor modelo\n",
    "from sklearn.metrics import accuracy_score\n",
    "accuracy = accuracy_score(y_test, predictions)\n",
    "print(\"Precisión del mejor modelo:\", accuracy)"
   ]
  },
  {
   "cell_type": "markdown",
   "id": "5d3f2dd4-2997-4b1d-a2d1-53134d4cbc43",
   "metadata": {},
   "source": [
    "### 9.6 Random Forest"
   ]
  },
  {
   "cell_type": "markdown",
   "id": "a170d2b4-ab15-4c0e-af64-dcfd4b34b9f6",
   "metadata": {},
   "source": [
    "### 9.6.1 Random Forest con modelo sin rebalancear"
   ]
  },
  {
   "cell_type": "code",
   "execution_count": 137,
   "id": "be1c5590-7164-4e7e-9c47-096e91b50e80",
   "metadata": {},
   "outputs": [
    {
     "name": "stdout",
     "output_type": "stream",
     "text": [
      "La precisión del modelo reducido por random forest: 0.8343\n",
      "El resultado de precisión a través de Presicion por 10 fold CV fue: 55.49%\n"
     ]
    }
   ],
   "source": [
    "# Inicializar el modelo Random Forest\n",
    "random_forest = RandomForestClassifier(n_estimators=100, random_state=42)\n",
    "# n_estimators es el número de árboles en el bosque\n",
    "\n",
    "# Realizar validación cruzada\n",
    "cv_scores = cross_val_score(random_forest, X, y, cv=10, scoring='accuracy')  # 5-fold cross-validation\n",
    "\n",
    "# Imprimir los resultados de la validación cruzada\n",
    "print(f\"La precisión del modelo reducido por random forest: {cv_scores.mean():.4f}\")\n",
    "\n",
    "# 10 kf cross validation por precision\n",
    "precision_scorer = make_scorer(precision_score, greater_is_better=True)\n",
    "puntuaciones_precision_red = cross_val_score(random_forest, X, y, cv=10, scoring=precision_scorer)\n",
    "\n",
    "# Resultado de precisión promedio\n",
    "print(f\"El resultado de precisión a través de Presicion por 10 fold CV fue: {puntuaciones_precision_red.mean()* 100:.2f}%\")\n"
   ]
  },
  {
   "cell_type": "markdown",
   "id": "00443061-6c1a-4464-8937-9c38959ce330",
   "metadata": {},
   "source": [
    "### 9.6.2 Random Forest con modelo rebalanceado\n"
   ]
  },
  {
   "cell_type": "code",
   "execution_count": 144,
   "id": "42517ad2-1904-4b0b-bb35-c82f4731a14c",
   "metadata": {},
   "outputs": [
    {
     "name": "stdout",
     "output_type": "stream",
     "text": [
      "La precisión del modelo reducido por random forest: 0.8805\n",
      "El resultado de precisión a través de Presicion por 10 fold CV fue: 86.89%\n"
     ]
    }
   ],
   "source": [
    "# Inicializar el modelo Random Forest\n",
    "random_forest = RandomForestClassifier(n_estimators=100, random_state=42)\n",
    "# n_estimators es el número de árboles en el bosque\n",
    "\n",
    "# Realizar validación cruzada\n",
    "cv_scores = cross_val_score(random_forest, X_resampled, y_resampled, cv=10, scoring='accuracy')  # 5-fold cross-validation\n",
    "\n",
    "# Imprimir los resultados de la validación cruzada\n",
    "print(f\"La precisión del modelo reducido por random forest: {cv_scores.mean():.4f}\")\n",
    "\n",
    "# 10 kf cross validation por precision\n",
    "precision_scorer = make_scorer(precision_score, greater_is_better=True)\n",
    "puntuaciones_precision_red = cross_val_score(random_forest, X_resampled, y_resampled, cv=10, scoring=precision_scorer)\n",
    "\n",
    "# Resultado de precisión promedio\n",
    "print(f\"El resultado de precisión a través de Presicion por 10 fold CV fue: {puntuaciones_precision_red.mean()* 100:.2f}%\")"
   ]
  },
  {
   "cell_type": "markdown",
   "id": "673dcc40-269b-483e-a769-eeac9695905b",
   "metadata": {},
   "source": [
    "### 9.7 SVM"
   ]
  },
  {
   "cell_type": "markdown",
   "id": "3b4546ab-54ce-4940-821e-7a95eb3a5900",
   "metadata": {},
   "source": [
    "### 9.7.1 SVM con modelo sin rebalancear\n"
   ]
  },
  {
   "cell_type": "code",
   "execution_count": null,
   "id": "2b78fb27-598e-4e14-a938-2659856688a7",
   "metadata": {},
   "outputs": [],
   "source": [
    "# Define un rango de hiperparametros a optimizar (C y kernel)\n",
    "param_dist = {\n",
    "    'C': [1, 10, 100],\n",
    "    'kernel': ['linear', 'rbf'],\n",
    "}\n",
    "\n",
    "# Tomar un subconjunto de los datos para la búsqueda inicial\n",
    "subset_size = 500  # Define el tamaño del subconjunto\n",
    "X_subset, _, y_subset, _ = train_test_split(X, y, train_size=subset_size, random_state=42)\n",
    "\n",
    "# Crear un objeto KFold para dividir los datos en k subconjuntos\n",
    "kf = KFold(n_splits=10, shuffle=True, random_state=42)\n",
    "\n",
    "# Dividir los datos en un conjunto de entrenamiento y prueba\n",
    "X_train, X_test, y_train, y_test = train_test_split(X_subset, y_subset, test_size=0.2, random_state=42)\n",
    "\n",
    "# Modelo a usar (SVM) e hiperparámetros a calibrar\n",
    "model = SVC()\n",
    "\n",
    "# Realizar la validación cruzada k-fold con búsqueda aleatoria (Randomized Search)\n",
    "random_search = RandomizedSearchCV(estimator=model, param_distributions=param_dist, cv=kf, scoring='accuracy', n_jobs=-1, n_iter=6)\n",
    "\n",
    "# Ajustar el modelo a los datos de entrenamiento y encontrar los mejores hiperparámetros\n",
    "random_search.fit(X_train, y_train)\n",
    "\n",
    "# Mostrar los mejores hiperparámetros encontrados\n",
    "best_params = random_search.best_params_\n",
    "print(\"Mejores hiperparámetros:\", best_params)\n",
    "# Puedes acceder al mejor modelo entrenado a través de random_search.best_estimator_\n",
    "best_model = random_search.best_estimator_\n",
    "\n",
    "# Usar el mejor modelo para hacer predicciones en datos de prueba\n",
    "predictions = best_model.predict(X_test)\n",
    "\n",
    "# Evaluar el rendimiento del mejor modelo en datos de prueba\n",
    "accuracy = accuracy_score(y_test, predictions)\n",
    "print(\"Precisión del mejor modelo en datos de prueba:\", accuracy)\n"
   ]
  },
  {
   "cell_type": "markdown",
   "id": "db4393e9-7379-45a2-94b0-1650eb2aa8ab",
   "metadata": {},
   "source": [
    "### 9.7.2 SVM con modelo rebalanceado"
   ]
  },
  {
   "cell_type": "code",
   "execution_count": null,
   "id": "478aefce-ec5e-48e3-b145-8a65c04c7d00",
   "metadata": {},
   "outputs": [],
   "source": [
    "# Define un rango de hiperparametros a optimizar (C y kernel)\n",
    "param_dist = {\n",
    "    'C': [1, 10, 100],\n",
    "    'kernel': ['linear', 'rbf'],\n",
    "}\n",
    "\n",
    "# Tomar un subconjunto de los datos para la búsqueda inicial\n",
    "subset_size = 500  # Define el tamaño del subconjunto\n",
    "X_subset, _, y_subset, _ = train_test_split(X_resampled, y_resampled, train_size=subset_size, random_state=42)\n",
    "\n",
    "# Crear un objeto KFold para dividir los datos en k subconjuntos\n",
    "kf = KFold(n_splits=10, shuffle=True, random_state=42)\n",
    "\n",
    "# Dividir los datos en un conjunto de entrenamiento y prueba\n",
    "X_train, X_test, y_train, y_test = train_test_split(X_subset, y_subset, test_size=0.2, random_state=42)\n",
    "\n",
    "# Modelo a usar (SVM) e hiperparámetros a calibrar\n",
    "model = SVC()\n",
    "\n",
    "# Realizar la validación cruzada k-fold con búsqueda aleatoria (Randomized Search)\n",
    "random_search = RandomizedSearchCV(estimator=model, param_distributions=param_dist, cv=kf, scoring='accuracy', n_jobs=-1, n_iter=6)\n",
    "\n",
    "# Ajustar el modelo a los datos de entrenamiento y encontrar los mejores hiperparámetros\n",
    "random_search.fit(X_train, y_train)\n",
    "\n",
    "# Mostrar los mejores hiperparámetros encontrados\n",
    "best_params = random_search.best_params_\n",
    "print(\"Mejores hiperparámetros:\", best_params)\n",
    "# Puedes acceder al mejor modelo entrenado a través de random_search.best_estimator_\n",
    "best_model = random_search.best_estimator_\n",
    "\n",
    "# Usar el mejor modelo para hacer predicciones en datos de prueba\n",
    "predictions = best_model.predict(X_test)\n",
    "\n"
   ]
  },
  {
   "cell_type": "markdown",
   "id": "d5542ee0-d5b9-4201-99d6-467d23c5893c",
   "metadata": {},
   "source": [
    "### 9.8 KNN"
   ]
  },
  {
   "cell_type": "markdown",
   "id": "de99269d-734c-4d5e-8a24-d02fbb0ed858",
   "metadata": {},
   "source": [
    "### 9.8.1 5NN para muestra sin rebalancear"
   ]
  },
  {
   "cell_type": "code",
   "execution_count": 140,
   "id": "5a500a7d-4a2d-44b0-ae0e-d5f5ab7dfe3b",
   "metadata": {},
   "outputs": [
    {
     "name": "stdout",
     "output_type": "stream",
     "text": [
      "Accurracy promedio: 0.8284255319148937\n",
      "Precisión promedio: 0.14921575333051548\n"
     ]
    }
   ],
   "source": [
    "#5-NN\n",
    "\n",
    "# Dividir los datos en entrenamiento (20%) y prueba (80%), con semilla\n",
    "x_train, x_test, y_train, y_test = train_test_split(X, y, test_size=0.2, random_state=42)\n",
    "\n",
    "# Entrenar el modelo k-NN con k=1\n",
    "k = 5\n",
    "knn = KNeighborsClassifier(n_neighbors=k)\n",
    "knn.fit(x_train, y_train)\n",
    "\n",
    "# prediccion\n",
    "y_pred = knn.predict(x_test)\n",
    "\n",
    "# Accuracy\n",
    "scores = cross_val_score(knn, X, y, cv=10)\n",
    "# Precision\n",
    "precision_scorer = make_scorer(precision_score, greater_is_better=True)\n",
    "puntuaciones_precision = cross_val_score(knn, X, y, cv=10, scoring=precision_scorer)\n",
    "\n",
    "print(\"Accurracy promedio:\", scores.mean())\n",
    "print(\"Precisión promedio:\", puntuaciones_precision.mean())"
   ]
  },
  {
   "cell_type": "markdown",
   "id": "b05a2a20-e206-456a-9591-d95be3447736",
   "metadata": {},
   "source": [
    "### 9.8.2 5NN para muestra rebalanceada"
   ]
  },
  {
   "cell_type": "code",
   "execution_count": 145,
   "id": "dd5206a9-bdd0-407b-976f-e387f8e6a650",
   "metadata": {},
   "outputs": [
    {
     "name": "stdout",
     "output_type": "stream",
     "text": [
      "Accurracy promedio: 0.6090821387117684\n",
      "Precisión promedio: 0.5230425099129056\n"
     ]
    },
    {
     "ename": "ValueError",
     "evalue": "Found input variables with inconsistent numbers of samples: [1457, 11750]",
     "output_type": "error",
     "traceback": [
      "\u001b[1;31m---------------------------------------------------------------------------\u001b[0m",
      "\u001b[1;31mValueError\u001b[0m                                Traceback (most recent call last)",
      "Cell \u001b[1;32mIn[145], line 27\u001b[0m\n\u001b[0;32m     21\u001b[0m \u001b[38;5;28mprint\u001b[39m(\u001b[38;5;124m\"\u001b[39m\u001b[38;5;124mPrecisión promedio:\u001b[39m\u001b[38;5;124m\"\u001b[39m, puntuaciones_precision\u001b[38;5;241m.\u001b[39mmean())\n\u001b[0;32m     26\u001b[0m \u001b[38;5;66;03m# Evaluar el rendimiento del mejor modelo en datos de prueba\u001b[39;00m\n\u001b[1;32m---> 27\u001b[0m accuracy \u001b[38;5;241m=\u001b[39m \u001b[43maccuracy_score\u001b[49m\u001b[43m(\u001b[49m\u001b[43my_test\u001b[49m\u001b[43m,\u001b[49m\u001b[43m \u001b[49m\u001b[43mpredictions\u001b[49m\u001b[43m)\u001b[49m\n\u001b[0;32m     28\u001b[0m \u001b[38;5;28mprint\u001b[39m(\u001b[38;5;124m\"\u001b[39m\u001b[38;5;124mPrecisión del mejor modelo en datos de prueba:\u001b[39m\u001b[38;5;124m\"\u001b[39m, accuracy)\n",
      "File \u001b[1;32m~\\AppData\\Local\\Programs\\Python\\Python312\\Lib\\site-packages\\sklearn\\utils\\_param_validation.py:214\u001b[0m, in \u001b[0;36mvalidate_params.<locals>.decorator.<locals>.wrapper\u001b[1;34m(*args, **kwargs)\u001b[0m\n\u001b[0;32m    208\u001b[0m \u001b[38;5;28;01mtry\u001b[39;00m:\n\u001b[0;32m    209\u001b[0m     \u001b[38;5;28;01mwith\u001b[39;00m config_context(\n\u001b[0;32m    210\u001b[0m         skip_parameter_validation\u001b[38;5;241m=\u001b[39m(\n\u001b[0;32m    211\u001b[0m             prefer_skip_nested_validation \u001b[38;5;129;01mor\u001b[39;00m global_skip_validation\n\u001b[0;32m    212\u001b[0m         )\n\u001b[0;32m    213\u001b[0m     ):\n\u001b[1;32m--> 214\u001b[0m         \u001b[38;5;28;01mreturn\u001b[39;00m \u001b[43mfunc\u001b[49m\u001b[43m(\u001b[49m\u001b[38;5;241;43m*\u001b[39;49m\u001b[43margs\u001b[49m\u001b[43m,\u001b[49m\u001b[43m \u001b[49m\u001b[38;5;241;43m*\u001b[39;49m\u001b[38;5;241;43m*\u001b[39;49m\u001b[43mkwargs\u001b[49m\u001b[43m)\u001b[49m\n\u001b[0;32m    215\u001b[0m \u001b[38;5;28;01mexcept\u001b[39;00m InvalidParameterError \u001b[38;5;28;01mas\u001b[39;00m e:\n\u001b[0;32m    216\u001b[0m     \u001b[38;5;66;03m# When the function is just a wrapper around an estimator, we allow\u001b[39;00m\n\u001b[0;32m    217\u001b[0m     \u001b[38;5;66;03m# the function to delegate validation to the estimator, but we replace\u001b[39;00m\n\u001b[0;32m    218\u001b[0m     \u001b[38;5;66;03m# the name of the estimator by the name of the function in the error\u001b[39;00m\n\u001b[0;32m    219\u001b[0m     \u001b[38;5;66;03m# message to avoid confusion.\u001b[39;00m\n\u001b[0;32m    220\u001b[0m     msg \u001b[38;5;241m=\u001b[39m re\u001b[38;5;241m.\u001b[39msub(\n\u001b[0;32m    221\u001b[0m         \u001b[38;5;124mr\u001b[39m\u001b[38;5;124m\"\u001b[39m\u001b[38;5;124mparameter of \u001b[39m\u001b[38;5;124m\\\u001b[39m\u001b[38;5;124mw+ must be\u001b[39m\u001b[38;5;124m\"\u001b[39m,\n\u001b[0;32m    222\u001b[0m         \u001b[38;5;124mf\u001b[39m\u001b[38;5;124m\"\u001b[39m\u001b[38;5;124mparameter of \u001b[39m\u001b[38;5;132;01m{\u001b[39;00mfunc\u001b[38;5;241m.\u001b[39m\u001b[38;5;18m__qualname__\u001b[39m\u001b[38;5;132;01m}\u001b[39;00m\u001b[38;5;124m must be\u001b[39m\u001b[38;5;124m\"\u001b[39m,\n\u001b[0;32m    223\u001b[0m         \u001b[38;5;28mstr\u001b[39m(e),\n\u001b[0;32m    224\u001b[0m     )\n",
      "File \u001b[1;32m~\\AppData\\Local\\Programs\\Python\\Python312\\Lib\\site-packages\\sklearn\\metrics\\_classification.py:220\u001b[0m, in \u001b[0;36maccuracy_score\u001b[1;34m(y_true, y_pred, normalize, sample_weight)\u001b[0m\n\u001b[0;32m    154\u001b[0m \u001b[38;5;250m\u001b[39m\u001b[38;5;124;03m\"\"\"Accuracy classification score.\u001b[39;00m\n\u001b[0;32m    155\u001b[0m \n\u001b[0;32m    156\u001b[0m \u001b[38;5;124;03mIn multilabel classification, this function computes subset accuracy:\u001b[39;00m\n\u001b[1;32m   (...)\u001b[0m\n\u001b[0;32m    216\u001b[0m \u001b[38;5;124;03m0.5\u001b[39;00m\n\u001b[0;32m    217\u001b[0m \u001b[38;5;124;03m\"\"\"\u001b[39;00m\n\u001b[0;32m    219\u001b[0m \u001b[38;5;66;03m# Compute accuracy for each possible representation\u001b[39;00m\n\u001b[1;32m--> 220\u001b[0m y_type, y_true, y_pred \u001b[38;5;241m=\u001b[39m \u001b[43m_check_targets\u001b[49m\u001b[43m(\u001b[49m\u001b[43my_true\u001b[49m\u001b[43m,\u001b[49m\u001b[43m \u001b[49m\u001b[43my_pred\u001b[49m\u001b[43m)\u001b[49m\n\u001b[0;32m    221\u001b[0m check_consistent_length(y_true, y_pred, sample_weight)\n\u001b[0;32m    222\u001b[0m \u001b[38;5;28;01mif\u001b[39;00m y_type\u001b[38;5;241m.\u001b[39mstartswith(\u001b[38;5;124m\"\u001b[39m\u001b[38;5;124mmultilabel\u001b[39m\u001b[38;5;124m\"\u001b[39m):\n",
      "File \u001b[1;32m~\\AppData\\Local\\Programs\\Python\\Python312\\Lib\\site-packages\\sklearn\\metrics\\_classification.py:84\u001b[0m, in \u001b[0;36m_check_targets\u001b[1;34m(y_true, y_pred)\u001b[0m\n\u001b[0;32m     57\u001b[0m \u001b[38;5;28;01mdef\u001b[39;00m \u001b[38;5;21m_check_targets\u001b[39m(y_true, y_pred):\n\u001b[0;32m     58\u001b[0m \u001b[38;5;250m    \u001b[39m\u001b[38;5;124;03m\"\"\"Check that y_true and y_pred belong to the same classification task.\u001b[39;00m\n\u001b[0;32m     59\u001b[0m \n\u001b[0;32m     60\u001b[0m \u001b[38;5;124;03m    This converts multiclass or binary types to a common shape, and raises a\u001b[39;00m\n\u001b[1;32m   (...)\u001b[0m\n\u001b[0;32m     82\u001b[0m \u001b[38;5;124;03m    y_pred : array or indicator matrix\u001b[39;00m\n\u001b[0;32m     83\u001b[0m \u001b[38;5;124;03m    \"\"\"\u001b[39;00m\n\u001b[1;32m---> 84\u001b[0m     \u001b[43mcheck_consistent_length\u001b[49m\u001b[43m(\u001b[49m\u001b[43my_true\u001b[49m\u001b[43m,\u001b[49m\u001b[43m \u001b[49m\u001b[43my_pred\u001b[49m\u001b[43m)\u001b[49m\n\u001b[0;32m     85\u001b[0m     type_true \u001b[38;5;241m=\u001b[39m type_of_target(y_true, input_name\u001b[38;5;241m=\u001b[39m\u001b[38;5;124m\"\u001b[39m\u001b[38;5;124my_true\u001b[39m\u001b[38;5;124m\"\u001b[39m)\n\u001b[0;32m     86\u001b[0m     type_pred \u001b[38;5;241m=\u001b[39m type_of_target(y_pred, input_name\u001b[38;5;241m=\u001b[39m\u001b[38;5;124m\"\u001b[39m\u001b[38;5;124my_pred\u001b[39m\u001b[38;5;124m\"\u001b[39m)\n",
      "File \u001b[1;32m~\\AppData\\Local\\Programs\\Python\\Python312\\Lib\\site-packages\\sklearn\\utils\\validation.py:407\u001b[0m, in \u001b[0;36mcheck_consistent_length\u001b[1;34m(*arrays)\u001b[0m\n\u001b[0;32m    405\u001b[0m uniques \u001b[38;5;241m=\u001b[39m np\u001b[38;5;241m.\u001b[39munique(lengths)\n\u001b[0;32m    406\u001b[0m \u001b[38;5;28;01mif\u001b[39;00m \u001b[38;5;28mlen\u001b[39m(uniques) \u001b[38;5;241m>\u001b[39m \u001b[38;5;241m1\u001b[39m:\n\u001b[1;32m--> 407\u001b[0m     \u001b[38;5;28;01mraise\u001b[39;00m \u001b[38;5;167;01mValueError\u001b[39;00m(\n\u001b[0;32m    408\u001b[0m         \u001b[38;5;124m\"\u001b[39m\u001b[38;5;124mFound input variables with inconsistent numbers of samples: \u001b[39m\u001b[38;5;132;01m%r\u001b[39;00m\u001b[38;5;124m\"\u001b[39m\n\u001b[0;32m    409\u001b[0m         \u001b[38;5;241m%\u001b[39m [\u001b[38;5;28mint\u001b[39m(l) \u001b[38;5;28;01mfor\u001b[39;00m l \u001b[38;5;129;01min\u001b[39;00m lengths]\n\u001b[0;32m    410\u001b[0m     )\n",
      "\u001b[1;31mValueError\u001b[0m: Found input variables with inconsistent numbers of samples: [1457, 11750]"
     ]
    }
   ],
   "source": [
    "#5-NN\n",
    "\n",
    "# Dividir los datos en entrenamiento (20%) y prueba (80%), con semilla\n",
    "x_train, x_test, y_train, y_test = train_test_split(X_resampled, y_resampled, test_size=0.2, random_state=42)\n",
    "\n",
    "# Entrenar el modelo k-NN con k=1\n",
    "k = 5\n",
    "knn = KNeighborsClassifier(n_neighbors=k)\n",
    "knn.fit(x_train, y_train)\n",
    "\n",
    "# prediccion\n",
    "y_pred = knn.predict(x_test)\n",
    "\n",
    "# Accuracy\n",
    "scores = cross_val_score(knn, X_resampled, y_resampled, cv=10)\n",
    "# Precision\n",
    "precision_scorer = make_scorer(precision_score, greater_is_better=True)\n",
    "puntuaciones_precision = cross_val_score(knn, X_resampled, y_resampled, cv=10, scoring=precision_scorer)\n",
    "\n",
    "print(\"Accurracy promedio:\", scores.mean())\n",
    "print(\"Precisión promedio:\", puntuaciones_precision.mean())\n",
    "\n",
    "\n",
    "\n",
    "\n",
    "# Evaluar el rendimiento del mejor modelo en datos de prueba\n",
    "accuracy = accuracy_score(y_test, predictions)\n",
    "print(\"Precisión del mejor modelo en datos de prueba:\", accuracy)\n"
   ]
  },
  {
   "cell_type": "code",
   "execution_count": null,
   "id": "d314d439-df67-4e14-9035-5b399de7b249",
   "metadata": {},
   "outputs": [],
   "source": []
  }
 ],
 "metadata": {
  "kernelspec": {
   "display_name": "Python 3 (ipykernel)",
   "language": "python",
   "name": "python3"
  },
  "language_info": {
   "codemirror_mode": {
    "name": "ipython",
    "version": 3
   },
   "file_extension": ".py",
   "mimetype": "text/x-python",
   "name": "python",
   "nbconvert_exporter": "python",
   "pygments_lexer": "ipython3",
   "version": "3.12.0"
  }
 },
 "nbformat": 4,
 "nbformat_minor": 5
}
